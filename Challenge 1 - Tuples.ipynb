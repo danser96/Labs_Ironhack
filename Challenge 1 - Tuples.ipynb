{
 "cells": [
  {
   "cell_type": "code",
   "execution_count": null,
   "id": "91fd43a8",
   "metadata": {},
   "outputs": [],
   "source": [
    "# In the cell below, define a variable tup with a single element \"I\""
   ]
  },
  {
   "cell_type": "code",
   "execution_count": 5,
   "id": "1786eee5",
   "metadata": {},
   "outputs": [],
   "source": [
    "tup = (\"i\",)"
   ]
  },
  {
   "cell_type": "code",
   "execution_count": null,
   "id": "2893c33d",
   "metadata": {},
   "outputs": [],
   "source": [
    "# Print the type of tup."
   ]
  },
  {
   "cell_type": "code",
   "execution_count": 6,
   "id": "74289dad",
   "metadata": {},
   "outputs": [
    {
     "data": {
      "text/plain": [
       "tuple"
      ]
     },
     "execution_count": 6,
     "metadata": {},
     "output_type": "execute_result"
    }
   ],
   "source": [
    "type(tup)"
   ]
  },
  {
   "cell_type": "code",
   "execution_count": null,
   "id": "e175c83b",
   "metadata": {},
   "outputs": [],
   "source": [
    "# Now try to append the following elements to tup"
   ]
  },
  {
   "cell_type": "code",
   "execution_count": null,
   "id": "9b42146e",
   "metadata": {},
   "outputs": [],
   "source": [
    "# you cant add to a tuple "
   ]
  },
  {
   "cell_type": "code",
   "execution_count": null,
   "id": "07bd8ae8",
   "metadata": {},
   "outputs": [],
   "source": [
    "# Re-assign the following elements"
   ]
  },
  {
   "cell_type": "code",
   "execution_count": 7,
   "id": "608a52a7",
   "metadata": {},
   "outputs": [],
   "source": [
    "tup = (\"I\", \"r\", \"o\", \"n\", \"h\", \"a\", \"c\", \"k\",)"
   ]
  },
  {
   "cell_type": "code",
   "execution_count": null,
   "id": "92be78b7",
   "metadata": {},
   "outputs": [],
   "source": [
    "# split tup into tup1 and tup2 with 4 elements in each"
   ]
  },
  {
   "cell_type": "code",
   "execution_count": 8,
   "id": "418ce6f1",
   "metadata": {},
   "outputs": [
    {
     "name": "stdout",
     "output_type": "stream",
     "text": [
      "('I', 'r', 'o', 'n')\n",
      "('h', 'a', 'c', 'k')\n"
     ]
    }
   ],
   "source": [
    "tup1 = tup [0:4]\n",
    "tup2 = tup [-4:]\n",
    "\n",
    "print(tup1)\n",
    "print(tup2)"
   ]
  },
  {
   "cell_type": "code",
   "execution_count": null,
   "id": "1f0afb5e",
   "metadata": {},
   "outputs": [],
   "source": [
    "#Add tup1 and tup2 into tup3 using the + operator."
   ]
  },
  {
   "cell_type": "code",
   "execution_count": 9,
   "id": "0af702e3",
   "metadata": {},
   "outputs": [
    {
     "data": {
      "text/plain": [
       "('I', 'r', 'o', 'n', 'h', 'a', 'c', 'k')"
      ]
     },
     "execution_count": 9,
     "metadata": {},
     "output_type": "execute_result"
    }
   ],
   "source": [
    "tup3 = tup1 + tup2\n",
    "tup3"
   ]
  },
  {
   "cell_type": "code",
   "execution_count": null,
   "id": "a578e850",
   "metadata": {},
   "outputs": [],
   "source": [
    "#Count the number of elements in tup1 and tup2. Then add the two counts together \n",
    "#and check if the sum is the same as the number of elements in tup3"
   ]
  },
  {
   "cell_type": "code",
   "execution_count": 11,
   "id": "fe937b5e",
   "metadata": {},
   "outputs": [
    {
     "data": {
      "text/plain": [
       "8"
      ]
     },
     "execution_count": 11,
     "metadata": {},
     "output_type": "execute_result"
    }
   ],
   "source": [
    "len(tup1) + len(tup2)"
   ]
  },
  {
   "cell_type": "code",
   "execution_count": 12,
   "id": "168d3055",
   "metadata": {},
   "outputs": [
    {
     "data": {
      "text/plain": [
       "8"
      ]
     },
     "execution_count": 12,
     "metadata": {},
     "output_type": "execute_result"
    }
   ],
   "source": [
    "len(tup3)"
   ]
  },
  {
   "cell_type": "code",
   "execution_count": null,
   "id": "4669db2c",
   "metadata": {},
   "outputs": [],
   "source": [
    "#What is the index number of \"h\" in tup3?"
   ]
  },
  {
   "cell_type": "code",
   "execution_count": 13,
   "id": "cdc57e65",
   "metadata": {},
   "outputs": [
    {
     "data": {
      "text/plain": [
       "4"
      ]
     },
     "execution_count": 13,
     "metadata": {},
     "output_type": "execute_result"
    }
   ],
   "source": [
    "tup3.index(\"h\")"
   ]
  },
  {
   "cell_type": "code",
   "execution_count": null,
   "id": "7687aa7b",
   "metadata": {},
   "outputs": [],
   "source": [
    "#Now, use a FOR loop to check whether each letter in the following list is present in tup3:"
   ]
  },
  {
   "cell_type": "code",
   "execution_count": 15,
   "id": "7dd63d62",
   "metadata": {},
   "outputs": [
    {
     "name": "stdout",
     "output_type": "stream",
     "text": [
      "True\n",
      "False\n",
      "True\n",
      "False\n",
      "False\n"
     ]
    }
   ],
   "source": [
    "letters = [\"a\", \"b\", \"c\", \"d\", \"e\"]\n",
    "\n",
    "for i in letters:\n",
    "    if i in tup3:\n",
    "        print(True)\n",
    "    else:\n",
    "        print(False)"
   ]
  },
  {
   "cell_type": "code",
   "execution_count": null,
   "id": "7114e3d6",
   "metadata": {},
   "outputs": [],
   "source": [
    "# How many times does each letter in letters appear in tup3?"
   ]
  },
  {
   "cell_type": "code",
   "execution_count": 36,
   "id": "09a18572",
   "metadata": {},
   "outputs": [
    {
     "name": "stdout",
     "output_type": "stream",
     "text": [
      "La letra a se repite 1 veces\n",
      "La letra b se repite 0 veces\n",
      "La letra c se repite 1 veces\n",
      "La letra d se repite 0 veces\n",
      "La letra e se repite 0 veces\n"
     ]
    }
   ],
   "source": [
    "def countX(tup3, x):\n",
    "    count = 0\n",
    "    for i in tup3:\n",
    "        #print('esto no es el if',i,x)\n",
    "        if (i == x):\n",
    "            #print(i,x)\n",
    "            count = count + 1\n",
    "    return count\n",
    "for i in letters:\n",
    "    print('La letra',i,'se repite',countX(tup3,i),'veces')\n",
    "\n",
    "#letters = [\"a\", \"b\", \"c\", \"d\", \"e\"]\n",
    "#var1 = \"a\"\n",
    "#var2 = \"c\"\n",
    "\n",
    "#print(countX(tup3, var1))\n",
    "#print(countX(tup3, var2))"
   ]
  },
  {
   "cell_type": "code",
   "execution_count": 18,
   "id": "bca717c9",
   "metadata": {},
   "outputs": [
    {
     "name": "stdout",
     "output_type": "stream",
     "text": [
      "('I', 'r', 'o', 'n', 'h', 'a', 'c', 'k')\n",
      "['a', 'b', 'c', 'd', 'e']\n"
     ]
    }
   ],
   "source": [
    "print(tup3)\n",
    "print(letters)"
   ]
  },
  {
   "cell_type": "code",
   "execution_count": 39,
   "id": "5c3bddb1",
   "metadata": {},
   "outputs": [
    {
     "name": "stdout",
     "output_type": "stream",
     "text": [
      "{'a': 1, 'b': 0, 'c': 1, 'd': 0, 'e': 0}\n"
     ]
    }
   ],
   "source": [
    "print({i:tup3.count(i) for i in letters})"
   ]
  },
  {
   "cell_type": "code",
   "execution_count": null,
   "id": "e3031c40",
   "metadata": {},
   "outputs": [],
   "source": []
  }
 ],
 "metadata": {
  "kernelspec": {
   "display_name": "Python 3 (ipykernel)",
   "language": "python",
   "name": "python3"
  },
  "language_info": {
   "codemirror_mode": {
    "name": "ipython",
    "version": 3
   },
   "file_extension": ".py",
   "mimetype": "text/x-python",
   "name": "python",
   "nbconvert_exporter": "python",
   "pygments_lexer": "ipython3",
   "version": "3.9.12"
  }
 },
 "nbformat": 4,
 "nbformat_minor": 5
}
