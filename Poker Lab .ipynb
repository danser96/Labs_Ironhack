{
 "cells": [
  {
   "cell_type": "code",
   "execution_count": 1,
   "id": "938eb702",
   "metadata": {},
   "outputs": [],
   "source": [
    "from scipy.special import comb"
   ]
  },
  {
   "cell_type": "markdown",
   "id": "17de62e0",
   "metadata": {},
   "source": [
    "# Game of the Chance\n",
    "In the lesson we have shown you how to use Python to calculate the probabilities and odds of the royal flush and straight flush in poker. In this lab you will calculate the probabilities of all other hands. Please be reminded that in the lesson there is a Poker Hands Probability Table you can refer to when you write Python code to calculate the probabilities.\n",
    "\n",
    "Challenge 1: four of a kind, full house, flush, and straight\n",
    "In the cell below, calculate the probability of getting each of the following hands:\n",
    "\n",
    "four of a kind\n",
    "full house\n",
    "flush\n",
    "straight\n"
   ]
  },
  {
   "cell_type": "markdown",
   "id": "41b9da3c",
   "metadata": {},
   "source": [
    "Assign your results to these variables: four_of_a_kind, full_house, flush, and straight. Then print them out to check if they are consistent with the probabilities as shown in the table."
   ]
  },
  {
   "cell_type": "code",
   "execution_count": 9,
   "id": "10fe02df",
   "metadata": {},
   "outputs": [],
   "source": [
    "# your code here\n",
    "four_of_a_kind = -1\n",
    "full_house = -1\n",
    "flush = -1\n",
    "straight = -1"
   ]
  },
  {
   "cell_type": "code",
   "execution_count": 18,
   "id": "332e2239",
   "metadata": {},
   "outputs": [
    {
     "data": {
      "text/plain": [
       "0.00024009603841536616"
      ]
     },
     "execution_count": 18,
     "metadata": {},
     "output_type": "execute_result"
    }
   ],
   "source": [
    "#four of one number and one random\n",
    "four_of_a_kind= comb(13,1)*comb(4,4)*comb(12,1)*comb(4,1)/comb(52,5)\n",
    "four_of_a_kind"
   ]
  },
  {
   "cell_type": "code",
   "execution_count": 19,
   "id": "9951ee34",
   "metadata": {},
   "outputs": [
    {
     "data": {
      "text/plain": [
       "0.0014405762304921968"
      ]
     },
     "execution_count": 19,
     "metadata": {},
     "output_type": "execute_result"
    }
   ],
   "source": [
    "#3 of one number and 2 of another number\n",
    "full_house = comb(13,1)*comb(4,3)*comb(12,1)*comb(4,2)/comb(52,5)\n",
    "full_house"
   ]
  },
  {
   "cell_type": "code",
   "execution_count": 20,
   "id": "3d3b7736",
   "metadata": {},
   "outputs": [
    {
     "data": {
      "text/plain": [
       "0.0019807923169267707"
      ]
     },
     "execution_count": 20,
     "metadata": {},
     "output_type": "execute_result"
    }
   ],
   "source": [
    "#five cards of the same kind\n",
    "flush = comb(13,5)*comb(4,1)/comb(52,5)\n",
    "flush"
   ]
  },
  {
   "cell_type": "code",
   "execution_count": 23,
   "id": "193d0515",
   "metadata": {},
   "outputs": [
    {
     "data": {
      "text/plain": [
       "5148.0"
      ]
     },
     "execution_count": 23,
     "metadata": {},
     "output_type": "execute_result"
    }
   ],
   "source": [
    "comb(13,5)*comb(4,1)"
   ]
  },
  {
   "cell_type": "code",
   "execution_count": 24,
   "id": "62f81342",
   "metadata": {},
   "outputs": [
    {
     "data": {
      "text/plain": [
       "40.0"
      ]
     },
     "execution_count": 24,
     "metadata": {},
     "output_type": "execute_result"
    }
   ],
   "source": [
    "comb(10,1)*comb(4,1)"
   ]
  },
  {
   "cell_type": "code",
   "execution_count": 26,
   "id": "b5186fb5",
   "metadata": {},
   "outputs": [
    {
     "data": {
      "text/plain": [
       "0.001965401545233478"
      ]
     },
     "execution_count": 26,
     "metadata": {},
     "output_type": "execute_result"
    }
   ],
   "source": [
    "flush = (comb(13,5)*comb(4,1)- comb(10,1)*comb(4,1))/comb(52,5)\n",
    "flush"
   ]
  },
  {
   "cell_type": "code",
   "execution_count": 29,
   "id": "e22dc2dc",
   "metadata": {},
   "outputs": [
    {
     "data": {
      "text/plain": [
       "0.003924646781789639"
      ]
     },
     "execution_count": 29,
     "metadata": {},
     "output_type": "execute_result"
    }
   ],
   "source": [
    "#numeric sequence, kind does not matter \n",
    "straight = (comb(10,1)*comb(4,1)**5 - comb(10,1)*comb(4,1))/comb(52,5)\n",
    "straight"
   ]
  },
  {
   "cell_type": "markdown",
   "id": "3a98c336",
   "metadata": {},
   "source": [
    "# Challenge 2: three of a kind, two pair, one pair, and no pair\n",
    "In the cell below, calculate the probability of getting each of the following hands:\n",
    "\n",
    "three of a kind\n",
    "\n",
    "two pair\n",
    "\n",
    "one pair\n",
    "\n",
    "no pair\n",
    "\n",
    "You need to figure out the math formulas by yourself. Check if your calculated probabilities are the same as shown in the table. Then assign your results to these variables: three_of_a_kind, two_pair, one_pair, and no_pair.\n",
    "\n",
    "If you are really stuck and frustrated you may scroll down to the section called \"Show your probabilities in table\" where we give you all the math formulas. But try not to look at them unless you've lost half of your hair 😏"
   ]
  },
  {
   "cell_type": "code",
   "execution_count": 10,
   "id": "d3ce8fbd",
   "metadata": {},
   "outputs": [],
   "source": [
    "# your code here\n",
    "three_of_a_kind = -1\n",
    "two_pair = -1\n",
    "one_pair = -1\n",
    "no_pair = -1"
   ]
  },
  {
   "cell_type": "code",
   "execution_count": 40,
   "id": "51f036c5",
   "metadata": {},
   "outputs": [
    {
     "data": {
      "text/plain": [
       "0.02112845138055222"
      ]
     },
     "execution_count": 40,
     "metadata": {},
     "output_type": "execute_result"
    }
   ],
   "source": [
    "#three of one number, two random\n",
    "three_of_a_kind = comb(13,1)*comb(4,3)*comb(12,2)*comb(4,1)*comb(4,1)/comb(52,5)\n",
    "three_of_a_kind"
   ]
  },
  {
   "cell_type": "code",
   "execution_count": null,
   "id": "e6d376da",
   "metadata": {},
   "outputs": [],
   "source": []
  },
  {
   "cell_type": "code",
   "execution_count": 52,
   "id": "ac60901c",
   "metadata": {},
   "outputs": [
    {
     "data": {
      "text/plain": [
       "0.051860744297719086"
      ]
     },
     "execution_count": 52,
     "metadata": {},
     "output_type": "execute_result"
    }
   ],
   "source": [
    "#two pairs of same number and one random number and kind\n",
    "two_pair = comb(13,2)*comb(4,2)*comb(4,2)*comb(12,1)*comb(4,1)/comb(52,5)\n",
    "two_pair"
   ]
  },
  {
   "cell_type": "code",
   "execution_count": 53,
   "id": "60bb2522",
   "metadata": {},
   "outputs": [
    {
     "data": {
      "text/plain": [
       "0.0475390156062425"
      ]
     },
     "execution_count": 53,
     "metadata": {},
     "output_type": "execute_result"
    }
   ],
   "source": [
    "two_pair = comb(13,2)*comb(4,2)*comb(4,2)*comb(11,1)*comb(4,1)/comb(52,5)\n",
    "two_pair"
   ]
  },
  {
   "cell_type": "code",
   "execution_count": 61,
   "id": "c5acc34e",
   "metadata": {},
   "outputs": [
    {
     "data": {
      "text/plain": [
       "1.6902761104441777"
      ]
     },
     "execution_count": 61,
     "metadata": {},
     "output_type": "execute_result"
    }
   ],
   "source": [
    "one_pair = comb(13,1)*comb(4,2)*comb(12,3)*comb(4,1)*comb(4,1)*comb(4,1)*comb(4,1)/comb(52,5)\n",
    "one_pair"
   ]
  },
  {
   "cell_type": "code",
   "execution_count": 58,
   "id": "f2beff93",
   "metadata": {},
   "outputs": [
    {
     "data": {
      "text/plain": [
       "0.4225690276110444"
      ]
     },
     "execution_count": 58,
     "metadata": {},
     "output_type": "execute_result"
    }
   ],
   "source": [
    "one_pair = comb(13,1)*comb(4,2)*comb(12,3)*comb(4,1)**3/comb(52,5)\n",
    "one_pair"
   ]
  },
  {
   "cell_type": "code",
   "execution_count": 69,
   "id": "360229dd",
   "metadata": {},
   "outputs": [
    {
     "data": {
      "text/plain": [
       "1317887.9999846092"
      ]
     },
     "execution_count": 69,
     "metadata": {},
     "output_type": "execute_result"
    }
   ],
   "source": [
    "no_pair= comb(13,5)*comb(4,1)**5- comb(10,1)*comb(4,1)/comb(52,5)\n",
    "no_pair"
   ]
  },
  {
   "cell_type": "code",
   "execution_count": null,
   "id": "3a3fb8e7",
   "metadata": {},
   "outputs": [],
   "source": []
  },
  {
   "cell_type": "markdown",
   "id": "3c9c6c7a",
   "metadata": {},
   "source": [
    "# Show your probabilities in table\n",
    "Execute the following cell to display the probabilities you calculated.\n",
    "\n",
    "The code sample below also shows you:\n",
    "\n",
    "How to format a float number as percentage.\n",
    "\n",
    "How to print a HTML table in Jupyter Notebook to display the values in a Python dictionary.\n",
    "\n",
    "It's useful to understand how the code sample works."
   ]
  },
  {
   "cell_type": "code",
   "execution_count": 12,
   "id": "dd91220f",
   "metadata": {
    "scrolled": true
   },
   "outputs": [
    {
     "data": {
      "text/html": [
       "<table style=\"width:100%;\"><tr><th>Cards</th><th>Hand</th><th>Probability</th><th>Math Expression</th></tr><tr><td><img src=\"royal-flush.jpeg\" style=\"float:right;\" /></td><td>royal flush</td><td>0.000154%</td><td><img src=\"royal-flush.svg\" style=\"float:right;\" /></td></tr><tr><td><img src=\"straight-flush.jpeg\" style=\"float:right;\" /></td><td>straight flush</td><td>0.001385%</td><td><img src=\"straight-flush.svg\" style=\"float:right;\" /></td></tr><tr><td><img src=\"four-of-kind.jpeg\" style=\"float:right;\" /></td><td>four of a kind</td><td>-100.000000%</td><td><img src=\"four-of-kind.svg\" style=\"float:right;\" /></td></tr><tr><td><img src=\"full-house.jpeg\" style=\"float:right;\" /></td><td>full house</td><td>-100.000000%</td><td><img src=\"full-house.svg\" style=\"float:right;\" /></td></tr><tr><td><img src=\"flush.jpeg\" style=\"float:right;\" /></td><td>flush</td><td>-100.000000%</td><td><img src=\"flush.svg\" style=\"float:right;\" /></td></tr><tr><td><img src=\"straight.jpeg\" style=\"float:right;\" /></td><td>straight</td><td>-100.000000%</td><td><img src=\"straight.svg\" style=\"float:right;\" /></td></tr><tr><td><img src=\"three-of-kind.jpeg\" style=\"float:right;\" /></td><td>three of a kind</td><td>-100.000000%</td><td><img src=\"three-of-kind.svg\" style=\"float:right;\" /></td></tr><tr><td><img src=\"two-pair.jpeg\" style=\"float:right;\" /></td><td>two pair</td><td>-100.000000%</td><td><img src=\"two-pair.svg\" style=\"float:right;\" /></td></tr><tr><td><img src=\"one-pair.jpeg\" style=\"float:right;\" /></td><td>one pair</td><td>-100.000000%</td><td><img src=\"one-pair.svg\" style=\"float:right;\" /></td></tr><tr><td><img src=\"no-pair.jpeg\" style=\"float:right;\" /></td><td>no pair</td><td>-100.000000%</td><td><img src=\"no-pair.svg\" style=\"float:right;\" /></td></tr></table>"
      ],
      "text/plain": [
       "<IPython.core.display.HTML object>"
      ]
     },
     "metadata": {},
     "output_type": "display_data"
    }
   ],
   "source": [
    "from scipy.special import comb\n",
    "from IPython.display import HTML, display\n",
    "\n",
    "probs = {\n",
    "    'royal flush': (4/comb(52, 5), 'royal-flush.jpeg', 'royal-flush.svg'),\n",
    "    'straight flush': ((comb(10,1)*comb(4,1)-comb(4,1))/comb(52, 5), 'straight-flush.jpeg', 'straight-flush.svg'),\n",
    "    'four of a kind': (four_of_a_kind, 'four-of-kind.jpeg', 'four-of-kind.svg'),\n",
    "    'full house': (full_house, 'full-house.jpeg', 'full-house.svg'),\n",
    "    'flush': (flush, 'flush.jpeg', 'flush.svg'),\n",
    "    'straight': (straight, 'straight.jpeg', 'straight.svg'),\n",
    "    'three of a kind': (three_of_a_kind, 'three-of-kind.jpeg', 'three-of-kind.svg'),\n",
    "    'two pair': (two_pair, 'two-pair.jpeg', 'two-pair.svg'),\n",
    "    'one pair': (one_pair, 'one-pair.jpeg', 'one-pair.svg'),\n",
    "    'no pair': (no_pair, 'no-pair.jpeg', 'no-pair.svg'),\n",
    "}\n",
    "\n",
    "def format_prob(prob):\n",
    "    return \"{}%\".format(format(prob*100, '.6f'))\n",
    "\n",
    "def get_image_html(src):\n",
    "    return '<img src=\"{}\" style=\"float:right;\" />'.format(src)\n",
    "\n",
    "display(HTML(\n",
    "   '<table style=\"width:100%;\"><tr><th>Cards</th><th>Hand</th><th>Probability</th><th>Math Expression</th></tr><tr>{}</tr></table>'.format(\n",
    "       '</tr><tr>'.join(\n",
    "           '<td>{}</td>'.format('</td><td>'.join([get_image_html(val[1]), key, format_prob(val[0]), get_image_html(val[2])])) for key, val in probs.items())\n",
    "       )\n",
    "))"
   ]
  },
  {
   "cell_type": "code",
   "execution_count": null,
   "id": "c92c4202",
   "metadata": {},
   "outputs": [],
   "source": []
  }
 ],
 "metadata": {
  "kernelspec": {
   "display_name": "Python 3 (ipykernel)",
   "language": "python",
   "name": "python3"
  },
  "language_info": {
   "codemirror_mode": {
    "name": "ipython",
    "version": 3
   },
   "file_extension": ".py",
   "mimetype": "text/x-python",
   "name": "python",
   "nbconvert_exporter": "python",
   "pygments_lexer": "ipython3",
   "version": "3.9.12"
  }
 },
 "nbformat": 4,
 "nbformat_minor": 5
}
