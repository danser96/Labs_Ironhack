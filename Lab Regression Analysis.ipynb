{
 "cells": [
  {
   "cell_type": "markdown",
   "metadata": {},
   "source": [
    "# Lab: Regression Analysis"
   ]
  },
  {
   "cell_type": "markdown",
   "metadata": {},
   "source": [
    "### Before you start:\n",
    "\n",
    "* Read the README.md file\n",
    "* Comment as much as you can and use the resources (README.md file) \n",
    "\n",
    "Happy learning!"
   ]
  },
  {
   "cell_type": "markdown",
   "metadata": {},
   "source": [
    "## Challenge 1\n",
    "I work at a coding bootcamp, and I have developed a theory that the younger my students are, the more often they are late to class. In order to test my hypothesis, I have collected some data in the following table:\n",
    "\n",
    "| StudentID | Age | Tardies |\n",
    "|--------|-----|------------|\n",
    "| 1      | 17  | 10         |\n",
    "| 2      | 51  | 1          |\n",
    "| 3      | 27  | 5          |\n",
    "| 4      | 21  | 9         |\n",
    "| 5      | 36  |  4         |\n",
    "| 6      | 48  |  2         |\n",
    "| 7      | 19  |  9         |\n",
    "| 8      | 26  | 6          |\n",
    "| 9      | 54  |  0         |\n",
    "| 10     | 30  |  3         |"
   ]
  },
  {
   "cell_type": "markdown",
   "metadata": {},
   "source": [
    "Use this command to create a dataframe with the data provided in the table. \n",
    "~~~~\n",
    "student_data = pd.DataFrame({'X': [x_values], 'Y': [y_values]})\n",
    "~~~~"
   ]
  },
  {
   "cell_type": "code",
   "execution_count": 26,
   "metadata": {},
   "outputs": [],
   "source": [
    "import pandas as pd\n",
    "import matplotlib.pyplot as plt\n",
    "import seaborn as sns\n",
    "import numpy as np\n",
    "from scipy.stats import pearsonr\n",
    "from sklearn.linear_model import LinearRegression"
   ]
  },
  {
   "cell_type": "code",
   "execution_count": 7,
   "metadata": {},
   "outputs": [
    {
     "data": {
      "text/html": [
       "<div>\n",
       "<style scoped>\n",
       "    .dataframe tbody tr th:only-of-type {\n",
       "        vertical-align: middle;\n",
       "    }\n",
       "\n",
       "    .dataframe tbody tr th {\n",
       "        vertical-align: top;\n",
       "    }\n",
       "\n",
       "    .dataframe thead th {\n",
       "        text-align: right;\n",
       "    }\n",
       "</style>\n",
       "<table border=\"1\" class=\"dataframe\">\n",
       "  <thead>\n",
       "    <tr style=\"text-align: right;\">\n",
       "      <th></th>\n",
       "      <th>X</th>\n",
       "      <th>Y</th>\n",
       "    </tr>\n",
       "  </thead>\n",
       "  <tbody>\n",
       "    <tr>\n",
       "      <th>0</th>\n",
       "      <td>17</td>\n",
       "      <td>10</td>\n",
       "    </tr>\n",
       "    <tr>\n",
       "      <th>1</th>\n",
       "      <td>51</td>\n",
       "      <td>1</td>\n",
       "    </tr>\n",
       "    <tr>\n",
       "      <th>2</th>\n",
       "      <td>27</td>\n",
       "      <td>5</td>\n",
       "    </tr>\n",
       "    <tr>\n",
       "      <th>3</th>\n",
       "      <td>21</td>\n",
       "      <td>9</td>\n",
       "    </tr>\n",
       "    <tr>\n",
       "      <th>4</th>\n",
       "      <td>36</td>\n",
       "      <td>4</td>\n",
       "    </tr>\n",
       "    <tr>\n",
       "      <th>5</th>\n",
       "      <td>48</td>\n",
       "      <td>2</td>\n",
       "    </tr>\n",
       "    <tr>\n",
       "      <th>6</th>\n",
       "      <td>19</td>\n",
       "      <td>9</td>\n",
       "    </tr>\n",
       "    <tr>\n",
       "      <th>7</th>\n",
       "      <td>26</td>\n",
       "      <td>6</td>\n",
       "    </tr>\n",
       "    <tr>\n",
       "      <th>8</th>\n",
       "      <td>54</td>\n",
       "      <td>0</td>\n",
       "    </tr>\n",
       "    <tr>\n",
       "      <th>9</th>\n",
       "      <td>30</td>\n",
       "      <td>3</td>\n",
       "    </tr>\n",
       "  </tbody>\n",
       "</table>\n",
       "</div>"
      ],
      "text/plain": [
       "    X   Y\n",
       "0  17  10\n",
       "1  51   1\n",
       "2  27   5\n",
       "3  21   9\n",
       "4  36   4\n",
       "5  48   2\n",
       "6  19   9\n",
       "7  26   6\n",
       "8  54   0\n",
       "9  30   3"
      ]
     },
     "execution_count": 7,
     "metadata": {},
     "output_type": "execute_result"
    }
   ],
   "source": [
    "# Your code here. \n",
    "student_data = pd.DataFrame({'X': [17,51,27,21,36,48,19,26,54,30], 'Y': [10,1,5,9,4,2,9,6,0,3]})\n",
    "student_data"
   ]
  },
  {
   "cell_type": "markdown",
   "metadata": {},
   "source": [
    "Draw a dispersion diagram (scatter plot) for the data."
   ]
  },
  {
   "cell_type": "code",
   "execution_count": 11,
   "metadata": {},
   "outputs": [
    {
     "data": {
      "text/plain": [
       "Text(22.049999999999997, 0.5, 'TARDIES')"
      ]
     },
     "execution_count": 11,
     "metadata": {},
     "output_type": "execute_result"
    },
    {
     "data": {
      "image/png": "[encoded data removed]",
      "text/plain": [
       "<Figure size 360x360 with 1 Axes>"
      ]
     },
     "metadata": {
      "needs_background": "light"
     },
     "output_type": "display_data"
    }
   ],
   "source": [
    "# Your code here.\n",
    "\n",
    "sns.lmplot(x ='X', y ='Y', data = student_data)\n",
    "plt.title('Age vs Tardies')\n",
    "# Set x-axis label\n",
    "plt.xlabel('AGE')\n",
    "# Set y-axis label\n",
    "plt.ylabel('TARDIES')"
   ]
  },
  {
   "cell_type": "markdown",
   "metadata": {},
   "source": [
    "Do you see a trend? Can you make any hypotheses about the relationship between age and number of tardies?"
   ]
  },
  {
   "cell_type": "code",
   "execution_count": 2,
   "metadata": {},
   "outputs": [],
   "source": [
    "# As peoples ages go up, their tardies go down."
   ]
  },
  {
   "cell_type": "markdown",
   "metadata": {},
   "source": [
    "Calculate the covariance and correlation of the variables in your plot. What is the difference between these two measures? Compare their values. What do they tell you in this case? Add your responses as comments after your code."
   ]
  },
  {
   "cell_type": "code",
   "execution_count": 19,
   "metadata": {},
   "outputs": [
    {
     "name": "stdout",
     "output_type": "stream",
     "text": [
      "Covariance matrix\n"
     ]
    },
    {
     "data": {
      "text/plain": [
       "(None,\n",
       " array([[187.65555556, -45.56666667],\n",
       "        [-45.56666667,  12.54444444]]))"
      ]
     },
     "execution_count": 19,
     "metadata": {},
     "output_type": "execute_result"
    }
   ],
   "source": [
    "print('Covariance matrix'),np.cov(student_data['X'],student_data['Y'])"
   ]
  },
  {
   "cell_type": "code",
   "execution_count": 60,
   "metadata": {},
   "outputs": [],
   "source": [
    "#np.correlate(student_data['X'],student_data['Y'])\n",
    "#pearsonr(student_data['X'],student_data['Y'])"
   ]
  },
  {
   "cell_type": "code",
   "execution_count": 23,
   "metadata": {},
   "outputs": [
    {
     "name": "stdout",
     "output_type": "stream",
     "text": [
      "          X         Y\n",
      "X  1.000000 -0.939163\n",
      "Y -0.939163  1.000000\n"
     ]
    }
   ],
   "source": [
    "print(student_data.corr())"
   ]
  },
  {
   "cell_type": "markdown",
   "metadata": {},
   "source": [
    "Build a regression model for this data. What will be your outcome variable? What type of regression are you using? Add your responses as comments after your code."
   ]
  },
  {
   "cell_type": "code",
   "execution_count": 65,
   "metadata": {},
   "outputs": [
    {
     "data": {
      "text/plain": [
       "0.8820265558250109"
      ]
     },
     "execution_count": 65,
     "metadata": {},
     "output_type": "execute_result"
    }
   ],
   "source": [
    "# Your response here.\n",
    "\n",
    "xpoints = np.array([17,51,27,21,36,48,19,26,54,30]).reshape(-1,1)\n",
    "ypoints = np.array([10,1,5,9,4,2,9,6,0,3])\n",
    "\n",
    "reg = LinearRegression().fit(xpoints, ypoints)\n",
    "reg.score(xpoints,ypoints)\n"
   ]
  },
  {
   "cell_type": "code",
   "execution_count": 67,
   "metadata": {},
   "outputs": [],
   "source": [
    "#Ordinary Least Squares is the method"
   ]
  },
  {
   "cell_type": "code",
   "execution_count": 66,
   "metadata": {},
   "outputs": [
    {
     "name": "stdout",
     "output_type": "stream",
     "text": [
      "[[17]\n",
      " [51]\n",
      " [27]\n",
      " [21]\n",
      " [36]\n",
      " [48]\n",
      " [19]\n",
      " [26]\n",
      " [54]\n",
      " [30]]\n"
     ]
    }
   ],
   "source": [
    "print(xpoints)"
   ]
  },
  {
   "cell_type": "markdown",
   "metadata": {},
   "source": [
    "Plot your regression model on your scatter plot."
   ]
  },
  {
   "cell_type": "code",
   "execution_count": 33,
   "metadata": {},
   "outputs": [
    {
     "data": {
      "text/plain": [
       "LinearRegression()"
      ]
     },
     "execution_count": 33,
     "metadata": {},
     "output_type": "execute_result"
    }
   ],
   "source": [
    "linreg = LinearRegression()\n",
    "linreg.fit(xpoints, ypoints)"
   ]
  },
  {
   "cell_type": "code",
   "execution_count": 34,
   "metadata": {},
   "outputs": [],
   "source": [
    "y_pred = linreg.predict(xpoints)"
   ]
  },
  {
   "cell_type": "code",
   "execution_count": 35,
   "metadata": {},
   "outputs": [
    {
     "data": {
      "image/png": "[encoded data removed]",
      "text/plain": [
       "<Figure size 432x288 with 1 Axes>"
      ]
     },
     "metadata": {
      "needs_background": "light"
     },
     "output_type": "display_data"
    }
   ],
   "source": [
    "plt.scatter(xpoints, ypoints)\n",
    "plt.plot(xpoints, y_pred)\n",
    "plt.xlabel('x-points')\n",
    "plt.ylabel('y-points')\n",
    "plt.show()"
   ]
  },
  {
   "cell_type": "code",
   "execution_count": 36,
   "metadata": {},
   "outputs": [
    {
     "name": "stdout",
     "output_type": "stream",
     "text": [
      "[-0.24282077]\n",
      "12.888803363135768\n"
     ]
    }
   ],
   "source": [
    "print(linreg.coef_)\n",
    "print(linreg.intercept_)"
   ]
  },
  {
   "cell_type": "markdown",
   "metadata": {},
   "source": [
    "Interpret the results of your model. What can conclusions can you draw from your model and how confident in these conclusions are you? Can we say that age is a good predictor of tardiness? Add your responses as comments after your code."
   ]
  },
  {
   "cell_type": "code",
   "execution_count": 3,
   "metadata": {},
   "outputs": [],
   "source": [
    "# We can see that as the ages go up people are less tardy\n",
    "#they are more responsible\n",
    "#with our score of 0.8820265558250109 we can see that there is not\n",
    "#much variance"
   ]
  },
  {
   "cell_type": "code",
   "execution_count": 73,
   "metadata": {},
   "outputs": [],
   "source": [
    "#x_new = np.array([10]).reshape(-1,1)\n",
    "#y_new = linreg.predict(x_new)\n",
    "#print(y_new)"
   ]
  },
  {
   "cell_type": "markdown",
   "metadata": {},
   "source": [
    "## Challenge 2\n",
    "For the second part of this lab, we will use the vehicles.csv data set. You can find a copy of the dataset in the git hub folder. This dataset includes variables related to vehicle characteristics, including the model, make, and energy efficiency standards, as well as each car's CO2 emissions. As discussed in class the goal of this exercise is to predict vehicles' CO2 emissions based on several independent variables. "
   ]
  },
  {
   "cell_type": "code",
   "execution_count": 40,
   "metadata": {},
   "outputs": [
    {
     "data": {
      "text/html": [
       "<div>\n",
       "<style scoped>\n",
       "    .dataframe tbody tr th:only-of-type {\n",
       "        vertical-align: middle;\n",
       "    }\n",
       "\n",
       "    .dataframe tbody tr th {\n",
       "        vertical-align: top;\n",
       "    }\n",
       "\n",
       "    .dataframe thead th {\n",
       "        text-align: right;\n",
       "    }\n",
       "</style>\n",
       "<table border=\"1\" class=\"dataframe\">\n",
       "  <thead>\n",
       "    <tr style=\"text-align: right;\">\n",
       "      <th></th>\n",
       "      <th>Make</th>\n",
       "      <th>Model</th>\n",
       "      <th>Year</th>\n",
       "      <th>Engine Displacement</th>\n",
       "      <th>Cylinders</th>\n",
       "      <th>Transmission</th>\n",
       "      <th>Drivetrain</th>\n",
       "      <th>Vehicle Class</th>\n",
       "      <th>Fuel Type</th>\n",
       "      <th>Fuel Barrels/Year</th>\n",
       "      <th>City MPG</th>\n",
       "      <th>Highway MPG</th>\n",
       "      <th>Combined MPG</th>\n",
       "      <th>CO2 Emission Grams/Mile</th>\n",
       "      <th>Fuel Cost/Year</th>\n",
       "    </tr>\n",
       "  </thead>\n",
       "  <tbody>\n",
       "    <tr>\n",
       "      <th>0</th>\n",
       "      <td>AM General</td>\n",
       "      <td>DJ Po Vehicle 2WD</td>\n",
       "      <td>1984</td>\n",
       "      <td>2.5</td>\n",
       "      <td>4.0</td>\n",
       "      <td>Automatic 3-spd</td>\n",
       "      <td>2-Wheel Drive</td>\n",
       "      <td>Special Purpose Vehicle 2WD</td>\n",
       "      <td>Regular</td>\n",
       "      <td>19.388824</td>\n",
       "      <td>18</td>\n",
       "      <td>17</td>\n",
       "      <td>17</td>\n",
       "      <td>522.764706</td>\n",
       "      <td>1950</td>\n",
       "    </tr>\n",
       "    <tr>\n",
       "      <th>1</th>\n",
       "      <td>AM General</td>\n",
       "      <td>FJ8c Post Office</td>\n",
       "      <td>1984</td>\n",
       "      <td>4.2</td>\n",
       "      <td>6.0</td>\n",
       "      <td>Automatic 3-spd</td>\n",
       "      <td>2-Wheel Drive</td>\n",
       "      <td>Special Purpose Vehicle 2WD</td>\n",
       "      <td>Regular</td>\n",
       "      <td>25.354615</td>\n",
       "      <td>13</td>\n",
       "      <td>13</td>\n",
       "      <td>13</td>\n",
       "      <td>683.615385</td>\n",
       "      <td>2550</td>\n",
       "    </tr>\n",
       "    <tr>\n",
       "      <th>2</th>\n",
       "      <td>AM General</td>\n",
       "      <td>Post Office DJ5 2WD</td>\n",
       "      <td>1985</td>\n",
       "      <td>2.5</td>\n",
       "      <td>4.0</td>\n",
       "      <td>Automatic 3-spd</td>\n",
       "      <td>Rear-Wheel Drive</td>\n",
       "      <td>Special Purpose Vehicle 2WD</td>\n",
       "      <td>Regular</td>\n",
       "      <td>20.600625</td>\n",
       "      <td>16</td>\n",
       "      <td>17</td>\n",
       "      <td>16</td>\n",
       "      <td>555.437500</td>\n",
       "      <td>2100</td>\n",
       "    </tr>\n",
       "    <tr>\n",
       "      <th>3</th>\n",
       "      <td>AM General</td>\n",
       "      <td>Post Office DJ8 2WD</td>\n",
       "      <td>1985</td>\n",
       "      <td>4.2</td>\n",
       "      <td>6.0</td>\n",
       "      <td>Automatic 3-spd</td>\n",
       "      <td>Rear-Wheel Drive</td>\n",
       "      <td>Special Purpose Vehicle 2WD</td>\n",
       "      <td>Regular</td>\n",
       "      <td>25.354615</td>\n",
       "      <td>13</td>\n",
       "      <td>13</td>\n",
       "      <td>13</td>\n",
       "      <td>683.615385</td>\n",
       "      <td>2550</td>\n",
       "    </tr>\n",
       "    <tr>\n",
       "      <th>4</th>\n",
       "      <td>ASC Incorporated</td>\n",
       "      <td>GNX</td>\n",
       "      <td>1987</td>\n",
       "      <td>3.8</td>\n",
       "      <td>6.0</td>\n",
       "      <td>Automatic 4-spd</td>\n",
       "      <td>Rear-Wheel Drive</td>\n",
       "      <td>Midsize Cars</td>\n",
       "      <td>Premium</td>\n",
       "      <td>20.600625</td>\n",
       "      <td>14</td>\n",
       "      <td>21</td>\n",
       "      <td>16</td>\n",
       "      <td>555.437500</td>\n",
       "      <td>2550</td>\n",
       "    </tr>\n",
       "  </tbody>\n",
       "</table>\n",
       "</div>"
      ],
      "text/plain": [
       "               Make                Model  Year  Engine Displacement  \\\n",
       "0        AM General    DJ Po Vehicle 2WD  1984                  2.5   \n",
       "1        AM General     FJ8c Post Office  1984                  4.2   \n",
       "2        AM General  Post Office DJ5 2WD  1985                  2.5   \n",
       "3        AM General  Post Office DJ8 2WD  1985                  4.2   \n",
       "4  ASC Incorporated                  GNX  1987                  3.8   \n",
       "\n",
       "   Cylinders     Transmission        Drivetrain                Vehicle Class  \\\n",
       "0        4.0  Automatic 3-spd     2-Wheel Drive  Special Purpose Vehicle 2WD   \n",
       "1        6.0  Automatic 3-spd     2-Wheel Drive  Special Purpose Vehicle 2WD   \n",
       "2        4.0  Automatic 3-spd  Rear-Wheel Drive  Special Purpose Vehicle 2WD   \n",
       "3        6.0  Automatic 3-spd  Rear-Wheel Drive  Special Purpose Vehicle 2WD   \n",
       "4        6.0  Automatic 4-spd  Rear-Wheel Drive                 Midsize Cars   \n",
       "\n",
       "  Fuel Type  Fuel Barrels/Year  City MPG  Highway MPG  Combined MPG  \\\n",
       "0   Regular          19.388824        18           17            17   \n",
       "1   Regular          25.354615        13           13            13   \n",
       "2   Regular          20.600625        16           17            16   \n",
       "3   Regular          25.354615        13           13            13   \n",
       "4   Premium          20.600625        14           21            16   \n",
       "\n",
       "   CO2 Emission Grams/Mile  Fuel Cost/Year  \n",
       "0               522.764706            1950  \n",
       "1               683.615385            2550  \n",
       "2               555.437500            2100  \n",
       "3               683.615385            2550  \n",
       "4               555.437500            2550  "
      ]
     },
     "execution_count": 40,
     "metadata": {},
     "output_type": "execute_result"
    }
   ],
   "source": [
    "# Import any libraries you may need & the data\n",
    "\n",
    "data = pd.read_csv('vehicles.csv')\n",
    "data.head()"
   ]
  },
  {
   "cell_type": "markdown",
   "metadata": {},
   "source": [
    "Let's use the following variables for our analysis: Year, Cylinders, Fuel Barrels/Year, Combined MPG, and Fuel Cost/Year. We will use 'CO2 Emission Grams/Mile' as our outcome variable. \n",
    "\n",
    "Calculate the correlations between each of these variables and the outcome. Which variable do you think will be the most important in determining CO2 emissions? Which provides the least amount of helpful information for determining CO2 emissions? Add your responses as comments after your code."
   ]
  },
  {
   "cell_type": "code",
   "execution_count": 74,
   "metadata": {
    "collapsed": true
   },
   "outputs": [
    {
     "name": "stdout",
     "output_type": "stream",
     "text": [
      "                             Year  Engine Displacement  Cylinders  \\\n",
      "Year                     1.000000             0.037876   0.082469   \n",
      "Engine Displacement      0.037876             1.000000   0.901858   \n",
      "Cylinders                0.082469             0.901858   1.000000   \n",
      "Fuel Barrels/Year       -0.221084             0.789752   0.739517   \n",
      "City MPG                 0.161818            -0.740317  -0.703866   \n",
      "Highway MPG              0.267259            -0.715039  -0.650287   \n",
      "Combined MPG             0.204751            -0.746782  -0.698648   \n",
      "CO2 Emission Grams/Mile -0.222300             0.803520   0.752393   \n",
      "Fuel Cost/Year          -0.091913             0.769678   0.778153   \n",
      "\n",
      "                         Fuel Barrels/Year  City MPG  Highway MPG  \\\n",
      "Year                             -0.221084  0.161818     0.267259   \n",
      "Engine Displacement               0.789752 -0.740317    -0.715039   \n",
      "Cylinders                         0.739517 -0.703866    -0.650287   \n",
      "Fuel Barrels/Year                 1.000000 -0.877752    -0.909664   \n",
      "City MPG                         -0.877752  1.000000     0.923856   \n",
      "Highway MPG                      -0.909664  0.923856     1.000000   \n",
      "Combined MPG                     -0.909743  0.985457     0.969392   \n",
      "CO2 Emission Grams/Mile           0.986189 -0.894139    -0.926405   \n",
      "Fuel Cost/Year                    0.916208 -0.858645    -0.851404   \n",
      "\n",
      "                         Combined MPG  CO2 Emission Grams/Mile  Fuel Cost/Year  \n",
      "Year                         0.204751                -0.222300       -0.091913  \n",
      "Engine Displacement         -0.746782                 0.803520        0.769678  \n",
      "Cylinders                   -0.698648                 0.752393        0.778153  \n",
      "Fuel Barrels/Year           -0.909743                 0.986189        0.916208  \n",
      "City MPG                     0.985457                -0.894139       -0.858645  \n",
      "Highway MPG                  0.969392                -0.926405       -0.851404  \n",
      "Combined MPG                 1.000000                -0.926229       -0.875185  \n",
      "CO2 Emission Grams/Mile     -0.926229                 1.000000        0.930865  \n",
      "Fuel Cost/Year              -0.875185                 0.930865        1.000000  \n"
     ]
    }
   ],
   "source": [
    "print(data.corr())"
   ]
  },
  {
   "cell_type": "code",
   "execution_count": 43,
   "metadata": {},
   "outputs": [
    {
     "data": {
      "text/plain": [
       "(-0.2222996029505423, 0.0)"
      ]
     },
     "execution_count": 43,
     "metadata": {},
     "output_type": "execute_result"
    }
   ],
   "source": [
    "pearsonr(data['Year'],data['CO2 Emission Grams/Mile'])"
   ]
  },
  {
   "cell_type": "code",
   "execution_count": 44,
   "metadata": {},
   "outputs": [
    {
     "data": {
      "text/plain": [
       "(0.7523925537297488, 0.0)"
      ]
     },
     "execution_count": 44,
     "metadata": {},
     "output_type": "execute_result"
    }
   ],
   "source": [
    "pearsonr(data['Cylinders'],data['CO2 Emission Grams/Mile'])"
   ]
  },
  {
   "cell_type": "code",
   "execution_count": 45,
   "metadata": {},
   "outputs": [
    {
     "data": {
      "text/plain": [
       "(0.986188662142873, 0.0)"
      ]
     },
     "execution_count": 45,
     "metadata": {},
     "output_type": "execute_result"
    }
   ],
   "source": [
    "pearsonr(data['Fuel Barrels/Year'],data['CO2 Emission Grams/Mile'])"
   ]
  },
  {
   "cell_type": "code",
   "execution_count": 47,
   "metadata": {},
   "outputs": [
    {
     "data": {
      "text/plain": [
       "(-0.9262290389336452, 0.0)"
      ]
     },
     "execution_count": 47,
     "metadata": {},
     "output_type": "execute_result"
    }
   ],
   "source": [
    "pearsonr(data['Combined MPG'],data['CO2 Emission Grams/Mile'])"
   ]
  },
  {
   "cell_type": "code",
   "execution_count": 48,
   "metadata": {},
   "outputs": [
    {
     "data": {
      "text/plain": [
       "(0.930865151220184, 0.0)"
      ]
     },
     "execution_count": 48,
     "metadata": {},
     "output_type": "execute_result"
    }
   ],
   "source": [
    "pearsonr(data['Fuel Cost/Year'],data['CO2 Emission Grams/Mile'])"
   ]
  },
  {
   "cell_type": "markdown",
   "metadata": {},
   "source": [
    "Build a regression model for this data. What type of regression are you using? Add your responses as comments after your code."
   ]
  },
  {
   "cell_type": "code",
   "execution_count": 55,
   "metadata": {},
   "outputs": [
    {
     "data": {
      "text/plain": [
       "0.9725680773391494"
      ]
     },
     "execution_count": 55,
     "metadata": {},
     "output_type": "execute_result"
    }
   ],
   "source": [
    "# Your response here. \n",
    "\n",
    "\n",
    "xpoints2 = np.array(data['Fuel Barrels/Year']).reshape(-1,1)\n",
    "ypoints2 = np.array(data['CO2 Emission Grams/Mile'])\n",
    "\n",
    "reg = LinearRegression().fit(xpoints, ypoints)\n",
    "reg.score(xpoints,ypoints)\n"
   ]
  },
  {
   "cell_type": "code",
   "execution_count": 56,
   "metadata": {},
   "outputs": [
    {
     "data": {
      "text/plain": [
       "LinearRegression()"
      ]
     },
     "execution_count": 56,
     "metadata": {},
     "output_type": "execute_result"
    }
   ],
   "source": [
    "linreg = LinearRegression()\n",
    "linreg.fit(xpoints, ypoints)"
   ]
  },
  {
   "cell_type": "code",
   "execution_count": 57,
   "metadata": {},
   "outputs": [],
   "source": [
    "y_pred = linreg.predict(xpoints)"
   ]
  },
  {
   "cell_type": "code",
   "execution_count": 58,
   "metadata": {},
   "outputs": [
    {
     "data": {
      "image/png": "[encoded data removed]",
      "text/plain": [
       "<Figure size 432x288 with 1 Axes>"
      ]
     },
     "metadata": {
      "needs_background": "light"
     },
     "output_type": "display_data"
    }
   ],
   "source": [
    "plt.scatter(xpoints2, ypoints2)\n",
    "plt.plot(xpoints2, y_pred)\n",
    "plt.xlabel('x-points2')\n",
    "plt.ylabel('y-points2')\n",
    "plt.show()"
   ]
  },
  {
   "cell_type": "code",
   "execution_count": 92,
   "metadata": {},
   "outputs": [
    {
     "data": {
      "text/plain": [
       "<seaborn.axisgrid.JointGrid at 0x7f92620b3fd0>"
      ]
     },
     "execution_count": 92,
     "metadata": {},
     "output_type": "execute_result"
    },
    {
     "data": {
      "image/png": "[encoded data removed]",
      "text/plain": [
       "<Figure size 432x432 with 3 Axes>"
      ]
     },
     "metadata": {
      "needs_background": "light"
     },
     "output_type": "display_data"
    }
   ],
   "source": [
    "sns.jointplot(x='Fuel Cost/Year', y='CO2 Emission Grams/Mile', data=data, kind='reg')"
   ]
  },
  {
   "cell_type": "code",
   "execution_count": 93,
   "metadata": {},
   "outputs": [
    {
     "data": {
      "text/plain": [
       "<seaborn.axisgrid.JointGrid at 0x7f9261c9fc10>"
      ]
     },
     "execution_count": 93,
     "metadata": {},
     "output_type": "execute_result"
    },
    {
     "data": {
      "image/png": "[encoded data removed]",
      "text/plain": [
       "<Figure size 432x432 with 3 Axes>"
      ]
     },
     "metadata": {
      "needs_background": "light"
     },
     "output_type": "display_data"
    }
   ],
   "source": [
    "sns.jointplot(x='Fuel Barrels/Year', y='CO2 Emission Grams/Mile', data=data, kind='reg')"
   ]
  },
  {
   "cell_type": "code",
   "execution_count": 94,
   "metadata": {},
   "outputs": [
    {
     "data": {
      "text/plain": [
       "<seaborn.axisgrid.JointGrid at 0x7f926210fa90>"
      ]
     },
     "execution_count": 94,
     "metadata": {},
     "output_type": "execute_result"
    },
    {
     "data": {
      "image/png": "[encoded data removed]",
      "text/plain": [
       "<Figure size 432x432 with 3 Axes>"
      ]
     },
     "metadata": {
      "needs_background": "light"
     },
     "output_type": "display_data"
    }
   ],
   "source": [
    "sns.jointplot(x='Combined MPG', y='CO2 Emission Grams/Mile', data=data, kind='reg')"
   ]
  },
  {
   "cell_type": "code",
   "execution_count": 95,
   "metadata": {},
   "outputs": [
    {
     "data": {
      "text/plain": [
       "<seaborn.axisgrid.JointGrid at 0x7f926424abb0>"
      ]
     },
     "execution_count": 95,
     "metadata": {},
     "output_type": "execute_result"
    },
    {
     "data": {
      "image/png": "[encoded data removed]",
      "text/plain": [
       "<Figure size 432x432 with 3 Axes>"
      ]
     },
     "metadata": {
      "needs_background": "light"
     },
     "output_type": "display_data"
    }
   ],
   "source": [
    "sns.jointplot(x='Cylinders', y='CO2 Emission Grams/Mile', data=data, kind='reg')"
   ]
  },
  {
   "cell_type": "code",
   "execution_count": 96,
   "metadata": {},
   "outputs": [
    {
     "data": {
      "text/plain": [
       "<seaborn.axisgrid.JointGrid at 0x7f92651de820>"
      ]
     },
     "execution_count": 96,
     "metadata": {},
     "output_type": "execute_result"
    },
    {
     "data": {
      "image/png": "[encoded data removed]",
      "text/plain": [
       "<Figure size 432x432 with 3 Axes>"
      ]
     },
     "metadata": {
      "needs_background": "light"
     },
     "output_type": "display_data"
    }
   ],
   "source": [
    "sns.jointplot(x='Year', y='CO2 Emission Grams/Mile', data=data, kind='reg')"
   ]
  },
  {
   "cell_type": "markdown",
   "metadata": {},
   "source": [
    "Print your regression summary, and interpret the results. What are the most important varibles in your model and why? What can conclusions can you draw from your model and how confident in these conclusions are you? Add your responses as comments after your code."
   ]
  },
  {
   "cell_type": "code",
   "execution_count": 78,
   "metadata": {},
   "outputs": [],
   "source": [
    "import statsmodels.api as sm"
   ]
  },
  {
   "cell_type": "code",
   "execution_count": 82,
   "metadata": {},
   "outputs": [],
   "source": [
    "vehicles = data[['Year', 'Cylinders', 'Fuel Barrels/Year', 'Combined MPG', 'Fuel Cost/Year', 'CO2 Emission Grams/Mile']]"
   ]
  },
  {
   "cell_type": "code",
   "execution_count": 85,
   "metadata": {
    "scrolled": true
   },
   "outputs": [
    {
     "data": {
      "text/html": [
       "<div>\n",
       "<style scoped>\n",
       "    .dataframe tbody tr th:only-of-type {\n",
       "        vertical-align: middle;\n",
       "    }\n",
       "\n",
       "    .dataframe tbody tr th {\n",
       "        vertical-align: top;\n",
       "    }\n",
       "\n",
       "    .dataframe thead th {\n",
       "        text-align: right;\n",
       "    }\n",
       "</style>\n",
       "<table border=\"1\" class=\"dataframe\">\n",
       "  <thead>\n",
       "    <tr style=\"text-align: right;\">\n",
       "      <th></th>\n",
       "      <th>const</th>\n",
       "      <th>Year</th>\n",
       "      <th>Cylinders</th>\n",
       "      <th>Fuel Barrels/Year</th>\n",
       "      <th>Combined MPG</th>\n",
       "      <th>Fuel Cost/Year</th>\n",
       "    </tr>\n",
       "  </thead>\n",
       "  <tbody>\n",
       "    <tr>\n",
       "      <th>0</th>\n",
       "      <td>1.0</td>\n",
       "      <td>1984</td>\n",
       "      <td>4.0</td>\n",
       "      <td>19.388824</td>\n",
       "      <td>17</td>\n",
       "      <td>1950</td>\n",
       "    </tr>\n",
       "    <tr>\n",
       "      <th>1</th>\n",
       "      <td>1.0</td>\n",
       "      <td>1984</td>\n",
       "      <td>6.0</td>\n",
       "      <td>25.354615</td>\n",
       "      <td>13</td>\n",
       "      <td>2550</td>\n",
       "    </tr>\n",
       "    <tr>\n",
       "      <th>2</th>\n",
       "      <td>1.0</td>\n",
       "      <td>1985</td>\n",
       "      <td>4.0</td>\n",
       "      <td>20.600625</td>\n",
       "      <td>16</td>\n",
       "      <td>2100</td>\n",
       "    </tr>\n",
       "    <tr>\n",
       "      <th>3</th>\n",
       "      <td>1.0</td>\n",
       "      <td>1985</td>\n",
       "      <td>6.0</td>\n",
       "      <td>25.354615</td>\n",
       "      <td>13</td>\n",
       "      <td>2550</td>\n",
       "    </tr>\n",
       "    <tr>\n",
       "      <th>4</th>\n",
       "      <td>1.0</td>\n",
       "      <td>1987</td>\n",
       "      <td>6.0</td>\n",
       "      <td>20.600625</td>\n",
       "      <td>16</td>\n",
       "      <td>2550</td>\n",
       "    </tr>\n",
       "    <tr>\n",
       "      <th>5</th>\n",
       "      <td>1.0</td>\n",
       "      <td>1997</td>\n",
       "      <td>4.0</td>\n",
       "      <td>14.982273</td>\n",
       "      <td>22</td>\n",
       "      <td>1500</td>\n",
       "    </tr>\n",
       "    <tr>\n",
       "      <th>6</th>\n",
       "      <td>1.0</td>\n",
       "      <td>1997</td>\n",
       "      <td>4.0</td>\n",
       "      <td>13.733750</td>\n",
       "      <td>24</td>\n",
       "      <td>1400</td>\n",
       "    </tr>\n",
       "    <tr>\n",
       "      <th>7</th>\n",
       "      <td>1.0</td>\n",
       "      <td>1997</td>\n",
       "      <td>6.0</td>\n",
       "      <td>16.480500</td>\n",
       "      <td>20</td>\n",
       "      <td>1650</td>\n",
       "    </tr>\n",
       "    <tr>\n",
       "      <th>8</th>\n",
       "      <td>1.0</td>\n",
       "      <td>1998</td>\n",
       "      <td>4.0</td>\n",
       "      <td>14.982273</td>\n",
       "      <td>22</td>\n",
       "      <td>1500</td>\n",
       "    </tr>\n",
       "    <tr>\n",
       "      <th>9</th>\n",
       "      <td>1.0</td>\n",
       "      <td>1998</td>\n",
       "      <td>4.0</td>\n",
       "      <td>13.733750</td>\n",
       "      <td>24</td>\n",
       "      <td>1400</td>\n",
       "    </tr>\n",
       "    <tr>\n",
       "      <th>10</th>\n",
       "      <td>1.0</td>\n",
       "      <td>1998</td>\n",
       "      <td>6.0</td>\n",
       "      <td>16.480500</td>\n",
       "      <td>20</td>\n",
       "      <td>1650</td>\n",
       "    </tr>\n",
       "    <tr>\n",
       "      <th>11</th>\n",
       "      <td>1.0</td>\n",
       "      <td>1999</td>\n",
       "      <td>4.0</td>\n",
       "      <td>14.982273</td>\n",
       "      <td>22</td>\n",
       "      <td>1500</td>\n",
       "    </tr>\n",
       "    <tr>\n",
       "      <th>12</th>\n",
       "      <td>1.0</td>\n",
       "      <td>1999</td>\n",
       "      <td>4.0</td>\n",
       "      <td>13.733750</td>\n",
       "      <td>24</td>\n",
       "      <td>1400</td>\n",
       "    </tr>\n",
       "    <tr>\n",
       "      <th>13</th>\n",
       "      <td>1.0</td>\n",
       "      <td>1999</td>\n",
       "      <td>6.0</td>\n",
       "      <td>16.480500</td>\n",
       "      <td>20</td>\n",
       "      <td>1650</td>\n",
       "    </tr>\n",
       "    <tr>\n",
       "      <th>14</th>\n",
       "      <td>1.0</td>\n",
       "      <td>1995</td>\n",
       "      <td>5.0</td>\n",
       "      <td>16.480500</td>\n",
       "      <td>20</td>\n",
       "      <td>2000</td>\n",
       "    </tr>\n",
       "    <tr>\n",
       "      <th>15</th>\n",
       "      <td>1.0</td>\n",
       "      <td>1996</td>\n",
       "      <td>5.0</td>\n",
       "      <td>16.480500</td>\n",
       "      <td>20</td>\n",
       "      <td>2000</td>\n",
       "    </tr>\n",
       "    <tr>\n",
       "      <th>16</th>\n",
       "      <td>1.0</td>\n",
       "      <td>1996</td>\n",
       "      <td>6.0</td>\n",
       "      <td>17.347895</td>\n",
       "      <td>19</td>\n",
       "      <td>2150</td>\n",
       "    </tr>\n",
       "    <tr>\n",
       "      <th>17</th>\n",
       "      <td>1.0</td>\n",
       "      <td>1997</td>\n",
       "      <td>5.0</td>\n",
       "      <td>16.480500</td>\n",
       "      <td>20</td>\n",
       "      <td>2000</td>\n",
       "    </tr>\n",
       "    <tr>\n",
       "      <th>18</th>\n",
       "      <td>1.0</td>\n",
       "      <td>1997</td>\n",
       "      <td>6.0</td>\n",
       "      <td>17.347895</td>\n",
       "      <td>19</td>\n",
       "      <td>2150</td>\n",
       "    </tr>\n",
       "    <tr>\n",
       "      <th>19</th>\n",
       "      <td>1.0</td>\n",
       "      <td>1998</td>\n",
       "      <td>5.0</td>\n",
       "      <td>16.480500</td>\n",
       "      <td>20</td>\n",
       "      <td>2000</td>\n",
       "    </tr>\n",
       "    <tr>\n",
       "      <th>20</th>\n",
       "      <td>1.0</td>\n",
       "      <td>1998</td>\n",
       "      <td>6.0</td>\n",
       "      <td>17.347895</td>\n",
       "      <td>19</td>\n",
       "      <td>2150</td>\n",
       "    </tr>\n",
       "    <tr>\n",
       "      <th>21</th>\n",
       "      <td>1.0</td>\n",
       "      <td>2001</td>\n",
       "      <td>6.0</td>\n",
       "      <td>16.480500</td>\n",
       "      <td>20</td>\n",
       "      <td>2000</td>\n",
       "    </tr>\n",
       "    <tr>\n",
       "      <th>22</th>\n",
       "      <td>1.0</td>\n",
       "      <td>2002</td>\n",
       "      <td>6.0</td>\n",
       "      <td>15.695714</td>\n",
       "      <td>21</td>\n",
       "      <td>1950</td>\n",
       "    </tr>\n",
       "    <tr>\n",
       "      <th>23</th>\n",
       "      <td>1.0</td>\n",
       "      <td>2003</td>\n",
       "      <td>6.0</td>\n",
       "      <td>16.480500</td>\n",
       "      <td>20</td>\n",
       "      <td>2000</td>\n",
       "    </tr>\n",
       "    <tr>\n",
       "      <th>24</th>\n",
       "      <td>1.0</td>\n",
       "      <td>2003</td>\n",
       "      <td>6.0</td>\n",
       "      <td>15.695714</td>\n",
       "      <td>21</td>\n",
       "      <td>1950</td>\n",
       "    </tr>\n",
       "    <tr>\n",
       "      <th>25</th>\n",
       "      <td>1.0</td>\n",
       "      <td>1999</td>\n",
       "      <td>6.0</td>\n",
       "      <td>16.480500</td>\n",
       "      <td>20</td>\n",
       "      <td>2000</td>\n",
       "    </tr>\n",
       "    <tr>\n",
       "      <th>26</th>\n",
       "      <td>1.0</td>\n",
       "      <td>2000</td>\n",
       "      <td>6.0</td>\n",
       "      <td>16.480500</td>\n",
       "      <td>20</td>\n",
       "      <td>2000</td>\n",
       "    </tr>\n",
       "    <tr>\n",
       "      <th>27</th>\n",
       "      <td>1.0</td>\n",
       "      <td>2001</td>\n",
       "      <td>6.0</td>\n",
       "      <td>16.480500</td>\n",
       "      <td>20</td>\n",
       "      <td>2000</td>\n",
       "    </tr>\n",
       "    <tr>\n",
       "      <th>28</th>\n",
       "      <td>1.0</td>\n",
       "      <td>2002</td>\n",
       "      <td>6.0</td>\n",
       "      <td>15.695714</td>\n",
       "      <td>21</td>\n",
       "      <td>1950</td>\n",
       "    </tr>\n",
       "    <tr>\n",
       "      <th>29</th>\n",
       "      <td>1.0</td>\n",
       "      <td>2003</td>\n",
       "      <td>6.0</td>\n",
       "      <td>15.695714</td>\n",
       "      <td>21</td>\n",
       "      <td>1950</td>\n",
       "    </tr>\n",
       "    <tr>\n",
       "      <th>30</th>\n",
       "      <td>1.0</td>\n",
       "      <td>1996</td>\n",
       "      <td>6.0</td>\n",
       "      <td>17.347895</td>\n",
       "      <td>19</td>\n",
       "      <td>2150</td>\n",
       "    </tr>\n",
       "    <tr>\n",
       "      <th>31</th>\n",
       "      <td>1.0</td>\n",
       "      <td>1997</td>\n",
       "      <td>6.0</td>\n",
       "      <td>17.347895</td>\n",
       "      <td>19</td>\n",
       "      <td>2150</td>\n",
       "    </tr>\n",
       "    <tr>\n",
       "      <th>32</th>\n",
       "      <td>1.0</td>\n",
       "      <td>1998</td>\n",
       "      <td>6.0</td>\n",
       "      <td>17.347895</td>\n",
       "      <td>19</td>\n",
       "      <td>2150</td>\n",
       "    </tr>\n",
       "    <tr>\n",
       "      <th>33</th>\n",
       "      <td>1.0</td>\n",
       "      <td>1999</td>\n",
       "      <td>6.0</td>\n",
       "      <td>18.311667</td>\n",
       "      <td>18</td>\n",
       "      <td>2250</td>\n",
       "    </tr>\n",
       "    <tr>\n",
       "      <th>34</th>\n",
       "      <td>1.0</td>\n",
       "      <td>2000</td>\n",
       "      <td>6.0</td>\n",
       "      <td>18.311667</td>\n",
       "      <td>18</td>\n",
       "      <td>2250</td>\n",
       "    </tr>\n",
       "    <tr>\n",
       "      <th>35</th>\n",
       "      <td>1.0</td>\n",
       "      <td>2001</td>\n",
       "      <td>6.0</td>\n",
       "      <td>18.311667</td>\n",
       "      <td>18</td>\n",
       "      <td>2250</td>\n",
       "    </tr>\n",
       "    <tr>\n",
       "      <th>36</th>\n",
       "      <td>1.0</td>\n",
       "      <td>2002</td>\n",
       "      <td>6.0</td>\n",
       "      <td>18.311667</td>\n",
       "      <td>18</td>\n",
       "      <td>2250</td>\n",
       "    </tr>\n",
       "    <tr>\n",
       "      <th>37</th>\n",
       "      <td>1.0</td>\n",
       "      <td>2003</td>\n",
       "      <td>6.0</td>\n",
       "      <td>18.311667</td>\n",
       "      <td>18</td>\n",
       "      <td>2250</td>\n",
       "    </tr>\n",
       "    <tr>\n",
       "      <th>38</th>\n",
       "      <td>1.0</td>\n",
       "      <td>2004</td>\n",
       "      <td>6.0</td>\n",
       "      <td>18.311667</td>\n",
       "      <td>18</td>\n",
       "      <td>2250</td>\n",
       "    </tr>\n",
       "    <tr>\n",
       "      <th>39</th>\n",
       "      <td>1.0</td>\n",
       "      <td>2013</td>\n",
       "      <td>4.0</td>\n",
       "      <td>11.771786</td>\n",
       "      <td>28</td>\n",
       "      <td>1450</td>\n",
       "    </tr>\n",
       "  </tbody>\n",
       "</table>\n",
       "</div>"
      ],
      "text/plain": [
       "    const  Year  Cylinders  Fuel Barrels/Year  Combined MPG  Fuel Cost/Year\n",
       "0     1.0  1984        4.0          19.388824            17            1950\n",
       "1     1.0  1984        6.0          25.354615            13            2550\n",
       "2     1.0  1985        4.0          20.600625            16            2100\n",
       "3     1.0  1985        6.0          25.354615            13            2550\n",
       "4     1.0  1987        6.0          20.600625            16            2550\n",
       "5     1.0  1997        4.0          14.982273            22            1500\n",
       "6     1.0  1997        4.0          13.733750            24            1400\n",
       "7     1.0  1997        6.0          16.480500            20            1650\n",
       "8     1.0  1998        4.0          14.982273            22            1500\n",
       "9     1.0  1998        4.0          13.733750            24            1400\n",
       "10    1.0  1998        6.0          16.480500            20            1650\n",
       "11    1.0  1999        4.0          14.982273            22            1500\n",
       "12    1.0  1999        4.0          13.733750            24            1400\n",
       "13    1.0  1999        6.0          16.480500            20            1650\n",
       "14    1.0  1995        5.0          16.480500            20            2000\n",
       "15    1.0  1996        5.0          16.480500            20            2000\n",
       "16    1.0  1996        6.0          17.347895            19            2150\n",
       "17    1.0  1997        5.0          16.480500            20            2000\n",
       "18    1.0  1997        6.0          17.347895            19            2150\n",
       "19    1.0  1998        5.0          16.480500            20            2000\n",
       "20    1.0  1998        6.0          17.347895            19            2150\n",
       "21    1.0  2001        6.0          16.480500            20            2000\n",
       "22    1.0  2002        6.0          15.695714            21            1950\n",
       "23    1.0  2003        6.0          16.480500            20            2000\n",
       "24    1.0  2003        6.0          15.695714            21            1950\n",
       "25    1.0  1999        6.0          16.480500            20            2000\n",
       "26    1.0  2000        6.0          16.480500            20            2000\n",
       "27    1.0  2001        6.0          16.480500            20            2000\n",
       "28    1.0  2002        6.0          15.695714            21            1950\n",
       "29    1.0  2003        6.0          15.695714            21            1950\n",
       "30    1.0  1996        6.0          17.347895            19            2150\n",
       "31    1.0  1997        6.0          17.347895            19            2150\n",
       "32    1.0  1998        6.0          17.347895            19            2150\n",
       "33    1.0  1999        6.0          18.311667            18            2250\n",
       "34    1.0  2000        6.0          18.311667            18            2250\n",
       "35    1.0  2001        6.0          18.311667            18            2250\n",
       "36    1.0  2002        6.0          18.311667            18            2250\n",
       "37    1.0  2003        6.0          18.311667            18            2250\n",
       "38    1.0  2004        6.0          18.311667            18            2250\n",
       "39    1.0  2013        4.0          11.771786            28            1450"
      ]
     },
     "execution_count": 85,
     "metadata": {},
     "output_type": "execute_result"
    }
   ],
   "source": [
    "sm.add_constant(vehicles.loc[:, vehicles.columns != 'CO2 Emission Grams/Mile']).head(40)"
   ]
  },
  {
   "cell_type": "code",
   "execution_count": 88,
   "metadata": {},
   "outputs": [],
   "source": [
    "# Asignamos variables independientes (X) y la dependiente (Y)\n",
    "X = sm.add_constant(vehicles.loc[:, vehicles.columns != 'CO2 Emission Grams/Mile'])\n",
    "Y = vehicles['CO2 Emission Grams/Mile']\n",
    "\n",
    "# Creamos el modelo (OLS, que significa \"ordinary least square\", es lo mismo que una regresión lineal)\n",
    "modelo = sm.OLS(Y, X)\n",
    "modelo = modelo.fit()\n",
    "\n",
    "# Una vez entrenado el modelo, predecimos los valores de y para nuestros valores x originales. \n",
    "predicciones = modelo.predict(X)"
   ]
  },
  {
   "cell_type": "code",
   "execution_count": 89,
   "metadata": {},
   "outputs": [
    {
     "data": {
      "text/html": [
       "<table class=\"simpletable\">\n",
       "<caption>OLS Regression Results</caption>\n",
       "<tr>\n",
       "  <th>Dep. Variable:</th>    <td>CO2 Emission Grams/Mile</td> <th>  R-squared:         </th>  <td>   0.981</td>  \n",
       "</tr>\n",
       "<tr>\n",
       "  <th>Model:</th>                      <td>OLS</td>           <th>  Adj. R-squared:    </th>  <td>   0.981</td>  \n",
       "</tr>\n",
       "<tr>\n",
       "  <th>Method:</th>                <td>Least Squares</td>      <th>  F-statistic:       </th>  <td>3.687e+05</td> \n",
       "</tr>\n",
       "<tr>\n",
       "  <th>Date:</th>                <td>Tue, 13 Sep 2022</td>     <th>  Prob (F-statistic):</th>   <td>  0.00</td>   \n",
       "</tr>\n",
       "<tr>\n",
       "  <th>Time:</th>                    <td>15:39:33</td>         <th>  Log-Likelihood:    </th> <td>-1.5173e+05</td>\n",
       "</tr>\n",
       "<tr>\n",
       "  <th>No. Observations:</th>         <td> 35952</td>          <th>  AIC:               </th>  <td>3.035e+05</td> \n",
       "</tr>\n",
       "<tr>\n",
       "  <th>Df Residuals:</th>             <td> 35946</td>          <th>  BIC:               </th>  <td>3.035e+05</td> \n",
       "</tr>\n",
       "<tr>\n",
       "  <th>Df Model:</th>                 <td>     5</td>          <th>                     </th>      <td> </td>     \n",
       "</tr>\n",
       "<tr>\n",
       "  <th>Covariance Type:</th>         <td>nonrobust</td>        <th>                     </th>      <td> </td>     \n",
       "</tr>\n",
       "</table>\n",
       "<table class=\"simpletable\">\n",
       "<tr>\n",
       "          <td></td>             <th>coef</th>     <th>std err</th>      <th>t</th>      <th>P>|t|</th>  <th>[0.025</th>    <th>0.975]</th>  \n",
       "</tr>\n",
       "<tr>\n",
       "  <th>const</th>             <td>  769.8883</td> <td>   19.392</td> <td>   39.702</td> <td> 0.000</td> <td>  731.880</td> <td>  807.897</td>\n",
       "</tr>\n",
       "<tr>\n",
       "  <th>Year</th>              <td>   -0.3206</td> <td>    0.010</td> <td>  -33.060</td> <td> 0.000</td> <td>   -0.340</td> <td>   -0.302</td>\n",
       "</tr>\n",
       "<tr>\n",
       "  <th>Cylinders</th>         <td>    1.8788</td> <td>    0.083</td> <td>   22.598</td> <td> 0.000</td> <td>    1.716</td> <td>    2.042</td>\n",
       "</tr>\n",
       "<tr>\n",
       "  <th>Fuel Barrels/Year</th> <td>   19.0529</td> <td>    0.061</td> <td>  311.600</td> <td> 0.000</td> <td>   18.933</td> <td>   19.173</td>\n",
       "</tr>\n",
       "<tr>\n",
       "  <th>Combined MPG</th>      <td>   -3.0404</td> <td>    0.042</td> <td>  -71.645</td> <td> 0.000</td> <td>   -3.124</td> <td>   -2.957</td>\n",
       "</tr>\n",
       "<tr>\n",
       "  <th>Fuel Cost/Year</th>    <td>    0.0323</td> <td>    0.000</td> <td>   67.025</td> <td> 0.000</td> <td>    0.031</td> <td>    0.033</td>\n",
       "</tr>\n",
       "</table>\n",
       "<table class=\"simpletable\">\n",
       "<tr>\n",
       "  <th>Omnibus:</th>       <td>71055.645</td> <th>  Durbin-Watson:     </th>   <td>   0.747</td>   \n",
       "</tr>\n",
       "<tr>\n",
       "  <th>Prob(Omnibus):</th>  <td> 0.000</td>   <th>  Jarque-Bera (JB):  </th> <td>246941260.782</td>\n",
       "</tr>\n",
       "<tr>\n",
       "  <th>Skew:</th>           <td>15.902</td>   <th>  Prob(JB):          </th>   <td>    0.00</td>   \n",
       "</tr>\n",
       "<tr>\n",
       "  <th>Kurtosis:</th>       <td>407.766</td>  <th>  Cond. No.          </th>   <td>6.20e+05</td>   \n",
       "</tr>\n",
       "</table><br/><br/>Notes:<br/>[1] Standard Errors assume that the covariance matrix of the errors is correctly specified.<br/>[2] The condition number is large, 6.2e+05. This might indicate that there are<br/>strong multicollinearity or other numerical problems."
      ],
      "text/plain": [
       "<class 'statsmodels.iolib.summary.Summary'>\n",
       "\"\"\"\n",
       "                               OLS Regression Results                              \n",
       "===================================================================================\n",
       "Dep. Variable:     CO2 Emission Grams/Mile   R-squared:                       0.981\n",
       "Model:                                 OLS   Adj. R-squared:                  0.981\n",
       "Method:                      Least Squares   F-statistic:                 3.687e+05\n",
       "Date:                     Tue, 13 Sep 2022   Prob (F-statistic):               0.00\n",
       "Time:                             15:39:33   Log-Likelihood:            -1.5173e+05\n",
       "No. Observations:                    35952   AIC:                         3.035e+05\n",
       "Df Residuals:                        35946   BIC:                         3.035e+05\n",
       "Df Model:                                5                                         \n",
       "Covariance Type:                 nonrobust                                         \n",
       "=====================================================================================\n",
       "                        coef    std err          t      P>|t|      [0.025      0.975]\n",
       "-------------------------------------------------------------------------------------\n",
       "const               769.8883     19.392     39.702      0.000     731.880     807.897\n",
       "Year                 -0.3206      0.010    -33.060      0.000      -0.340      -0.302\n",
       "Cylinders             1.8788      0.083     22.598      0.000       1.716       2.042\n",
       "Fuel Barrels/Year    19.0529      0.061    311.600      0.000      18.933      19.173\n",
       "Combined MPG         -3.0404      0.042    -71.645      0.000      -3.124      -2.957\n",
       "Fuel Cost/Year        0.0323      0.000     67.025      0.000       0.031       0.033\n",
       "==============================================================================\n",
       "Omnibus:                    71055.645   Durbin-Watson:                   0.747\n",
       "Prob(Omnibus):                  0.000   Jarque-Bera (JB):        246941260.782\n",
       "Skew:                          15.902   Prob(JB):                         0.00\n",
       "Kurtosis:                     407.766   Cond. No.                     6.20e+05\n",
       "==============================================================================\n",
       "\n",
       "Notes:\n",
       "[1] Standard Errors assume that the covariance matrix of the errors is correctly specified.\n",
       "[2] The condition number is large, 6.2e+05. This might indicate that there are\n",
       "strong multicollinearity or other numerical problems.\n",
       "\"\"\""
      ]
     },
     "execution_count": 89,
     "metadata": {},
     "output_type": "execute_result"
    }
   ],
   "source": [
    "modelo.summary()"
   ]
  },
  {
   "cell_type": "code",
   "execution_count": null,
   "metadata": {},
   "outputs": [],
   "source": []
  }
 ],
 "metadata": {
  "kernelspec": {
   "display_name": "Python 3 (ipykernel)",
   "language": "python",
   "name": "python3"
  },
  "language_info": {
   "codemirror_mode": {
    "name": "ipython",
    "version": 3
   },
   "file_extension": ".py",
   "mimetype": "text/x-python",
   "name": "python",
   "nbconvert_exporter": "python",
   "pygments_lexer": "ipython3",
   "version": "3.9.12"
  }
 },
 "nbformat": 4,
 "nbformat_minor": 2
}
