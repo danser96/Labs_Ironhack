{
 "cells": [
  {
   "cell_type": "markdown",
   "id": "39998c7e",
   "metadata": {},
   "source": [
    "# Challenge 1 - Handling Errors Using try and except\n",
    "\n",
    "The try and except clauses create a block for handling exceptions. When we wrap code in this block, we first attempt the code in the try and if an error is thrown, we can handle specific errors or all errors in the except portion.\n",
    "\n",
    "In the 4 cells below, modify the code to catch the error and print a meaningful message that will alert the user what went wrong. You may catch the error using a general except or a specific except for the error caused by the code."
   ]
  },
  {
   "cell_type": "code",
   "execution_count": 2,
   "id": "24435d54",
   "metadata": {},
   "outputs": [],
   "source": [
    "import math"
   ]
  },
  {
   "cell_type": "code",
   "execution_count": 3,
   "id": "9b21b94a",
   "metadata": {},
   "outputs": [],
   "source": [
    "# Modify the code below:\n",
    "# print(some_string)"
   ]
  },
  {
   "cell_type": "code",
   "execution_count": 4,
   "id": "d2b8de73",
   "metadata": {},
   "outputs": [
    {
     "name": "stdout",
     "output_type": "stream",
     "text": [
      "La palabra string is not defined\n"
     ]
    }
   ],
   "source": [
    "try:\n",
    "    print(some_string)\n",
    "except NameError:\n",
    "    print (\"La palabra string is not defined\")"
   ]
  },
  {
   "cell_type": "code",
   "execution_count": 5,
   "id": "ad8e605b",
   "metadata": {},
   "outputs": [],
   "source": [
    "# Modify the code below:\n",
    "\n",
    "#for i in ['a','b','c']:\n",
    " #   print (i**2)"
   ]
  },
  {
   "cell_type": "code",
   "execution_count": 6,
   "id": "4ec077eb",
   "metadata": {},
   "outputs": [
    {
     "name": "stdout",
     "output_type": "stream",
     "text": [
      "TypeError: Check list of indices in order for them to be integers\n"
     ]
    }
   ],
   "source": [
    "    try:\n",
    "        for i in ['a','b','c']:\n",
    "            print (i**2)\n",
    "    except TypeError:\n",
    "        print(\"TypeError: Check list of indices in order for them to be integers\")"
   ]
  },
  {
   "cell_type": "code",
   "execution_count": 7,
   "id": "ec3b98d7",
   "metadata": {},
   "outputs": [],
   "source": [
    "# Modify the code below:\n",
    "\n",
    "#x = 5\n",
    "#y = 0\n",
    "\n",
    "#z = x/y"
   ]
  },
  {
   "cell_type": "code",
   "execution_count": 8,
   "id": "dd571b6f",
   "metadata": {},
   "outputs": [
    {
     "name": "stdout",
     "output_type": "stream",
     "text": [
      "denominator cannot be 0, please try again\n"
     ]
    }
   ],
   "source": [
    "try:\n",
    "    x= 5\n",
    "    y= 0\n",
    "    result = x/y\n",
    "except:\n",
    "    print(\"denominator cannot be 0, please try again\")"
   ]
  },
  {
   "cell_type": "code",
   "execution_count": 9,
   "id": "1c72c59d",
   "metadata": {},
   "outputs": [],
   "source": [
    "# Modify the code below:\n",
    "\n",
    "#abc=[10,20,20]\n",
    "#print(abc[3])"
   ]
  },
  {
   "cell_type": "code",
   "execution_count": 10,
   "id": "64f13df1",
   "metadata": {},
   "outputs": [
    {
     "name": "stdout",
     "output_type": "stream",
     "text": [
      "Check position of index you are asking for.\n"
     ]
    }
   ],
   "source": [
    "try:\n",
    "    abc=[10,20,20]\n",
    "    print(abc[3])\n",
    "except  IndexError:\n",
    "    print(\"Check position of index you are asking for.\")"
   ]
  },
  {
   "cell_type": "markdown",
   "id": "57156378",
   "metadata": {},
   "source": [
    "# Challenge 2 - Handling Errors Using if Statements\n",
    "\n",
    "In many cases, we are able to identify issues that may come up in our code and handle those handlful of issues with an if statment. Sometimes we would like to handle different types of inputs and are aware that later in the code, we will have to write two different branches of code for the two different cases we allowed in the beginning.\n",
    "\n",
    "In the 3 cells below, add an if statment that will handle both types of input allowed in the functions."
   ]
  },
  {
   "cell_type": "code",
   "execution_count": 11,
   "id": "73bdaa10",
   "metadata": {},
   "outputs": [],
   "source": [
    "# Modify the code below to handle positive and negative numbers by adding an if statement and performing a transformation:\n",
    "\n",
    "#def sqrt_for_all(x):\n",
    "    # This function will take any real number and return the square root of its magnitude\n",
    "    # Input: real number\n",
    "    # Output: real number\n",
    "    \n",
    "    # Sample Input: -4\n",
    "    # Sample Output: 2.0\n",
    "    #return math.sqrt(x)\n",
    "\n",
    "#sqrt_for_all(-1)"
   ]
  },
  {
   "cell_type": "code",
   "execution_count": 19,
   "id": "3bfb06a1",
   "metadata": {},
   "outputs": [
    {
     "name": "stdout",
     "output_type": "stream",
     "text": [
      "you must enter a positive number\n"
     ]
    }
   ],
   "source": [
    "#Value Input error\n",
    "\n",
    "def sqrt_for_all(x):\n",
    "    try:\n",
    "        print (math.sqrt(x))\n",
    "    except ValueError:\n",
    "        if x<0:\n",
    "            print(\"you must enter a positive number\")\n",
    "        else:\n",
    "            print(\"The square root of x is\")\n",
    "     \n",
    "\n",
    "sqrt_for_all(-1)"
   ]
  },
  {
   "cell_type": "code",
   "execution_count": 13,
   "id": "4a014dcc",
   "metadata": {},
   "outputs": [],
   "source": [
    "  #def divide(x, y):\n",
    "    # This function will take any two real numbers and return their quotient. If the denominator is zero, we return zero\n",
    "    # Input: real number\n",
    "    # Output: real number\n",
    "    \n",
    "    # Sample Input: 5, 1\n",
    "    # Sample Output: 5.0\n",
    "      #return x / y\n",
    "\n",
    "  #divide(5, 0)"
   ]
  },
  {
   "cell_type": "code",
   "execution_count": 14,
   "id": "bcdbff15",
   "metadata": {},
   "outputs": [
    {
     "name": "stdout",
     "output_type": "stream",
     "text": [
      "division by zero\n"
     ]
    }
   ],
   "source": [
    "a, b=5, 0\n",
    "try:\n",
    "    if b != 0:\n",
    "        print (a/b)\n",
    "    else:\n",
    "        a/b\n",
    "    raise ZeroDivisionError\n",
    "except Exception as e:\n",
    "       print (e)"
   ]
  },
  {
   "cell_type": "code",
   "execution_count": 15,
   "id": "195acecb",
   "metadata": {},
   "outputs": [],
   "source": [
    "# Modify the function below that it will take either a number and a list or two numbers. \n",
    "# If we take two numbers, add them together and return a list of length 1. \n",
    "# Otherwise, add the number to every element of the list and return the resulting list\n",
    "\n",
    "#def add_elements(a, l):\n",
    "    # This function takes either two numbers or a list and a number and adds the number to all elements of the list\n",
    "    # If the function only takes two numbers, it returns a list of length one that is the sum of the numbers\n",
    "    \n",
    "    # Input: number and list or two numbers\n",
    "    # Output: list\n",
    "    \n",
    "    # Sample Input: 5, 6\n",
    "    # Sample Output: [11]\n",
    "    #return [a + element for element in l]\n",
    "        \n",
    "#add_elements(5, 6)"
   ]
  },
  {
   "cell_type": "code",
   "execution_count": 16,
   "id": "5959f679",
   "metadata": {},
   "outputs": [],
   "source": [
    "def add_elements(a, l):\n",
    "    if type(l)==list:\n",
    "        return [a + element for element in l]\n",
    "    return [a+l]\n",
    "        \n"
   ]
  },
  {
   "cell_type": "code",
   "execution_count": 17,
   "id": "82979de8",
   "metadata": {},
   "outputs": [
    {
     "data": {
      "text/plain": [
       "[11]"
      ]
     },
     "execution_count": 17,
     "metadata": {},
     "output_type": "execute_result"
    }
   ],
   "source": [
    "add_elements(5,6)"
   ]
  },
  {
   "cell_type": "code",
   "execution_count": 18,
   "id": "bd1c62f0",
   "metadata": {},
   "outputs": [
    {
     "data": {
      "text/plain": [
       "[6, 8]"
      ]
     },
     "execution_count": 18,
     "metadata": {},
     "output_type": "execute_result"
    }
   ],
   "source": [
    "add_elements(5,[1,3])"
   ]
  },
  {
   "cell_type": "markdown",
   "id": "fd5f3141",
   "metadata": {},
   "source": [
    "# Challenge 3 - Fixing Errors to Get Code to Run\n",
    "\n",
    "Sometimes the error is not caused by the input but by the code itself. In the 2 following cells below, examine the error and correct the code to avoid the error."
   ]
  },
  {
   "cell_type": "code",
   "execution_count": 65,
   "id": "69645ecb",
   "metadata": {},
   "outputs": [],
   "source": [
    "# Modify the code below:\n",
    "\n",
    "#l = [1,2,3,4]\n",
    "\n",
    "#sum([element + 1 for element in l]"
   ]
  },
  {
   "cell_type": "code",
   "execution_count": 84,
   "id": "8db9ae3e",
   "metadata": {},
   "outputs": [
    {
     "data": {
      "text/plain": [
       "15"
      ]
     },
     "execution_count": 84,
     "metadata": {},
     "output_type": "execute_result"
    }
   ],
   "source": [
    "\n",
    "l = [1,2,3,4]\n",
    "\n",
    "sum(l) + (element + 1)"
   ]
  },
  {
   "cell_type": "code",
   "execution_count": 75,
   "id": "a99c81db",
   "metadata": {},
   "outputs": [
    {
     "name": "stdout",
     "output_type": "stream",
     "text": [
      "Sum of all elements in given list:  14\n"
     ]
    }
   ],
   "source": [
    "total = 0\n",
    "ele = 0\n",
    " \n",
    "# creating a list\n",
    "l = [1,2,3,4]\n",
    " \n",
    "# Iterate each element in list\n",
    "# and add them in variable total\n",
    "while(ele < len(l)):\n",
    "    total = total + l[ele] + 1\n",
    "    ele += 1\n",
    "     \n",
    "# printing total value\n",
    "print(\"Sum of all elements in given list: \", total)"
   ]
  },
  {
   "cell_type": "code",
   "execution_count": null,
   "id": "9fb37bc0",
   "metadata": {},
   "outputs": [],
   "source": [
    "# Modify the code below:\n",
    "\n",
    "#l = [1,2,3,4]\n",
    "\n",
    "#for element in l:\n",
    "   # print(\"The current element in the loop is\" + element)"
   ]
  },
  {
   "cell_type": "code",
   "execution_count": 79,
   "id": "daf896e3",
   "metadata": {
    "scrolled": true
   },
   "outputs": [
    {
     "name": "stdout",
     "output_type": "stream",
     "text": [
      "The current element in the loop is 1\n",
      "The current element in the loop is 2\n",
      "The current element in the loop is 3\n",
      "The current element in the loop is 4\n"
     ]
    }
   ],
   "source": [
    "l = [1,2,3,4]\n",
    "\n",
    "for element in l:\n",
    "    print(\"The current element in the loop is\", element)"
   ]
  },
  {
   "cell_type": "code",
   "execution_count": 76,
   "id": "dfff234f",
   "metadata": {},
   "outputs": [
    {
     "name": "stdout",
     "output_type": "stream",
     "text": [
      "0 1\n",
      "1 2\n",
      "2 3\n",
      "3 4\n"
     ]
    }
   ],
   "source": [
    "items = [1,2,3,4]\n",
    "for index, item in enumerate(items):\n",
    "    print(index, item)"
   ]
  },
  {
   "cell_type": "markdown",
   "id": "063037b3",
   "metadata": {},
   "source": [
    "# Challenge 4 - Raise Errors on Your Own\n",
    "\n",
    "There are cases where you need to alert your users of a problem even if the input will not immediately produce an error. In these cases you may want to throw an error yourself to bring attention to the problem. In the 2 cells below, write the functions as directed and add the appropriate errors using the raise clause. Make sure to add a meaningful error message."
   ]
  },
  {
   "cell_type": "code",
   "execution_count": 85,
   "id": "14fef918",
   "metadata": {},
   "outputs": [],
   "source": [
    "import math"
   ]
  },
  {
   "cell_type": "code",
   "execution_count": 96,
   "id": "a819f7ca",
   "metadata": {},
   "outputs": [
    {
     "ename": "SyntaxError",
     "evalue": "invalid syntax (2120854896.py, line 17)",
     "output_type": "error",
     "traceback": [
      "\u001b[0;36m  Input \u001b[0;32mIn [96]\u001b[0;36m\u001b[0m\n\u001b[0;31m    print math.log(x)\u001b[0m\n\u001b[0m          ^\u001b[0m\n\u001b[0;31mSyntaxError\u001b[0m\u001b[0;31m:\u001b[0m invalid syntax\n"
     ]
    }
   ],
   "source": [
    "#def log_square(x):\n",
    "    # This function takes a numeric value and returns the natural log of the square of the number \n",
    "    # The function raises an error if the number is equal to zero\n",
    "    # Use the math.log function in this funtion\n",
    "    \n",
    "    # Input: real number\n",
    "    # Output: real number or error\n",
    "    \n",
    "    # Sample Input: 5\n",
    "    # Sample Output: 3.21887\n",
    "    \n",
    "    # Your code here:\n",
    "\n",
    "def log_square(x):\n",
    "    try:\n",
    "        if math.log(x) != 0:\n",
    "            print math.log(x)\n",
    "    else:\n",
    "    raise ZeroDivisionError\n",
    "except Exception as e:\n",
    "       print (e)\n",
    "\n",
    "log_square(5)"
   ]
  },
  {
   "cell_type": "code",
   "execution_count": null,
   "id": "17ea87d5",
   "metadata": {},
   "outputs": [],
   "source": [
    "#def check_capital(x):\n",
    "    # This function returns true if the string contains at least one capital letter and throws an error otherwise\n",
    "    # Input: string\n",
    "    # Output: bool or error message\n",
    "    \n",
    "    # Sample Input: 'John'\n",
    "    # Sample Output: True\n",
    "    \n",
    "    # Your code here:"
   ]
  },
  {
   "cell_type": "code",
   "execution_count": 103,
   "id": "7f0bcba3",
   "metadata": {},
   "outputs": [],
   "source": [
    "def identify_capital(x):\n",
    "    if any(x.isupper()) == True:\n",
    "        return True\n",
    "    else:\n",
    "        raise ValueError(\"No capital letter detected\")\n"
   ]
  },
  {
   "cell_type": "code",
   "execution_count": null,
   "id": "36d5922e",
   "metadata": {},
   "outputs": [],
   "source": []
  }
 ],
 "metadata": {
  "kernelspec": {
   "display_name": "Python 3 (ipykernel)",
   "language": "python",
   "name": "python3"
  },
  "language_info": {
   "codemirror_mode": {
    "name": "ipython",
    "version": 3
   },
   "file_extension": ".py",
   "mimetype": "text/x-python",
   "name": "python",
   "nbconvert_exporter": "python",
   "pygments_lexer": "ipython3",
   "version": "3.9.12"
  }
 },
 "nbformat": 4,
 "nbformat_minor": 5
}
