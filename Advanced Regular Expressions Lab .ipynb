{
 "cells": [
  {
   "cell_type": "markdown",
   "id": "7ebc299e",
   "metadata": {},
   "source": [
    "1. Use a regular expression to find and extract all vowels in the following text."
   ]
  },
  {
   "cell_type": "code",
   "execution_count": 4,
   "id": "7cd8dce7",
   "metadata": {},
   "outputs": [],
   "source": [
    "import re"
   ]
  },
  {
   "cell_type": "code",
   "execution_count": 3,
   "id": "74628964",
   "metadata": {},
   "outputs": [],
   "source": [
    "text = \"This is going to be a sentence with a good number of vowels in it.\""
   ]
  },
  {
   "cell_type": "code",
   "execution_count": 7,
   "id": "22cbc7dd",
   "metadata": {},
   "outputs": [
    {
     "data": {
      "text/plain": [
       "['i',\n",
       " 'i',\n",
       " 'o',\n",
       " 'i',\n",
       " 'o',\n",
       " 'e',\n",
       " 'a',\n",
       " 'e',\n",
       " 'e',\n",
       " 'e',\n",
       " 'i',\n",
       " 'a',\n",
       " 'o',\n",
       " 'o',\n",
       " 'u',\n",
       " 'e',\n",
       " 'o',\n",
       " 'o',\n",
       " 'e',\n",
       " 'i',\n",
       " 'i']"
      ]
     },
     "execution_count": 7,
     "metadata": {},
     "output_type": "execute_result"
    }
   ],
   "source": [
    "pattern = \"[aeiou]\"\n",
    "re.findall(pattern, text)"
   ]
  },
  {
   "cell_type": "markdown",
   "id": "3c541ab0",
   "metadata": {},
   "source": [
    "2. Use a regular expression to find and extract all occurrences and tenses (singular and plural) of the word \"puppy\" in the text below."
   ]
  },
  {
   "cell_type": "code",
   "execution_count": 26,
   "id": "3e2b52c3",
   "metadata": {},
   "outputs": [],
   "source": [
    "text3 = \"The puppy saw all the rest of the puppies playing and wanted to join them. I saw this and wanted a puppy of my own!\""
   ]
  },
  {
   "cell_type": "code",
   "execution_count": 30,
   "id": "b666c73a",
   "metadata": {},
   "outputs": [
    {
     "data": {
      "text/plain": [
       "['puppy', 'puppies', 'puppy']"
      ]
     },
     "execution_count": 30,
     "metadata": {},
     "output_type": "execute_result"
    }
   ],
   "source": [
    "pattern1 = \"puppy|puppies\"\n",
    "re.findall(pattern1,text3)"
   ]
  },
  {
   "cell_type": "markdown",
   "id": "b4cd317a",
   "metadata": {},
   "source": [
    " 3. Use a regular expression to find and extract all tenses (present and past) of the word \"run\" in the text below."
   ]
  },
  {
   "cell_type": "code",
   "execution_count": 49,
   "id": "98c7a23e",
   "metadata": {},
   "outputs": [],
   "source": [
    " \n",
    "text1 = \"I ran the relay race the only way I knew how to run it.\""
   ]
  },
  {
   "cell_type": "code",
   "execution_count": 28,
   "id": "ae230140",
   "metadata": {},
   "outputs": [
    {
     "data": {
      "text/plain": [
       "['ran', 'run']"
      ]
     },
     "execution_count": 28,
     "metadata": {},
     "output_type": "execute_result"
    }
   ],
   "source": [
    "pattern1 = \"ran|run\"\n",
    "re.findall(pattern1,text1)"
   ]
  },
  {
   "cell_type": "markdown",
   "id": "643c494a",
   "metadata": {},
   "source": [
    "4. Use a regular expression to find and extract all words that begin with the letter \"r\" from the previous text."
   ]
  },
  {
   "cell_type": "code",
   "execution_count": 51,
   "id": "269b772d",
   "metadata": {},
   "outputs": [
    {
     "data": {
      "text/plain": [
       "[]"
      ]
     },
     "execution_count": 51,
     "metadata": {},
     "output_type": "execute_result"
    }
   ],
   "source": [
    "pattern1 = \"^[r]+\"\n",
    "re.findall(pattern1,text1)"
   ]
  },
  {
   "cell_type": "markdown",
   "id": "34b3a32d",
   "metadata": {},
   "source": [
    "5. Use a regular expression to find and substitute the letter \"i\" for the exclamation marks in the text below."
   ]
  },
  {
   "cell_type": "code",
   "execution_count": 33,
   "id": "952fbb8a",
   "metadata": {},
   "outputs": [],
   "source": [
    "text4 = \"Th!s !s a sentence w!th spec!al characters !n !t.\""
   ]
  },
  {
   "cell_type": "code",
   "execution_count": 79,
   "id": "dbb12afd",
   "metadata": {},
   "outputs": [
    {
     "ename": "SyntaxError",
     "evalue": "invalid syntax (1336438828.py, line 1)",
     "output_type": "error",
     "traceback": [
      "\u001b[0;36m  Input \u001b[0;32mIn [79]\u001b[0;36m\u001b[0m\n\u001b[0;31m    pattern2 = [^a-zA-Z',.?!\\s]\u001b[0m\n\u001b[0m                ^\u001b[0m\n\u001b[0;31mSyntaxError\u001b[0m\u001b[0;31m:\u001b[0m invalid syntax\n"
     ]
    }
   ],
   "source": [
    "pattern2 = [^a-zA-Z',.?!\\s]\n",
    "re.findall(pattern1,text1)"
   ]
  },
  {
   "cell_type": "markdown",
   "id": "9728e7fe",
   "metadata": {},
   "source": [
    "6. Use a regular expression to find and extract words longer than 4 characters in the text below."
   ]
  },
  {
   "cell_type": "code",
   "execution_count": 17,
   "id": "8e58deab",
   "metadata": {},
   "outputs": [],
   "source": [
    "sentence = \"This sentence has words of varying lengths.\""
   ]
  },
  {
   "cell_type": "code",
   "execution_count": 45,
   "id": "633fcda6",
   "metadata": {},
   "outputs": [
    {
     "data": {
      "text/plain": [
       "['This', 'sentence', 'words', 'varying', 'lengths']"
      ]
     },
     "execution_count": 45,
     "metadata": {},
     "output_type": "execute_result"
    }
   ],
   "source": [
    "pattern = \"\\w{4,}\"\n",
    "re.findall(pattern,sentence)"
   ]
  },
  {
   "cell_type": "markdown",
   "id": "0b6cde63",
   "metadata": {},
   "source": [
    "7. Use a regular expression to find and extract all occurrences of the letter \"b\", some letter(s), and then the letter \"t\" in the sentence below."
   ]
  },
  {
   "cell_type": "code",
   "execution_count": 18,
   "id": "e398c391",
   "metadata": {},
   "outputs": [],
   "source": [
    "t = \"I bet the robot couldn't beat the other bot with a bat, but instead it bit me.\"\n"
   ]
  },
  {
   "cell_type": "code",
   "execution_count": 35,
   "id": "89f22b33",
   "metadata": {},
   "outputs": [
    {
     "data": {
      "text/plain": [
       "['b',\n",
       " 't',\n",
       " 't',\n",
       " 'b',\n",
       " 't',\n",
       " 't',\n",
       " 'b',\n",
       " 't',\n",
       " 't',\n",
       " 't',\n",
       " 'b',\n",
       " 't',\n",
       " 't',\n",
       " 'b',\n",
       " 't',\n",
       " 'b',\n",
       " 't',\n",
       " 's',\n",
       " 't',\n",
       " 't',\n",
       " 'b',\n",
       " 't']"
      ]
     },
     "execution_count": 35,
     "metadata": {},
     "output_type": "execute_result"
    }
   ],
   "source": [
    "patter= \"[bst]\"\n",
    "re.findall(patter,t)"
   ]
  },
  {
   "cell_type": "markdown",
   "id": "7e6922e0",
   "metadata": {},
   "source": [
    "8. Use a regular expression to find and extract all words that contain either \"ea\" or \"eo\" in them."
   ]
  },
  {
   "cell_type": "code",
   "execution_count": 72,
   "id": "14c3051d",
   "metadata": {},
   "outputs": [],
   "source": [
    "tt2 = \"During many of the peaks and troughs of history, the people living it didn't fully realize what was unfolding. But we all know we're navigating breathtaking history: Nearly every day could be — maybe will be — a book.\"\n"
   ]
  },
  {
   "cell_type": "code",
   "execution_count": 73,
   "id": "de0a3208",
   "metadata": {},
   "outputs": [
    {
     "name": "stdout",
     "output_type": "stream",
     "text": [
      "['peaks', 'people', 'realize', 'breathtaking', 'Nearly']\n"
     ]
    }
   ],
   "source": [
    "print(re.findall(\"\\w*e[ao]\\w+\",t2))"
   ]
  },
  {
   "cell_type": "code",
   "execution_count": 78,
   "id": "d12e466d",
   "metadata": {},
   "outputs": [
    {
     "name": "stdout",
     "output_type": "stream",
     "text": [
      "['peaks', 'people', 'realize', 'breathtaking', 'Nearly']\n"
     ]
    }
   ],
   "source": [
    "print(re.findall(\"\\w*ea\\w+|\\w*eo\\w+\",t2))"
   ]
  },
  {
   "cell_type": "markdown",
   "id": "0b40ec26",
   "metadata": {},
   "source": [
    "9. Use a regular expression to find and extract all the capitalized words in the text below individually."
   ]
  },
  {
   "cell_type": "code",
   "execution_count": 18,
   "id": "1e6e8da3",
   "metadata": {},
   "outputs": [],
   "source": [
    "t3 = \"Teddy Roosevelt and Abraham Lincoln walk into a bar.\"\n"
   ]
  },
  {
   "cell_type": "code",
   "execution_count": 19,
   "id": "fe4c2398",
   "metadata": {},
   "outputs": [
    {
     "data": {
      "text/plain": [
       "['T', 'R', 'A', 'L']"
      ]
     },
     "execution_count": 19,
     "metadata": {},
     "output_type": "execute_result"
    }
   ],
   "source": [
    "pattern = \"[A-Z]\"\n",
    "re.findall(pattern,t3)"
   ]
  },
  {
   "cell_type": "markdown",
   "id": "f4404ac0",
   "metadata": {},
   "source": [
    "10. Use a regular expression to find and extract all the sets of consecutive capitalized words in the text above."
   ]
  },
  {
   "cell_type": "code",
   "execution_count": 20,
   "id": "0a1e9545",
   "metadata": {},
   "outputs": [
    {
     "data": {
      "text/plain": [
       "['Teddy', 'Roosevelt', 'Abraham', 'Lincoln']"
      ]
     },
     "execution_count": 20,
     "metadata": {},
     "output_type": "execute_result"
    }
   ],
   "source": [
    "pattern = \"[A-Z][a-z]+\"\n",
    "re.findall(pattern, t3)"
   ]
  },
  {
   "cell_type": "markdown",
   "id": "9e5f517d",
   "metadata": {},
   "source": [
    "11. Use a regular expression to find and extract all the quotes from the text below.\n",
    "\n",
    "Hint: This one is a little more complex than the single quote example in the lesson because there are multiple quotes in the text."
   ]
  },
  {
   "cell_type": "code",
   "execution_count": 6,
   "id": "f6d36f21",
   "metadata": {},
   "outputs": [],
   "source": [
    "t4 = 'Roosevelt says to Lincoln, \"I will bet you $50 I can get the bartender to give me a free drink.\" Lincoln says, \"I am in!\"'\n"
   ]
  },
  {
   "cell_type": "code",
   "execution_count": 8,
   "id": "d97f0991",
   "metadata": {},
   "outputs": [
    {
     "name": "stdout",
     "output_type": "stream",
     "text": [
      "['\"I will bet you $50 I can get the bartender to give me a free drink.\"', '\"I am in!\"']\n"
     ]
    }
   ],
   "source": [
    "pattern = '\".*?\"'\n",
    "print(re.findall(pattern, t4))"
   ]
  },
  {
   "cell_type": "markdown",
   "id": "2bf425f5",
   "metadata": {},
   "source": [
    "12. Use a regular expression to find and extract all the numbers from the text below."
   ]
  },
  {
   "cell_type": "code",
   "execution_count": 40,
   "id": "ef095a95",
   "metadata": {},
   "outputs": [],
   "source": [
    "t5 = \"There were 30 students in the class. Of the 30 students, 14 were male and 16 were female. Only 10 students got A's on the exam.\"\n"
   ]
  },
  {
   "cell_type": "code",
   "execution_count": 44,
   "id": "4cbdb744",
   "metadata": {},
   "outputs": [
    {
     "name": "stdout",
     "output_type": "stream",
     "text": [
      "['30', '30', '14', '16', '10']\n"
     ]
    }
   ],
   "source": [
    "pattern = \"\\d+\"\n",
    "#the + makes it the full number, if you. remove the + it will give you each individual num.\n",
    "print(re.findall(pattern,t5))"
   ]
  },
  {
   "cell_type": "markdown",
   "id": "289d66a2",
   "metadata": {},
   "source": [
    "13. Use a regular expression to find and extract all the social security numbers from the text below."
   ]
  },
  {
   "cell_type": "code",
   "execution_count": 10,
   "id": "277739c9",
   "metadata": {},
   "outputs": [],
   "source": [
    "t6 = \"\"\"\n",
    "Henry's social security number is 876-93-2289 and his phone number is (847)789-0984.\n",
    "Darlene's social security number is 098-32-5295 and her phone number is (987)222-0901.\n",
    "\"\"\""
   ]
  },
  {
   "cell_type": "code",
   "execution_count": 15,
   "id": "999b900a",
   "metadata": {},
   "outputs": [
    {
     "name": "stdout",
     "output_type": "stream",
     "text": [
      "['876-93-2289', '098-32-5295']\n"
     ]
    }
   ],
   "source": [
    "pattern = \"\\w+-\\w+-\\w+\"\n",
    "print(re.findall(pattern,t6))\n"
   ]
  },
  {
   "cell_type": "markdown",
   "id": "a5c24bf1",
   "metadata": {},
   "source": [
    "14. Use a regular expression to find and extract all the phone numbers from the text above.\n"
   ]
  },
  {
   "cell_type": "code",
   "execution_count": 11,
   "id": "1fc8ce99",
   "metadata": {},
   "outputs": [
    {
     "name": "stdout",
     "output_type": "stream",
     "text": [
      "['876-93-2289', '098-32-5295']\n"
     ]
    }
   ],
   "source": [
    "pattern = \"\\d+-\\d+-\\d+\"\n",
    "print(re.findall(pattern,t6))"
   ]
  },
  {
   "cell_type": "markdown",
   "id": "03ae26bb",
   "metadata": {},
   "source": [
    "15. Use a regular expression to find and extract all the formatted numbers (both social security and phone) from the text above."
   ]
  },
  {
   "cell_type": "code",
   "execution_count": 66,
   "id": "035afb8e",
   "metadata": {},
   "outputs": [
    {
     "name": "stdout",
     "output_type": "stream",
     "text": [
      "[' 876-93-2289', '(847)789-0984', ' 098-32-5295', '(987)222-0901']\n"
     ]
    }
   ],
   "source": [
    "pattern = \"\\W\\d+\\W\\d+\\W\\d+\"\n",
    "print(re.findall(pattern,t6))\n"
   ]
  },
  {
   "cell_type": "code",
   "execution_count": null,
   "id": "9a3b0d3f",
   "metadata": {},
   "outputs": [],
   "source": []
  }
 ],
 "metadata": {
  "kernelspec": {
   "display_name": "Python 3 (ipykernel)",
   "language": "python",
   "name": "python3"
  },
  "language_info": {
   "codemirror_mode": {
    "name": "ipython",
    "version": 3
   },
   "file_extension": ".py",
   "mimetype": "text/x-python",
   "name": "python",
   "nbconvert_exporter": "python",
   "pygments_lexer": "ipython3",
   "version": "3.9.12"
  }
 },
 "nbformat": 4,
 "nbformat_minor": 5
}
