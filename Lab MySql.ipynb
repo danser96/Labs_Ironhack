{
 "cells": [
  {
   "cell_type": "markdown",
   "id": "4c1342a5",
   "metadata": {},
   "source": [
    "# Challenge 1 - Design the Database\n",
    "Using pen and paper (or computer software if you are skillful at creating digital diagrams), design a database to meet the minimal requirements of your boss. The minimal information to be recorded is described below:\n",
    "\n",
    "Cars - e.g. the vehicle identification number (VIN), manufacturer, model, year, and color of the cars in your company's inventory.\n",
    "\n",
    "Customers - e.g. the customer ID, name, phone number, email, address, city, state/province, country, and zip/postal code of the customers.\n",
    "\n",
    "Salespersons - e.g. staff ID, name, and the store at your company.\n",
    "\n",
    "Invoices - e.g. the invoice number, date, car, customer, and salesperson related to each car sale.\n",
    "\n"
   ]
  },
  {
   "cell_type": "code",
   "execution_count": 1,
   "id": "75f1b468",
   "metadata": {},
   "outputs": [],
   "source": [
    "%load_ext sql"
   ]
  },
  {
   "cell_type": "code",
   "execution_count": 2,
   "id": "a65f8e0a",
   "metadata": {},
   "outputs": [],
   "source": [
    "%sql sqlite:///CARS.db"
   ]
  },
  {
   "cell_type": "code",
   "execution_count": 4,
   "id": "074610fa",
   "metadata": {},
   "outputs": [
    {
     "name": "stdout",
     "output_type": "stream",
     "text": [
      " * sqlite:///CARS.db\n",
      "Done.\n"
     ]
    },
    {
     "data": {
      "text/plain": [
       "[]"
      ]
     },
     "execution_count": 4,
     "metadata": {},
     "output_type": "execute_result"
    }
   ],
   "source": [
    "%%sql\n",
    "\n",
    "CREATE TABLE Cars (VIN VARCHAR (20), Make CHAR(10), Model VARCHAR(15), Year TINYINT (4), Colour VARCHAR (7));"
   ]
  },
  {
   "cell_type": "code",
   "execution_count": 6,
   "id": "d6a98e09",
   "metadata": {},
   "outputs": [
    {
     "name": "stdout",
     "output_type": "stream",
     "text": [
      " * sqlite:///CARS.db\n",
      "Done.\n"
     ]
    },
    {
     "data": {
      "text/plain": [
       "[]"
      ]
     },
     "execution_count": 6,
     "metadata": {},
     "output_type": "execute_result"
    }
   ],
   "source": [
    "%%sql\n",
    "\n",
    "CREATE TABLE Customers (Customer ID CHAR(6), Name VARCHAR(30), PhoneNo VARCHAR(15), Email VARCHAR (20), Address VARCHAR (40), City CHAR(10), State VARCHAR(20), Country CHAR(6), Zipcode VARCHAR (10));"
   ]
  },
  {
   "cell_type": "code",
   "execution_count": 7,
   "id": "9d9be55c",
   "metadata": {},
   "outputs": [
    {
     "name": "stdout",
     "output_type": "stream",
     "text": [
      " * sqlite:///CARS.db\n",
      "Done.\n"
     ]
    },
    {
     "data": {
      "text/plain": [
       "[]"
      ]
     },
     "execution_count": 7,
     "metadata": {},
     "output_type": "execute_result"
    }
   ],
   "source": [
    "%%sql\n",
    "\n",
    "CREATE TABLE Salespersons (Staff ID CHAR(5), Name CHAR(30), Store CountryCHAR(20));"
   ]
  },
  {
   "cell_type": "code",
   "execution_count": 12,
   "id": "698b87f2",
   "metadata": {},
   "outputs": [
    {
     "name": "stdout",
     "output_type": "stream",
     "text": [
      " * sqlite:///CARS.db\n",
      "Done.\n"
     ]
    },
    {
     "data": {
      "text/plain": [
       "[]"
      ]
     },
     "execution_count": 12,
     "metadata": {},
     "output_type": "execute_result"
    }
   ],
   "source": [
    "%%sql\n",
    "CREATE TABLE Invoices (Invoice CHAR(9),Date DATETIME, Car ID CHAR(1), Customer ID CHAR(1), Salesperson CHAR(30));"
   ]
  },
  {
   "cell_type": "code",
   "execution_count": 31,
   "id": "aa0446d2",
   "metadata": {},
   "outputs": [
    {
     "name": "stdout",
     "output_type": "stream",
     "text": [
      " * sqlite:///CARS.db\n",
      "Done.\n"
     ]
    },
    {
     "data": {
      "text/html": [
       "<table>\n",
       "    <tr>\n",
       "        <th>name</th>\n",
       "    </tr>\n",
       "    <tr>\n",
       "        <td>Cars</td>\n",
       "    </tr>\n",
       "    <tr>\n",
       "        <td>Customers</td>\n",
       "    </tr>\n",
       "    <tr>\n",
       "        <td>Invoices</td>\n",
       "    </tr>\n",
       "    <tr>\n",
       "        <td>Salespersons</td>\n",
       "    </tr>\n",
       "</table>"
      ],
      "text/plain": [
       "[('Cars',), ('Customers',), ('Invoices',), ('Salespersons',)]"
      ]
     },
     "execution_count": 31,
     "metadata": {},
     "output_type": "execute_result"
    }
   ],
   "source": [
    "%%sql\n",
    "SELECT name FROM sqlite_master\n",
    "WHERE type = 'table'\n",
    "ORDER BY name;"
   ]
  },
  {
   "cell_type": "code",
   "execution_count": 40,
   "id": "19c7fc76",
   "metadata": {},
   "outputs": [
    {
     "name": "stdout",
     "output_type": "stream",
     "text": [
      " * sqlite:///CARS.db\n",
      "6 rows affected.\n"
     ]
    },
    {
     "data": {
      "text/plain": [
       "[]"
      ]
     },
     "execution_count": 40,
     "metadata": {},
     "output_type": "execute_result"
    }
   ],
   "source": [
    "%%sql\n",
    "\n",
    "INSERT INTO Cars VALUES('3K096I98581DHSNUP','Volkswagen','Tiguan', '2019', 'Blue'), ('ZM8G7BEUQZ97IH46V','Peugeot', 'Rifter','2019','Red'), ('RKXVNNIHLVVZOUB4M','Ford','Fusion','2018','White'),('HKNDGS7CU31E9Z7JW', 'Toyota','RAV4','2018','Silver'),('DAM41UDN3CHU2WVF6','Volvo','V60','2019','Gray'), ('DAM41UDN3CHU2WVF6','Volvo','V60 Cross Country', '2019','Gray')\n",
    "\n"
   ]
  },
  {
   "cell_type": "code",
   "execution_count": 44,
   "id": "a151d15a",
   "metadata": {},
   "outputs": [
    {
     "name": "stdout",
     "output_type": "stream",
     "text": [
      " * sqlite:///CARS.db\n",
      "3 rows affected.\n"
     ]
    },
    {
     "data": {
      "text/plain": [
       "[]"
      ]
     },
     "execution_count": 44,
     "metadata": {},
     "output_type": "execute_result"
    }
   ],
   "source": [
    "%%sql\n",
    "\n",
    "INSERT INTO Customers VALUES ('10001','Pablo Picasso','+34636176382','n/a', 'Paseo de la Chopera 14', 'Madrid','Madrid','Spain','28045'), ('20001','Abraham Lincoln','+13059077086','n/a','120 SW 8th St', 'Miami','Florida', 'United States','33130'),('30001', 'Napoléon Bonaparte','+33179754000','n/a','40 Rue du Colisée','Paris','Île-de-France','France','75008')"
   ]
  },
  {
   "cell_type": "code",
   "execution_count": 46,
   "id": "bc85f592",
   "metadata": {},
   "outputs": [
    {
     "name": "stdout",
     "output_type": "stream",
     "text": [
      " * sqlite:///CARS.db\n",
      "8 rows affected.\n"
     ]
    },
    {
     "data": {
      "text/plain": [
       "[]"
      ]
     },
     "execution_count": 46,
     "metadata": {},
     "output_type": "execute_result"
    }
   ],
   "source": [
    "%%sql\n",
    "\n",
    "INSERT INTO Salespersons VALUES ('00001','Petey Cruiser','Madrid'),('00002','Anna Sthesia','Barcelona'),('00003','Paul Molive','Berlin'), ('00004','Gail Forcewind','Paris'), ('00005','Paige Turner', 'Mimia'), ('00006', 'Bob Frapples','Mexico City'), ('00007','Walter Melon','Amsterdam'), ('00008','Shonda Leer','São Paulo')"
   ]
  },
  {
   "cell_type": "code",
   "execution_count": 47,
   "id": "bd844b30",
   "metadata": {},
   "outputs": [
    {
     "name": "stdout",
     "output_type": "stream",
     "text": [
      " * sqlite:///CARS.db\n",
      "3 rows affected.\n"
     ]
    },
    {
     "data": {
      "text/plain": [
       "[]"
      ]
     },
     "execution_count": 47,
     "metadata": {},
     "output_type": "execute_result"
    }
   ],
   "source": [
    "%%sql\n",
    "\n",
    "INSERT INTO Invoices VALUES ('852399038', '22-08-2018', '0','1','3'), ('731166526', '31-12-2018', '3', '0', '5'), ('271135104', '22-01-2019', '2','2','7')"
   ]
  },
  {
   "cell_type": "code",
   "execution_count": 48,
   "id": "c8d92476",
   "metadata": {},
   "outputs": [
    {
     "name": "stdout",
     "output_type": "stream",
     "text": [
      " * sqlite:///CARS.db\n",
      "Done.\n"
     ]
    },
    {
     "data": {
      "text/html": [
       "<table>\n",
       "    <tr>\n",
       "        <th>VIN</th>\n",
       "        <th>Make</th>\n",
       "        <th>Model</th>\n",
       "        <th>Year</th>\n",
       "        <th>Colour</th>\n",
       "    </tr>\n",
       "    <tr>\n",
       "        <td>3K096I98581DHSNUP</td>\n",
       "        <td>Volkswagen</td>\n",
       "        <td>Tiguan</td>\n",
       "        <td>2019</td>\n",
       "        <td>Blue</td>\n",
       "    </tr>\n",
       "    <tr>\n",
       "        <td>3K096I98581DHSNUP</td>\n",
       "        <td>Volkswagen</td>\n",
       "        <td>Tiguan</td>\n",
       "        <td>2019</td>\n",
       "        <td>Blue</td>\n",
       "    </tr>\n",
       "    <tr>\n",
       "        <td>ZM8G7BEUQZ97IH46V</td>\n",
       "        <td>Peugeot</td>\n",
       "        <td>Rifter</td>\n",
       "        <td>2019</td>\n",
       "        <td>Red</td>\n",
       "    </tr>\n",
       "    <tr>\n",
       "        <td>RKXVNNIHLVVZOUB4M</td>\n",
       "        <td>Ford</td>\n",
       "        <td>Fusion</td>\n",
       "        <td>2018</td>\n",
       "        <td>White</td>\n",
       "    </tr>\n",
       "    <tr>\n",
       "        <td>HKNDGS7CU31E9Z7JW</td>\n",
       "        <td>Toyota</td>\n",
       "        <td>RAV4</td>\n",
       "        <td>2018</td>\n",
       "        <td>Silver</td>\n",
       "    </tr>\n",
       "    <tr>\n",
       "        <td>DAM41UDN3CHU2WVF6</td>\n",
       "        <td>Volvo</td>\n",
       "        <td>V60</td>\n",
       "        <td>2019</td>\n",
       "        <td>Gray</td>\n",
       "    </tr>\n",
       "    <tr>\n",
       "        <td>DAM41UDN3CHU2WVF6</td>\n",
       "        <td>Volvo</td>\n",
       "        <td>V60 Cross Country</td>\n",
       "        <td>2019</td>\n",
       "        <td>Gray</td>\n",
       "    </tr>\n",
       "</table>"
      ],
      "text/plain": [
       "[('3K096I98581DHSNUP', 'Volkswagen', 'Tiguan', 2019, 'Blue'),\n",
       " ('3K096I98581DHSNUP', 'Volkswagen', 'Tiguan', 2019, 'Blue'),\n",
       " ('ZM8G7BEUQZ97IH46V', 'Peugeot', 'Rifter', 2019, 'Red'),\n",
       " ('RKXVNNIHLVVZOUB4M', 'Ford', 'Fusion', 2018, 'White'),\n",
       " ('HKNDGS7CU31E9Z7JW', 'Toyota', 'RAV4', 2018, 'Silver'),\n",
       " ('DAM41UDN3CHU2WVF6', 'Volvo', 'V60', 2019, 'Gray'),\n",
       " ('DAM41UDN3CHU2WVF6', 'Volvo', 'V60 Cross Country', 2019, 'Gray')]"
      ]
     },
     "execution_count": 48,
     "metadata": {},
     "output_type": "execute_result"
    }
   ],
   "source": [
    "%sql SELECT * FROM cars limit 10;"
   ]
  },
  {
   "cell_type": "code",
   "execution_count": 49,
   "id": "43ed2a71",
   "metadata": {},
   "outputs": [
    {
     "name": "stdout",
     "output_type": "stream",
     "text": [
      " * sqlite:///CARS.db\n",
      "Done.\n"
     ]
    },
    {
     "data": {
      "text/html": [
       "<table>\n",
       "    <tr>\n",
       "        <th>Customer</th>\n",
       "        <th>Name</th>\n",
       "        <th>PhoneNo</th>\n",
       "        <th>Email</th>\n",
       "        <th>Address</th>\n",
       "        <th>City</th>\n",
       "        <th>State</th>\n",
       "        <th>Country</th>\n",
       "        <th>Zipcode</th>\n",
       "    </tr>\n",
       "    <tr>\n",
       "        <td>10001</td>\n",
       "        <td>Pablo Picasso</td>\n",
       "        <td>+34636176382</td>\n",
       "        <td>n/a</td>\n",
       "        <td>Paseo de la Chopera 14</td>\n",
       "        <td>Madrid</td>\n",
       "        <td>Madrid</td>\n",
       "        <td>Spain</td>\n",
       "        <td>28045</td>\n",
       "    </tr>\n",
       "    <tr>\n",
       "        <td>20001</td>\n",
       "        <td>Abraham Lincoln</td>\n",
       "        <td>+13059077086</td>\n",
       "        <td>n/a</td>\n",
       "        <td>120 SW 8th St</td>\n",
       "        <td>Miami</td>\n",
       "        <td>Florida</td>\n",
       "        <td>United States</td>\n",
       "        <td>33130</td>\n",
       "    </tr>\n",
       "    <tr>\n",
       "        <td>30001</td>\n",
       "        <td>Napoléon Bonaparte</td>\n",
       "        <td>+33179754000</td>\n",
       "        <td>n/a</td>\n",
       "        <td>40 Rue du Colisée</td>\n",
       "        <td>Paris</td>\n",
       "        <td>Île-de-France</td>\n",
       "        <td>France</td>\n",
       "        <td>75008</td>\n",
       "    </tr>\n",
       "</table>"
      ],
      "text/plain": [
       "[('10001', 'Pablo Picasso', '+34636176382', 'n/a', 'Paseo de la Chopera 14', 'Madrid', 'Madrid', 'Spain', '28045'),\n",
       " ('20001', 'Abraham Lincoln', '+13059077086', 'n/a', '120 SW 8th St', 'Miami', 'Florida', 'United States', '33130'),\n",
       " ('30001', 'Napoléon Bonaparte', '+33179754000', 'n/a', '40 Rue du Colisée', 'Paris', 'Île-de-France', 'France', '75008')]"
      ]
     },
     "execution_count": 49,
     "metadata": {},
     "output_type": "execute_result"
    }
   ],
   "source": [
    "%sql SELECT * FROM Customers limit 10;"
   ]
  },
  {
   "cell_type": "code",
   "execution_count": 50,
   "id": "7afdd771",
   "metadata": {},
   "outputs": [
    {
     "name": "stdout",
     "output_type": "stream",
     "text": [
      " * sqlite:///CARS.db\n",
      "Done.\n"
     ]
    },
    {
     "data": {
      "text/html": [
       "<table>\n",
       "    <tr>\n",
       "        <th>Staff</th>\n",
       "        <th>Name</th>\n",
       "        <th>Store</th>\n",
       "    </tr>\n",
       "    <tr>\n",
       "        <td>00001</td>\n",
       "        <td>Petey Cruiser</td>\n",
       "        <td>Madrid</td>\n",
       "    </tr>\n",
       "    <tr>\n",
       "        <td>00002</td>\n",
       "        <td>Anna Sthesia</td>\n",
       "        <td>Barcelona</td>\n",
       "    </tr>\n",
       "    <tr>\n",
       "        <td>00003</td>\n",
       "        <td>Paul Molive</td>\n",
       "        <td>Berlin</td>\n",
       "    </tr>\n",
       "    <tr>\n",
       "        <td>00004</td>\n",
       "        <td>Gail Forcewind</td>\n",
       "        <td>Paris</td>\n",
       "    </tr>\n",
       "    <tr>\n",
       "        <td>00005</td>\n",
       "        <td>Paige Turner</td>\n",
       "        <td>Mimia</td>\n",
       "    </tr>\n",
       "    <tr>\n",
       "        <td>00006</td>\n",
       "        <td>Bob Frapples</td>\n",
       "        <td>Mexico City</td>\n",
       "    </tr>\n",
       "    <tr>\n",
       "        <td>00007</td>\n",
       "        <td>Walter Melon</td>\n",
       "        <td>Amsterdam</td>\n",
       "    </tr>\n",
       "    <tr>\n",
       "        <td>00008</td>\n",
       "        <td>Shonda Leer</td>\n",
       "        <td>São Paulo</td>\n",
       "    </tr>\n",
       "</table>"
      ],
      "text/plain": [
       "[('00001', 'Petey Cruiser', 'Madrid'),\n",
       " ('00002', 'Anna Sthesia', 'Barcelona'),\n",
       " ('00003', 'Paul Molive', 'Berlin'),\n",
       " ('00004', 'Gail Forcewind', 'Paris'),\n",
       " ('00005', 'Paige Turner', 'Mimia'),\n",
       " ('00006', 'Bob Frapples', 'Mexico City'),\n",
       " ('00007', 'Walter Melon', 'Amsterdam'),\n",
       " ('00008', 'Shonda Leer', 'São Paulo')]"
      ]
     },
     "execution_count": 50,
     "metadata": {},
     "output_type": "execute_result"
    }
   ],
   "source": [
    "%sql SELECT * FROM Salespersons limit 10;"
   ]
  },
  {
   "cell_type": "code",
   "execution_count": 51,
   "id": "814b9b85",
   "metadata": {},
   "outputs": [
    {
     "name": "stdout",
     "output_type": "stream",
     "text": [
      " * sqlite:///CARS.db\n",
      "Done.\n"
     ]
    },
    {
     "data": {
      "text/html": [
       "<table>\n",
       "    <tr>\n",
       "        <th>Invoice</th>\n",
       "        <th>Date</th>\n",
       "        <th>Car</th>\n",
       "        <th>Customer</th>\n",
       "        <th>Salesperson</th>\n",
       "    </tr>\n",
       "    <tr>\n",
       "        <td>852399038</td>\n",
       "        <td>22-08-2018</td>\n",
       "        <td>0</td>\n",
       "        <td>1</td>\n",
       "        <td>3</td>\n",
       "    </tr>\n",
       "    <tr>\n",
       "        <td>731166526</td>\n",
       "        <td>31-12-2018</td>\n",
       "        <td>3</td>\n",
       "        <td>0</td>\n",
       "        <td>5</td>\n",
       "    </tr>\n",
       "    <tr>\n",
       "        <td>271135104</td>\n",
       "        <td>22-01-2019</td>\n",
       "        <td>2</td>\n",
       "        <td>2</td>\n",
       "        <td>7</td>\n",
       "    </tr>\n",
       "</table>"
      ],
      "text/plain": [
       "[('852399038', '22-08-2018', '0', '1', '3'),\n",
       " ('731166526', '31-12-2018', '3', '0', '5'),\n",
       " ('271135104', '22-01-2019', '2', '2', '7')]"
      ]
     },
     "execution_count": 51,
     "metadata": {},
     "output_type": "execute_result"
    }
   ],
   "source": [
    "%sql SELECT * FROM Invoices limit 10;"
   ]
  },
  {
   "cell_type": "code",
   "execution_count": null,
   "id": "0c36cc14",
   "metadata": {},
   "outputs": [],
   "source": []
  }
 ],
 "metadata": {
  "kernelspec": {
   "display_name": "Python 3 (ipykernel)",
   "language": "python",
   "name": "python3"
  },
  "language_info": {
   "codemirror_mode": {
    "name": "ipython",
    "version": 3
   },
   "file_extension": ".py",
   "mimetype": "text/x-python",
   "name": "python",
   "nbconvert_exporter": "python",
   "pygments_lexer": "ipython3",
   "version": "3.9.12"
  }
 },
 "nbformat": 4,
 "nbformat_minor": 5
}
