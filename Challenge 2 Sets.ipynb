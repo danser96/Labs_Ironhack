{
 "cells": [
  {
   "cell_type": "code",
   "execution_count": null,
   "id": "e7a4a11c",
   "metadata": {},
   "outputs": [],
   "source": [
    "#First, import the Python random libary"
   ]
  },
  {
   "cell_type": "code",
   "execution_count": 1,
   "id": "a515d68e",
   "metadata": {},
   "outputs": [],
   "source": [
    "import random"
   ]
  },
  {
   "cell_type": "code",
   "execution_count": null,
   "id": "28466ac6",
   "metadata": {},
   "outputs": [],
   "source": [
    "#In the cell below, create a list named sample_list_1 with 80 random values."
   ]
  },
  {
   "cell_type": "code",
   "execution_count": 8,
   "id": "741e86d2",
   "metadata": {},
   "outputs": [],
   "source": [
    "sample_list_1 = random.sample(range(100),k=80)"
   ]
  },
  {
   "cell_type": "code",
   "execution_count": 10,
   "id": "b1b4ac13",
   "metadata": {},
   "outputs": [
    {
     "name": "stdout",
     "output_type": "stream",
     "text": [
      "[59, 9, 8, 33, 98, 60, 93, 74, 7, 75, 47, 91, 81, 42, 43, 6, 52, 26, 5, 66, 79, 90, 80, 14, 95, 22, 31, 64, 62, 73, 16, 15, 18, 82, 77, 12, 35, 55, 37, 17, 40, 72, 56, 51, 32, 54, 97, 57, 96, 86, 36, 23, 89, 53, 50, 88, 3, 30, 29, 13, 41, 65, 27, 68, 1, 70, 58, 21, 46, 84, 61, 11, 38, 19, 92, 69, 25, 24, 71, 34]\n"
     ]
    }
   ],
   "source": [
    "print(sample_list_1)"
   ]
  },
  {
   "cell_type": "code",
   "execution_count": null,
   "id": "fc4dc588",
   "metadata": {},
   "outputs": [],
   "source": [
    "#Convert sample_list_1 to a set called set1. Print the length of the set. Is its length still 80?"
   ]
  },
  {
   "cell_type": "code",
   "execution_count": 11,
   "id": "26d00687",
   "metadata": {},
   "outputs": [],
   "source": [
    "set1 = set(sample_list_1)"
   ]
  },
  {
   "cell_type": "code",
   "execution_count": 12,
   "id": "3a47620c",
   "metadata": {},
   "outputs": [
    {
     "name": "stdout",
     "output_type": "stream",
     "text": [
      "{1, 3, 5, 6, 7, 8, 9, 11, 12, 13, 14, 15, 16, 17, 18, 19, 21, 22, 23, 24, 25, 26, 27, 29, 30, 31, 32, 33, 34, 35, 36, 37, 38, 40, 41, 42, 43, 46, 47, 50, 51, 52, 53, 54, 55, 56, 57, 58, 59, 60, 61, 62, 64, 65, 66, 68, 69, 70, 71, 72, 73, 74, 75, 77, 79, 80, 81, 82, 84, 86, 88, 89, 90, 91, 92, 93, 95, 96, 97, 98}\n"
     ]
    }
   ],
   "source": [
    "print(set1)"
   ]
  },
  {
   "cell_type": "code",
   "execution_count": 13,
   "id": "3a72fff2",
   "metadata": {},
   "outputs": [
    {
     "data": {
      "text/plain": [
       "80"
      ]
     },
     "execution_count": 13,
     "metadata": {},
     "output_type": "execute_result"
    }
   ],
   "source": [
    "len(set1)"
   ]
  },
  {
   "cell_type": "code",
   "execution_count": null,
   "id": "1eaa3a9c",
   "metadata": {},
   "outputs": [],
   "source": [
    "#Create another list named sample_list_2 with 80 random values."
   ]
  },
  {
   "cell_type": "code",
   "execution_count": 17,
   "id": "ec4e1627",
   "metadata": {},
   "outputs": [
    {
     "name": "stdout",
     "output_type": "stream",
     "text": [
      "[71, 45, 46, 50, 2, 49, 49, 3, 21, 36, 72, 36, 19, 8, 90, 67, 8, 18, 92, 39, 63, 0, 0, 1, 73, 36, 23, 97, 95, 45, 99, 44, 38, 23, 60, 69, 54, 56, 27, 80, 10, 36, 61, 6, 1, 67, 27, 47, 70, 56, 19, 7, 21, 57, 0, 59, 28, 82, 85, 60, 58, 66, 78, 18, 44, 31, 81, 16, 27, 79, 66, 17, 35, 1, 85, 4, 58, 5, 86, 38]\n"
     ]
    }
   ],
   "source": [
    "sample_list_2 = [random.randrange(100) for i in range(80)]\n",
    "print(sample_list_2)"
   ]
  },
  {
   "cell_type": "code",
   "execution_count": null,
   "id": "10f2695b",
   "metadata": {},
   "outputs": [],
   "source": [
    "#Convert sample_list_2 to a set called set2. Print the length of the set. Is its length still 80?"
   ]
  },
  {
   "cell_type": "code",
   "execution_count": 18,
   "id": "8ac4711e",
   "metadata": {},
   "outputs": [
    {
     "data": {
      "text/plain": [
       "56"
      ]
     },
     "execution_count": 18,
     "metadata": {},
     "output_type": "execute_result"
    }
   ],
   "source": [
    "set2 = set(sample_list_2)\n",
    "len(set2)"
   ]
  },
  {
   "cell_type": "code",
   "execution_count": null,
   "id": "fd44fa0a",
   "metadata": {},
   "outputs": [],
   "source": [
    "#Identify the elements present in set1 but not in set2. Assign the elements to a new set named set3."
   ]
  },
  {
   "cell_type": "code",
   "execution_count": 19,
   "id": "8bf0e344",
   "metadata": {},
   "outputs": [
    {
     "data": {
      "text/plain": [
       "{9,\n",
       " 11,\n",
       " 12,\n",
       " 13,\n",
       " 14,\n",
       " 15,\n",
       " 22,\n",
       " 24,\n",
       " 25,\n",
       " 26,\n",
       " 29,\n",
       " 30,\n",
       " 32,\n",
       " 33,\n",
       " 34,\n",
       " 37,\n",
       " 40,\n",
       " 41,\n",
       " 42,\n",
       " 43,\n",
       " 51,\n",
       " 52,\n",
       " 53,\n",
       " 55,\n",
       " 62,\n",
       " 64,\n",
       " 65,\n",
       " 68,\n",
       " 74,\n",
       " 75,\n",
       " 77,\n",
       " 84,\n",
       " 88,\n",
       " 89,\n",
       " 91,\n",
       " 93,\n",
       " 96,\n",
       " 98}"
      ]
     },
     "execution_count": 19,
     "metadata": {},
     "output_type": "execute_result"
    }
   ],
   "source": [
    "set3 = set1-set2\n",
    "set3"
   ]
  },
  {
   "cell_type": "code",
   "execution_count": null,
   "id": "7ac2c3c9",
   "metadata": {},
   "outputs": [],
   "source": [
    "#Identify the elements present in set2 but not in set1. Assign the elements to a new set named set4."
   ]
  },
  {
   "cell_type": "code",
   "execution_count": 20,
   "id": "74215f67",
   "metadata": {},
   "outputs": [
    {
     "data": {
      "text/plain": [
       "{0, 2, 4, 10, 28, 39, 44, 45, 49, 63, 67, 78, 85, 99}"
      ]
     },
     "execution_count": 20,
     "metadata": {},
     "output_type": "execute_result"
    }
   ],
   "source": [
    "set4 = set2 - set1\n",
    "set4"
   ]
  },
  {
   "cell_type": "code",
   "execution_count": null,
   "id": "367296c4",
   "metadata": {},
   "outputs": [],
   "source": [
    "#Now Identify the elements shared between set1 and set2. Assign the elements to a new set named set5."
   ]
  },
  {
   "cell_type": "code",
   "execution_count": 22,
   "id": "b210227e",
   "metadata": {},
   "outputs": [
    {
     "data": {
      "text/plain": [
       "{1,\n",
       " 3,\n",
       " 5,\n",
       " 6,\n",
       " 7,\n",
       " 8,\n",
       " 16,\n",
       " 17,\n",
       " 18,\n",
       " 19,\n",
       " 21,\n",
       " 23,\n",
       " 27,\n",
       " 31,\n",
       " 35,\n",
       " 36,\n",
       " 38,\n",
       " 46,\n",
       " 47,\n",
       " 50,\n",
       " 54,\n",
       " 56,\n",
       " 57,\n",
       " 58,\n",
       " 59,\n",
       " 60,\n",
       " 61,\n",
       " 66,\n",
       " 69,\n",
       " 70,\n",
       " 71,\n",
       " 72,\n",
       " 73,\n",
       " 79,\n",
       " 80,\n",
       " 81,\n",
       " 82,\n",
       " 86,\n",
       " 90,\n",
       " 92,\n",
       " 95,\n",
       " 97}"
      ]
     },
     "execution_count": 22,
     "metadata": {},
     "output_type": "execute_result"
    }
   ],
   "source": [
    "set5 = set1.intersection(set2)\n",
    "set5"
   ]
  },
  {
   "cell_type": "code",
   "execution_count": null,
   "id": "ea1d8065",
   "metadata": {},
   "outputs": [],
   "source": [
    "#What is the relationship among the following values:\n",
    "\n",
    "#len(set1)\n",
    "#len(set2)\n",
    "#len(set3)\n",
    "#len(set4)\n",
    "#len(set5)"
   ]
  },
  {
   "cell_type": "code",
   "execution_count": 24,
   "id": "659f932e",
   "metadata": {},
   "outputs": [
    {
     "name": "stdout",
     "output_type": "stream",
     "text": [
      "80\n",
      "56\n",
      "38\n",
      "14\n",
      "42\n"
     ]
    }
   ],
   "source": [
    "print(len(set1))\n",
    "print(len(set2))\n",
    "print(len(set3))\n",
    "print (len(set4))\n",
    "print (len(set5))"
   ]
  },
  {
   "cell_type": "code",
   "execution_count": 57,
   "id": "fac1eecb",
   "metadata": {},
   "outputs": [
    {
     "name": "stdout",
     "output_type": "stream",
     "text": [
      "80\n"
     ]
    }
   ],
   "source": [
    "x = len(set3) + len(set5)\n",
    "print(x)"
   ]
  },
  {
   "cell_type": "code",
   "execution_count": 58,
   "id": "596d7b2c",
   "metadata": {},
   "outputs": [
    {
     "name": "stdout",
     "output_type": "stream",
     "text": [
      "True\n"
     ]
    }
   ],
   "source": [
    "print(len(set1)== x)"
   ]
  },
  {
   "cell_type": "code",
   "execution_count": null,
   "id": "38ac1344",
   "metadata": {},
   "outputs": [],
   "source": [
    "print(len(set1) == )"
   ]
  },
  {
   "cell_type": "code",
   "execution_count": null,
   "id": "17a24a61",
   "metadata": {},
   "outputs": [],
   "source": [
    "#Create an empty set called set6."
   ]
  },
  {
   "cell_type": "code",
   "execution_count": 25,
   "id": "048e1eef",
   "metadata": {},
   "outputs": [],
   "source": [
    "set6 = set()"
   ]
  },
  {
   "cell_type": "code",
   "execution_count": null,
   "id": "970d5fcf",
   "metadata": {},
   "outputs": [],
   "source": [
    "#Add set3 and set5 to set6 using the Python Set update method."
   ]
  },
  {
   "cell_type": "code",
   "execution_count": 26,
   "id": "6db30b19",
   "metadata": {},
   "outputs": [],
   "source": [
    "set6.update(set3, set5)"
   ]
  },
  {
   "cell_type": "code",
   "execution_count": 27,
   "id": "25b3e8b1",
   "metadata": {},
   "outputs": [
    {
     "data": {
      "text/plain": [
       "{1,\n",
       " 3,\n",
       " 5,\n",
       " 6,\n",
       " 7,\n",
       " 8,\n",
       " 9,\n",
       " 11,\n",
       " 12,\n",
       " 13,\n",
       " 14,\n",
       " 15,\n",
       " 16,\n",
       " 17,\n",
       " 18,\n",
       " 19,\n",
       " 21,\n",
       " 22,\n",
       " 23,\n",
       " 24,\n",
       " 25,\n",
       " 26,\n",
       " 27,\n",
       " 29,\n",
       " 30,\n",
       " 31,\n",
       " 32,\n",
       " 33,\n",
       " 34,\n",
       " 35,\n",
       " 36,\n",
       " 37,\n",
       " 38,\n",
       " 40,\n",
       " 41,\n",
       " 42,\n",
       " 43,\n",
       " 46,\n",
       " 47,\n",
       " 50,\n",
       " 51,\n",
       " 52,\n",
       " 53,\n",
       " 54,\n",
       " 55,\n",
       " 56,\n",
       " 57,\n",
       " 58,\n",
       " 59,\n",
       " 60,\n",
       " 61,\n",
       " 62,\n",
       " 64,\n",
       " 65,\n",
       " 66,\n",
       " 68,\n",
       " 69,\n",
       " 70,\n",
       " 71,\n",
       " 72,\n",
       " 73,\n",
       " 74,\n",
       " 75,\n",
       " 77,\n",
       " 79,\n",
       " 80,\n",
       " 81,\n",
       " 82,\n",
       " 84,\n",
       " 86,\n",
       " 88,\n",
       " 89,\n",
       " 90,\n",
       " 91,\n",
       " 92,\n",
       " 93,\n",
       " 95,\n",
       " 96,\n",
       " 97,\n",
       " 98}"
      ]
     },
     "execution_count": 27,
     "metadata": {},
     "output_type": "execute_result"
    }
   ],
   "source": [
    "set6"
   ]
  },
  {
   "cell_type": "code",
   "execution_count": null,
   "id": "6c3b4faf",
   "metadata": {},
   "outputs": [],
   "source": [
    "#Check if set1 and set6 are equal."
   ]
  },
  {
   "cell_type": "code",
   "execution_count": 28,
   "id": "327a4bb7",
   "metadata": {},
   "outputs": [
    {
     "data": {
      "text/plain": [
       "True"
      ]
     },
     "execution_count": 28,
     "metadata": {},
     "output_type": "execute_result"
    }
   ],
   "source": [
    "set1 == set6\n"
   ]
  },
  {
   "cell_type": "code",
   "execution_count": null,
   "id": "5d6d2332",
   "metadata": {},
   "outputs": [],
   "source": [
    "#Check if set1 contains set2 using the Python Set issubset method. Then check if set1 contains set3.*"
   ]
  },
  {
   "cell_type": "code",
   "execution_count": 29,
   "id": "1f0efc5c",
   "metadata": {},
   "outputs": [
    {
     "name": "stdout",
     "output_type": "stream",
     "text": [
      "False\n",
      "True\n"
     ]
    }
   ],
   "source": [
    "print(set2.issubset(set1))\n",
    "print(set3.issubset(set1))"
   ]
  },
  {
   "cell_type": "code",
   "execution_count": null,
   "id": "bbc78d69",
   "metadata": {},
   "outputs": [],
   "source": [
    "#Using the Python Set union method, aggregate set3, set4, and set5. Then aggregate set1 and set2.\n",
    "\n",
    "#Check if the aggregated values are equal."
   ]
  },
  {
   "cell_type": "code",
   "execution_count": 31,
   "id": "672ab429",
   "metadata": {},
   "outputs": [
    {
     "data": {
      "text/plain": [
       "True"
      ]
     },
     "execution_count": 31,
     "metadata": {},
     "output_type": "execute_result"
    }
   ],
   "source": [
    "u1 = set3.union(set4,set5)\n",
    "u2 = set1.union(set2)\n",
    "u1 == u2"
   ]
  },
  {
   "cell_type": "code",
   "execution_count": null,
   "id": "35740fec",
   "metadata": {},
   "outputs": [],
   "source": [
    "#Using the pop method, remove the first element from set1."
   ]
  },
  {
   "cell_type": "code",
   "execution_count": 35,
   "id": "87834d5e",
   "metadata": {},
   "outputs": [
    {
     "ename": "TypeError",
     "evalue": "set.pop() takes no arguments (1 given)",
     "output_type": "error",
     "traceback": [
      "\u001b[0;31m---------------------------------------------------------------------------\u001b[0m",
      "\u001b[0;31mTypeError\u001b[0m                                 Traceback (most recent call last)",
      "Input \u001b[0;32mIn [35]\u001b[0m, in \u001b[0;36m<cell line: 1>\u001b[0;34m()\u001b[0m\n\u001b[0;32m----> 1\u001b[0m \u001b[43mset1\u001b[49m\u001b[38;5;241;43m.\u001b[39;49m\u001b[43mpop\u001b[49m\u001b[43m(\u001b[49m\u001b[38;5;241;43m1\u001b[39;49m\u001b[43m)\u001b[49m\n",
      "\u001b[0;31mTypeError\u001b[0m: set.pop() takes no arguments (1 given)"
     ]
    }
   ],
   "source": [
    "set1.pop(1)"
   ]
  },
  {
   "cell_type": "code",
   "execution_count": 36,
   "id": "2c7e5ce0",
   "metadata": {},
   "outputs": [
    {
     "data": {
      "text/plain": [
       "'{1, 3, 5, 6, 7, 8, 9, 11, 12, 13, 14, 15, 16, 17, 18, 19, 21, 22, 23, 24, 25, 26, 27, 29, 30, 31, 32, 33, 34, 35, 36, 37, 38, 40, 41, 42, 43, 46, 47, 50, 51, 52, 53, 54, 55, 56, 57, 58, 59, 60, 61, 62, 64, 65, 66, 68, 69, 70, 71, 72, 73, 74, 75, 77, 79, 80, 81, 82, 84, 86, 88, 89, 90, 91, 92, 93, 95, 96, 97, 98}'"
      ]
     },
     "execution_count": 36,
     "metadata": {},
     "output_type": "execute_result"
    }
   ],
   "source": [
    "str(set1)"
   ]
  },
  {
   "cell_type": "code",
   "execution_count": 41,
   "id": "b3d2e25c",
   "metadata": {},
   "outputs": [
    {
     "data": {
      "text/plain": [
       "[1,\n",
       " 3,\n",
       " 5,\n",
       " 6,\n",
       " 7,\n",
       " 8,\n",
       " 9,\n",
       " 11,\n",
       " 12,\n",
       " 13,\n",
       " 14,\n",
       " 15,\n",
       " 16,\n",
       " 17,\n",
       " 18,\n",
       " 19,\n",
       " 21,\n",
       " 22,\n",
       " 23,\n",
       " 24,\n",
       " 25,\n",
       " 26,\n",
       " 27,\n",
       " 29,\n",
       " 30,\n",
       " 31,\n",
       " 32,\n",
       " 33,\n",
       " 34,\n",
       " 35,\n",
       " 36,\n",
       " 37,\n",
       " 38,\n",
       " 40,\n",
       " 41,\n",
       " 42,\n",
       " 43,\n",
       " 46,\n",
       " 47,\n",
       " 50,\n",
       " 51,\n",
       " 52,\n",
       " 53,\n",
       " 54,\n",
       " 55,\n",
       " 56,\n",
       " 57,\n",
       " 58,\n",
       " 59,\n",
       " 60,\n",
       " 61,\n",
       " 62,\n",
       " 64,\n",
       " 65,\n",
       " 66,\n",
       " 68,\n",
       " 69,\n",
       " 70,\n",
       " 71,\n",
       " 72,\n",
       " 73,\n",
       " 74,\n",
       " 75,\n",
       " 77,\n",
       " 79,\n",
       " 80,\n",
       " 81,\n",
       " 82,\n",
       " 84,\n",
       " 86,\n",
       " 88,\n",
       " 89,\n",
       " 90,\n",
       " 91,\n",
       " 92,\n",
       " 93,\n",
       " 95,\n",
       " 96,\n",
       " 97,\n",
       " 98]"
      ]
     },
     "execution_count": 41,
     "metadata": {},
     "output_type": "execute_result"
    }
   ],
   "source": [
    "list(set1)"
   ]
  },
  {
   "cell_type": "code",
   "execution_count": 44,
   "id": "c58075e7",
   "metadata": {},
   "outputs": [
    {
     "data": {
      "text/plain": [
       "list"
      ]
     },
     "execution_count": 44,
     "metadata": {},
     "output_type": "execute_result"
    }
   ],
   "source": [
    "lista = list(set1)\n",
    "type(lista)"
   ]
  },
  {
   "cell_type": "code",
   "execution_count": 46,
   "id": "4c24e262",
   "metadata": {},
   "outputs": [
    {
     "data": {
      "text/plain": [
       "[98,\n",
       " 97,\n",
       " 96,\n",
       " 95,\n",
       " 93,\n",
       " 92,\n",
       " 91,\n",
       " 90,\n",
       " 89,\n",
       " 88,\n",
       " 86,\n",
       " 84,\n",
       " 82,\n",
       " 81,\n",
       " 80,\n",
       " 79,\n",
       " 77,\n",
       " 75,\n",
       " 74,\n",
       " 73,\n",
       " 72,\n",
       " 71,\n",
       " 70,\n",
       " 69,\n",
       " 68,\n",
       " 66,\n",
       " 65,\n",
       " 64,\n",
       " 62,\n",
       " 61,\n",
       " 60,\n",
       " 59,\n",
       " 58,\n",
       " 57,\n",
       " 56,\n",
       " 55,\n",
       " 54,\n",
       " 53,\n",
       " 52,\n",
       " 51,\n",
       " 50,\n",
       " 47,\n",
       " 46,\n",
       " 43,\n",
       " 42,\n",
       " 41,\n",
       " 40,\n",
       " 38,\n",
       " 37,\n",
       " 36,\n",
       " 35,\n",
       " 34,\n",
       " 33,\n",
       " 32,\n",
       " 31,\n",
       " 30,\n",
       " 29,\n",
       " 27,\n",
       " 26,\n",
       " 25,\n",
       " 24,\n",
       " 23,\n",
       " 22,\n",
       " 21,\n",
       " 19,\n",
       " 18,\n",
       " 17,\n",
       " 16,\n",
       " 15,\n",
       " 14,\n",
       " 13,\n",
       " 12,\n",
       " 11,\n",
       " 9,\n",
       " 8,\n",
       " 7,\n",
       " 6,\n",
       " 5,\n",
       " 3,\n",
       " 1]"
      ]
     },
     "execution_count": 46,
     "metadata": {},
     "output_type": "execute_result"
    }
   ],
   "source": [
    "lista.reverse()\n",
    "lista"
   ]
  },
  {
   "cell_type": "code",
   "execution_count": 47,
   "id": "9c57f53d",
   "metadata": {},
   "outputs": [
    {
     "data": {
      "text/plain": [
       "1"
      ]
     },
     "execution_count": 47,
     "metadata": {},
     "output_type": "execute_result"
    }
   ],
   "source": [
    "lista.pop()"
   ]
  },
  {
   "cell_type": "code",
   "execution_count": 48,
   "id": "09ab1fe2",
   "metadata": {},
   "outputs": [
    {
     "data": {
      "text/plain": [
       "[98,\n",
       " 97,\n",
       " 96,\n",
       " 95,\n",
       " 93,\n",
       " 92,\n",
       " 91,\n",
       " 90,\n",
       " 89,\n",
       " 88,\n",
       " 86,\n",
       " 84,\n",
       " 82,\n",
       " 81,\n",
       " 80,\n",
       " 79,\n",
       " 77,\n",
       " 75,\n",
       " 74,\n",
       " 73,\n",
       " 72,\n",
       " 71,\n",
       " 70,\n",
       " 69,\n",
       " 68,\n",
       " 66,\n",
       " 65,\n",
       " 64,\n",
       " 62,\n",
       " 61,\n",
       " 60,\n",
       " 59,\n",
       " 58,\n",
       " 57,\n",
       " 56,\n",
       " 55,\n",
       " 54,\n",
       " 53,\n",
       " 52,\n",
       " 51,\n",
       " 50,\n",
       " 47,\n",
       " 46,\n",
       " 43,\n",
       " 42,\n",
       " 41,\n",
       " 40,\n",
       " 38,\n",
       " 37,\n",
       " 36,\n",
       " 35,\n",
       " 34,\n",
       " 33,\n",
       " 32,\n",
       " 31,\n",
       " 30,\n",
       " 29,\n",
       " 27,\n",
       " 26,\n",
       " 25,\n",
       " 24,\n",
       " 23,\n",
       " 22,\n",
       " 21,\n",
       " 19,\n",
       " 18,\n",
       " 17,\n",
       " 16,\n",
       " 15,\n",
       " 14,\n",
       " 13,\n",
       " 12,\n",
       " 11,\n",
       " 9,\n",
       " 8,\n",
       " 7,\n",
       " 6,\n",
       " 5,\n",
       " 3]"
      ]
     },
     "execution_count": 48,
     "metadata": {},
     "output_type": "execute_result"
    }
   ],
   "source": [
    "lista"
   ]
  },
  {
   "cell_type": "code",
   "execution_count": null,
   "id": "b519f611",
   "metadata": {},
   "outputs": [],
   "source": [
    "#Remove every element in the following list from set1 if they are present in the set. Print the remaining elements."
   ]
  },
  {
   "cell_type": "code",
   "execution_count": 49,
   "id": "776885f1",
   "metadata": {},
   "outputs": [],
   "source": [
    "list_to_remove = [1, 9, 11, 19, 21, 29, 31, 39, 41, 49, 51, 59, 61, 69, 71, 79, 81, 89, 91, 99]"
   ]
  },
  {
   "cell_type": "code",
   "execution_count": 51,
   "id": "4b8b33a7",
   "metadata": {},
   "outputs": [],
   "source": [
    "new_set = set(list_to_remove)"
   ]
  },
  {
   "cell_type": "code",
   "execution_count": 52,
   "id": "04a597bb",
   "metadata": {},
   "outputs": [
    {
     "data": {
      "text/plain": [
       "{1, 9, 11, 19, 21, 29, 31, 39, 41, 49, 51, 59, 61, 69, 71, 79, 81, 89, 91, 99}"
      ]
     },
     "execution_count": 52,
     "metadata": {},
     "output_type": "execute_result"
    }
   ],
   "source": [
    "new_set"
   ]
  },
  {
   "cell_type": "code",
   "execution_count": 53,
   "id": "b4381018",
   "metadata": {},
   "outputs": [
    {
     "data": {
      "text/plain": [
       "{3,\n",
       " 5,\n",
       " 6,\n",
       " 7,\n",
       " 8,\n",
       " 12,\n",
       " 13,\n",
       " 14,\n",
       " 15,\n",
       " 16,\n",
       " 17,\n",
       " 18,\n",
       " 22,\n",
       " 23,\n",
       " 24,\n",
       " 25,\n",
       " 26,\n",
       " 27,\n",
       " 30,\n",
       " 32,\n",
       " 33,\n",
       " 34,\n",
       " 35,\n",
       " 36,\n",
       " 37,\n",
       " 38,\n",
       " 40,\n",
       " 42,\n",
       " 43,\n",
       " 46,\n",
       " 47,\n",
       " 50,\n",
       " 52,\n",
       " 53,\n",
       " 54,\n",
       " 55,\n",
       " 56,\n",
       " 57,\n",
       " 58,\n",
       " 60,\n",
       " 62,\n",
       " 64,\n",
       " 65,\n",
       " 66,\n",
       " 68,\n",
       " 70,\n",
       " 72,\n",
       " 73,\n",
       " 74,\n",
       " 75,\n",
       " 77,\n",
       " 80,\n",
       " 82,\n",
       " 84,\n",
       " 86,\n",
       " 88,\n",
       " 90,\n",
       " 92,\n",
       " 93,\n",
       " 95,\n",
       " 96,\n",
       " 97,\n",
       " 98}"
      ]
     },
     "execution_count": 53,
     "metadata": {},
     "output_type": "execute_result"
    }
   ],
   "source": [
    "set1 -new_set"
   ]
  },
  {
   "cell_type": "code",
   "execution_count": null,
   "id": "a9a094ba",
   "metadata": {},
   "outputs": [],
   "source": []
  }
 ],
 "metadata": {
  "kernelspec": {
   "display_name": "Python 3 (ipykernel)",
   "language": "python",
   "name": "python3"
  },
  "language_info": {
   "codemirror_mode": {
    "name": "ipython",
    "version": 3
   },
   "file_extension": ".py",
   "mimetype": "text/x-python",
   "name": "python",
   "nbconvert_exporter": "python",
   "pygments_lexer": "ipython3",
   "version": "3.9.12"
  }
 },
 "nbformat": 4,
 "nbformat_minor": 5
}
