{
 "cells": [
  {
   "cell_type": "code",
   "execution_count": 1,
   "id": "47426c15",
   "metadata": {},
   "outputs": [],
   "source": [
    "import re"
   ]
  },
  {
   "cell_type": "markdown",
   "id": "bb6476fd",
   "metadata": {},
   "source": [
    "# In the cell below, combine the strings in the list and add spaces between the strings (do not add a space after the last string). Insert a period after the last string."
   ]
  },
  {
   "cell_type": "code",
   "execution_count": 2,
   "id": "813e9eef",
   "metadata": {},
   "outputs": [],
   "source": [
    "str_list = ['Durante', 'un', 'tiempo', 'no', 'estuvo', 'segura', 'de', 'si', 'su', 'marido', 'era', 'su', 'marido']"
   ]
  },
  {
   "cell_type": "code",
   "execution_count": 3,
   "id": "44f8616f",
   "metadata": {},
   "outputs": [
    {
     "data": {
      "text/plain": [
       "'Durante un tiempo no estuvo segura de si su marido era su marido.'"
      ]
     },
     "execution_count": 3,
     "metadata": {},
     "output_type": "execute_result"
    }
   ],
   "source": [
    "\" \".join(str_list) + \".\""
   ]
  },
  {
   "cell_type": "markdown",
   "id": "5755de89",
   "metadata": {},
   "source": [
    "# Start the list with the string Grocery list: and include a comma and a space between each item except for the last one. Include a period at the end. Only include foods in the list that start with the letter 'b' and ensure all foods are lower case."
   ]
  },
  {
   "cell_type": "code",
   "execution_count": 8,
   "id": "618f2ca8",
   "metadata": {},
   "outputs": [],
   "source": [
    "food_list = ['Bananas', 'Chocolate', 'bread', 'diapers', 'Ice Cream', 'Brownie Mix', 'broccoli']"
   ]
  },
  {
   "cell_type": "code",
   "execution_count": 12,
   "id": "6cc30ffe",
   "metadata": {},
   "outputs": [
    {
     "data": {
      "text/plain": [
       "'Grocery list:  bananas bread brownie mix broccoli.'"
      ]
     },
     "execution_count": 12,
     "metadata": {},
     "output_type": "execute_result"
    }
   ],
   "source": [
    "\"Grocery list:  \" + \" \".join(food_with_b) + \".\""
   ]
  },
  {
   "cell_type": "code",
   "execution_count": 11,
   "id": "e49f5c53",
   "metadata": {},
   "outputs": [
    {
     "data": {
      "text/plain": [
       "['bananas', 'bread', 'brownie mix', 'broccoli']"
      ]
     },
     "execution_count": 11,
     "metadata": {},
     "output_type": "execute_result"
    }
   ],
   "source": [
    "food_with_b = [i.lower() for i in food_list if i.lower().startswith (\"b\")]\n",
    "food_with_b"
   ]
  },
  {
   "cell_type": "markdown",
   "id": "4c5e63d2",
   "metadata": {},
   "source": [
    "# In the cell below, write a function that computes the area of a circle using its radius. Compute the area of the circle and insert the radius and the area between the two strings. Make sure to include spaces between the variable and the strings"
   ]
  },
  {
   "cell_type": "code",
   "execution_count": 30,
   "id": "2d12a4b8",
   "metadata": {},
   "outputs": [],
   "source": [
    "import math\n",
    "\n",
    "string1 = \"The area of the circle with radius:\"\n",
    "string2  = \"is:\"\n",
    "radius = 4.5\n",
    "\n",
    "def area(x, pi = math.pi):\n",
    "    area_of_circle = pi * (x**2) \n",
    "    result= string1 + \" \" + str(x) + \" \" + string2 + \" \" + str(area_of_circle) + \".\"\n",
    "    return result"
   ]
  },
  {
   "cell_type": "code",
   "execution_count": 31,
   "id": "8df46376",
   "metadata": {},
   "outputs": [
    {
     "data": {
      "text/plain": [
       "'The area of the circle with radius: 4.5 is: 63.61725123519331.'"
      ]
     },
     "execution_count": 31,
     "metadata": {},
     "output_type": "execute_result"
    }
   ],
   "source": [
    "area(radius)"
   ]
  },
  {
   "cell_type": "markdown",
   "id": "eef15625",
   "metadata": {},
   "source": [
    "# Challenge 2 - Splitting Strings"
   ]
  },
  {
   "cell_type": "markdown",
   "id": "be944949",
   "metadata": {},
   "source": [
    "# In the cell below, split the string into a list of strings using the space delimiter. Count the frequency of each word in the string in a dictionary. Strip the periods, line breaks and commas from the text. Make sure to remove empty strings from your dictionary."
   ]
  },
  {
   "cell_type": "code",
   "execution_count": 1,
   "id": "277f28df",
   "metadata": {},
   "outputs": [],
   "source": [
    "poem = \"\"\"Some say the world will end in fire,\n",
    "Some say in ice.\n",
    "From what I’ve tasted of desire\n",
    "I hold with those who favor fire.\n",
    "But if it had to perish twice,\n",
    "I think I know enough of hate\n",
    "To say that for destruction ice\n",
    "Is also great\n",
    "And would suffice.\"\"\""
   ]
  },
  {
   "cell_type": "code",
   "execution_count": 57,
   "id": "61f1700b",
   "metadata": {},
   "outputs": [
    {
     "data": {
      "text/plain": [
       "['Some',\n",
       " 'say',\n",
       " 'the',\n",
       " 'world',\n",
       " 'will',\n",
       " 'end',\n",
       " 'in',\n",
       " 'fire',\n",
       " 'Some',\n",
       " 'say',\n",
       " 'in',\n",
       " 'ice',\n",
       " 'From',\n",
       " 'what',\n",
       " 'I’ve',\n",
       " 'tasted',\n",
       " 'of',\n",
       " 'desire',\n",
       " 'I',\n",
       " 'hold',\n",
       " 'with',\n",
       " 'those',\n",
       " 'who',\n",
       " 'favor',\n",
       " 'fire',\n",
       " 'But',\n",
       " 'if',\n",
       " 'it',\n",
       " 'had',\n",
       " 'to',\n",
       " 'perish',\n",
       " 'twice',\n",
       " '',\n",
       " 'I',\n",
       " 'think',\n",
       " 'I',\n",
       " 'know',\n",
       " 'enough',\n",
       " 'of',\n",
       " 'hate',\n",
       " 'To',\n",
       " 'say',\n",
       " 'that',\n",
       " 'for',\n",
       " 'destruction',\n",
       " 'ice',\n",
       " 'Is',\n",
       " 'also',\n",
       " 'great',\n",
       " 'And',\n",
       " 'would',\n",
       " 'suffice']"
      ]
     },
     "execution_count": 57,
     "metadata": {},
     "output_type": "execute_result"
    }
   ],
   "source": [
    "import re\n",
    "poem2 = poem.replace('.', '')\n",
    "splitted = re.split(' |\\n|,', poem2)\n",
    "splitted.remove('')\n",
    "splitted"
   ]
  },
  {
   "cell_type": "code",
   "execution_count": 58,
   "id": "9986fa2a",
   "metadata": {},
   "outputs": [],
   "source": [
    "freq = {}\n",
    "for item in splitted:\n",
    "    if (item in freq):\n",
    "        freq[item] += 1\n",
    "    else:\n",
    "        freq[item] = 1"
   ]
  },
  {
   "cell_type": "code",
   "execution_count": 59,
   "id": "2ee28b9e",
   "metadata": {},
   "outputs": [
    {
     "data": {
      "text/plain": [
       "{'Some': 2,\n",
       " 'say': 3,\n",
       " 'the': 1,\n",
       " 'world': 1,\n",
       " 'will': 1,\n",
       " 'end': 1,\n",
       " 'in': 2,\n",
       " 'fire': 2,\n",
       " 'ice': 2,\n",
       " 'From': 1,\n",
       " 'what': 1,\n",
       " 'I’ve': 1,\n",
       " 'tasted': 1,\n",
       " 'of': 2,\n",
       " 'desire': 1,\n",
       " 'I': 3,\n",
       " 'hold': 1,\n",
       " 'with': 1,\n",
       " 'those': 1,\n",
       " 'who': 1,\n",
       " 'favor': 1,\n",
       " 'But': 1,\n",
       " 'if': 1,\n",
       " 'it': 1,\n",
       " 'had': 1,\n",
       " 'to': 1,\n",
       " 'perish': 1,\n",
       " 'twice': 1,\n",
       " '': 1,\n",
       " 'think': 1,\n",
       " 'know': 1,\n",
       " 'enough': 1,\n",
       " 'hate': 1,\n",
       " 'To': 1,\n",
       " 'that': 1,\n",
       " 'for': 1,\n",
       " 'destruction': 1,\n",
       " 'Is': 1,\n",
       " 'also': 1,\n",
       " 'great': 1,\n",
       " 'And': 1,\n",
       " 'would': 1,\n",
       " 'suffice': 1}"
      ]
     },
     "execution_count": 59,
     "metadata": {},
     "output_type": "execute_result"
    }
   ],
   "source": [
    "freq"
   ]
  },
  {
   "cell_type": "markdown",
   "id": "05ffd682",
   "metadata": {},
   "source": [
    "# In the cell below, find all the words that appear in the text and do not appear in the blacklist. You must parse the string but can choose any data structure you wish for the words that do not appear in the blacklist. Remove all non letter characters and convert all words to lower case."
   ]
  },
  {
   "cell_type": "code",
   "execution_count": 62,
   "id": "097df995",
   "metadata": {},
   "outputs": [],
   "source": [
    "blacklist = ['and', 'as', 'an', 'a', 'the', 'in', 'it']\n",
    "\n",
    "poem_2 = \"\"\"I was angry with my friend; \n",
    "I told my wrath, my wrath did end.\n",
    "I was angry with my foe: \n",
    "I told it not, my wrath did grow. \n",
    "\n",
    "And I waterd it in fears,\n",
    "Night & morning with my tears: \n",
    "And I sunned it with smiles,\n",
    "And with soft deceitful wiles. \n",
    "\n",
    "And it grew both day and night. \n",
    "Till it bore an apple bright. \n",
    "And my foe beheld it shine,\n",
    "And he knew that it was mine. \n",
    "\n",
    "And into my garden stole, \n",
    "When the night had veild the pole; \n",
    "In the morning glad I see; \n",
    "My foe outstretched beneath the tree.\"\"\""
   ]
  },
  {
   "cell_type": "code",
   "execution_count": 73,
   "id": "b01444c5",
   "metadata": {},
   "outputs": [
    {
     "name": "stdout",
     "output_type": "stream",
     "text": [
      "I was angry with my friend; I told my wrath my wrath did end I was angry with my foe I told it not my wrath did grow  And I waterd it in fears Night morning with my tears And I sunned it with smiles And with soft deceitful wiles  And it grew both day and night Till it bore an apple bright And my foe beheld it shine And he knew that it was mine  And into my garden stole When the night had veild the pole; In the morning glad I see; My foe outstretched beneath the tree\n"
     ]
    },
    {
     "data": {
      "text/plain": [
       "['i',\n",
       " 'was',\n",
       " 'angry',\n",
       " 'with',\n",
       " 'my',\n",
       " 'friend;',\n",
       " 'i',\n",
       " 'told',\n",
       " 'my',\n",
       " 'wrath',\n",
       " 'my',\n",
       " 'wrath',\n",
       " 'did',\n",
       " 'end',\n",
       " 'i',\n",
       " 'was',\n",
       " 'angry',\n",
       " 'with',\n",
       " 'my',\n",
       " 'foe',\n",
       " 'i',\n",
       " 'told',\n",
       " 'it',\n",
       " 'not',\n",
       " 'my',\n",
       " 'wrath',\n",
       " 'did',\n",
       " 'grow',\n",
       " '',\n",
       " 'and',\n",
       " 'i',\n",
       " 'waterd',\n",
       " 'it',\n",
       " 'in',\n",
       " 'fears',\n",
       " 'night',\n",
       " 'morning',\n",
       " 'with',\n",
       " 'my',\n",
       " 'tears',\n",
       " 'and',\n",
       " 'i',\n",
       " 'sunned',\n",
       " 'it',\n",
       " 'with',\n",
       " 'smiles',\n",
       " 'and',\n",
       " 'with',\n",
       " 'soft',\n",
       " 'deceitful',\n",
       " 'wiles',\n",
       " '',\n",
       " 'and',\n",
       " 'it',\n",
       " 'grew',\n",
       " 'both',\n",
       " 'day',\n",
       " 'and',\n",
       " 'night',\n",
       " 'till',\n",
       " 'it',\n",
       " 'bore',\n",
       " 'an',\n",
       " 'apple',\n",
       " 'bright',\n",
       " 'and',\n",
       " 'my',\n",
       " 'foe',\n",
       " 'beheld',\n",
       " 'it',\n",
       " 'shine',\n",
       " 'and',\n",
       " 'he',\n",
       " 'knew',\n",
       " 'that',\n",
       " 'it',\n",
       " 'was',\n",
       " 'mine',\n",
       " '',\n",
       " 'and',\n",
       " 'into',\n",
       " 'my',\n",
       " 'garden',\n",
       " 'stole',\n",
       " 'when',\n",
       " 'the',\n",
       " 'night',\n",
       " 'had',\n",
       " 'veild',\n",
       " 'the',\n",
       " 'pole;',\n",
       " 'in',\n",
       " 'the',\n",
       " 'morning',\n",
       " 'glad',\n",
       " 'i',\n",
       " 'see;',\n",
       " 'my',\n",
       " 'foe',\n",
       " 'outstretched',\n",
       " 'beneath',\n",
       " 'the',\n",
       " 'tree']"
      ]
     },
     "execution_count": 73,
     "metadata": {},
     "output_type": "execute_result"
    }
   ],
   "source": [
    "poem_2_edit = poem_2.replace(\".\",\"\").replace(\",\",\"\").replace(\"\\n\", \" \").replace(\":\",\"\").replace(\"&\",\"\")\n",
    "poem_2_editedit = poem_2_edit.replace (\"  \",\" \"). replace (\"   \",\" \")\n",
    "print (poem_2_editedit)\n",
    "poem_2_edit3 = poem_2_editedit.lower()\n",
    "poem_limpio= re.split(\" \", poem_2_edit3)\n",
    "poem_limpio"
   ]
  },
  {
   "cell_type": "code",
   "execution_count": 76,
   "id": "d73588aa",
   "metadata": {},
   "outputs": [
    {
     "name": "stdout",
     "output_type": "stream",
     "text": [
      "['i', 'was', 'angry', 'with', 'my', 'friend;', 'i', 'told', 'my', 'wrath', 'my', 'wrath', 'did', 'end', 'i', 'was', 'angry', 'with', 'my', 'foe', 'i', 'told', 'not', 'my', 'wrath', 'did', 'grow', '', 'i', 'waterd', 'fears', 'night', 'morning', 'with', 'my', 'tears', 'i', 'sunned', 'with', 'smiles', 'with', 'soft', 'deceitful', 'wiles', '', 'grew', 'both', 'day', 'night', 'till', 'bore', 'apple', 'bright', 'my', 'foe', 'beheld', 'shine', 'he', 'knew', 'that', 'was', 'mine', '', 'into', 'my', 'garden', 'stole', 'when', 'night', 'had', 'veild', 'pole;', 'morning', 'glad', 'i', 'see;', 'my', 'foe', 'outstretched', 'beneath', 'tree']\n"
     ]
    }
   ],
   "source": [
    "clean = []\n",
    "\n",
    "for i in poem_limpio:\n",
    "    if i not in blacklist:\n",
    "        clean.append(i)\n",
    "print(clean)\n",
    "    "
   ]
  },
  {
   "cell_type": "markdown",
   "id": "b377fb07",
   "metadata": {},
   "source": [
    "# Challenge 3 - Regular Expressions\n",
    "Sometimes, we would like to perform more complex manipulations of our string. This is where regular expressions come in handy. In the cell below, return all characters that are upper case from the string specified below.\n"
   ]
  },
  {
   "cell_type": "code",
   "execution_count": 79,
   "id": "dab8c06a",
   "metadata": {},
   "outputs": [],
   "source": [
    "p = \"\"\"The apparition of these faces in the crowd;\n",
    "Petals on a wet, black bough.\"\"\""
   ]
  },
  {
   "cell_type": "code",
   "execution_count": 86,
   "id": "00b4657e",
   "metadata": {},
   "outputs": [
    {
     "data": {
      "text/plain": [
       "['T', 'P']"
      ]
     },
     "execution_count": 86,
     "metadata": {},
     "output_type": "execute_result"
    }
   ],
   "source": [
    "([i for i in p if i.isupper()])"
   ]
  },
  {
   "cell_type": "markdown",
   "id": "2d7b4f12",
   "metadata": {},
   "source": [
    "#\n",
    "In the cell below, filter the list provided and return all elements of the list containing a number. To filter the list, use the re.search function. Check if the function does not return None. "
   ]
  },
  {
   "cell_type": "code",
   "execution_count": 83,
   "id": "d4dae3d3",
   "metadata": {},
   "outputs": [],
   "source": [
    "data = ['123abc', 'abc123', 'JohnSmith1', 'ABBY4', 'JANE']"
   ]
  },
  {
   "cell_type": "code",
   "execution_count": 87,
   "id": "6bd083f2",
   "metadata": {},
   "outputs": [
    {
     "name": "stdout",
     "output_type": "stream",
     "text": [
      "['123abc', 'abc123', 'JohnSmith1', 'ABBY4']\n"
     ]
    }
   ],
   "source": [
    "filtered_list = []\n",
    "for i in data:\n",
    "    match= re.search(r'\\d+', i)\n",
    "    if match:\n",
    "        filtered_list.append(i)\n",
    "\n",
    "print (filtered_list)"
   ]
  },
  {
   "cell_type": "markdown",
   "id": "d3ded86b",
   "metadata": {},
   "source": [
    "# Bonus Challenge - Regular Expressions II\n",
    "\n",
    "In the cell below, filter the list provided to keep only strings containing at least one digit and at least one lower case letter. As in the previous question, use the re.search function and check that the result is not None."
   ]
  },
  {
   "cell_type": "code",
   "execution_count": 5,
   "id": "ed28f016",
   "metadata": {},
   "outputs": [],
   "source": [
    "import re"
   ]
  },
  {
   "cell_type": "code",
   "execution_count": 6,
   "id": "d869e18e",
   "metadata": {},
   "outputs": [],
   "source": [
    "data2 = ['123abc', 'abc123', 'JohnSmith1', 'ABBY4', 'JANE']"
   ]
  },
  {
   "cell_type": "code",
   "execution_count": 16,
   "id": "2ec4d716",
   "metadata": {},
   "outputs": [
    {
     "name": "stdout",
     "output_type": "stream",
     "text": [
      "['123abc', 'abc123', 'JohnSmith1']\n"
     ]
    }
   ],
   "source": [
    "filtered_list = []\n",
    "for i in data2:\n",
    "    match= re.search(r'\\d' and '[a-z]', i)\n",
    "    if match:\n",
    "        filtered_list.append(i)\n",
    "\n",
    "print (filtered_list)"
   ]
  },
  {
   "cell_type": "markdown",
   "id": "fce6b7fe",
   "metadata": {},
   "source": [
    "# The Challenge\n",
    "\n",
    "We need to create a BoW from a list of documents. The documents (doc1.txt, doc2.txt, and doc3.txt) can be found in the your-code directory of this exercise. You will read the content of each document into an array of strings named corpus.\n",
    "\n",
    "What is a corpus (plural: corpora)? Read the reference in the README file.\n",
    "\n",
    "Your challenge is to use Python to generate the BoW of these documents. Your BoW should look like below:"
   ]
  },
  {
   "cell_type": "code",
   "execution_count": 1,
   "id": "c7e7ff7d",
   "metadata": {},
   "outputs": [],
   "source": [
    "bag_of_words = ['a', 'am', 'at', 'cool', 'i', 'ironhack', 'is', 'love', 'student']\n",
    "\n",
    "term_freq = [\n",
    "    [0, 0, 0, 1, 0, 1, 1, 0, 0],\n",
    "    [0, 0, 0, 0, 1, 1, 0, 1, 0],\n",
    "    [1, 1, 1, 0, 1, 1, 0, 0, 1],\n",
    "]"
   ]
  },
  {
   "cell_type": "markdown",
   "id": "90e7b5be",
   "metadata": {},
   "source": [
    "# \n",
    "Now let's define the docs array that contains the paths of doc1.txt, doc2.txt, and doc3.txt."
   ]
  },
  {
   "cell_type": "code",
   "execution_count": 2,
   "id": "a3f5655e",
   "metadata": {},
   "outputs": [],
   "source": [
    "docs = ['doc1.txt', 'doc2.txt', 'doc3.txt']"
   ]
  },
  {
   "cell_type": "code",
   "execution_count": 3,
   "id": "b8fc2464",
   "metadata": {},
   "outputs": [],
   "source": [
    "import os\n",
    "import numpy as np\n",
    "import pandas as pd"
   ]
  },
  {
   "cell_type": "code",
   "execution_count": 4,
   "id": "e10ebc7d",
   "metadata": {},
   "outputs": [
    {
     "name": "stdout",
     "output_type": "stream",
     "text": [
      "['58585-0.txt', 'doc1.txt', 'doc3.txt', 'doc2.txt']\n"
     ]
    }
   ],
   "source": [
    "items= os.listdir(\"./\")\n",
    "\n",
    "docs = []\n",
    "for names in items:\n",
    "    if names.endswith(\".txt\"):\n",
    "        docs.append(names)\n",
    "print(docs)"
   ]
  },
  {
   "cell_type": "markdown",
   "id": "1bd405c3",
   "metadata": {},
   "source": [
    "#\n",
    "Define an empty array corpus that will contain the content strings of the docs. Loop docs and read the content of each doc into the corpus array."
   ]
  },
  {
   "cell_type": "code",
   "execution_count": 5,
   "id": "67fa3e39",
   "metadata": {},
   "outputs": [],
   "source": [
    "directory = \"./\"\n",
    "corpus = []\n",
    "\n",
    "for filename in os.listdir(directory):\n",
    "    if filename.endswith(\".txt\"):\n",
    "        with open (filename, \"r\") as f:\n",
    "            content = f.readline()\n",
    "        corpus.append(content)"
   ]
  },
  {
   "cell_type": "code",
   "execution_count": 6,
   "id": "52b6bb23",
   "metadata": {},
   "outputs": [
    {
     "name": "stdout",
     "output_type": "stream",
     "text": [
      "['\\ufeffThe Project Gutenberg EBook of The Prophet, by Kahlil Gibran\\n', 'Ironhack is cool.', 'I am a student at Ironhack.', 'I love Ironhack.']\n"
     ]
    }
   ],
   "source": [
    "print(corpus)"
   ]
  },
  {
   "cell_type": "markdown",
   "id": "e70150d8",
   "metadata": {},
   "source": [
    "# This is because you haven't done two important steps:\n",
    "\n",
    "Remove punctuation from the strings\n",
    "\n",
    "Convert strings to lowercase\n",
    "\n",
    "Write your code below to process corpus (convert to lower case and remove special characters)."
   ]
  },
  {
   "cell_type": "code",
   "execution_count": 8,
   "id": "944b00d5",
   "metadata": {},
   "outputs": [
    {
     "data": {
      "text/plain": [
       "['\\ufeffthe project gutenberg ebook of the prophet, by kahlil gibran\\n',\n",
       " 'ironhack is cool',\n",
       " 'i am a student at ironhack',\n",
       " 'i love ironhack']"
      ]
     },
     "execution_count": 8,
     "metadata": {},
     "output_type": "execute_result"
    }
   ],
   "source": [
    "clean_list = [(lambda i: i.lower().strip(\"⧵.\")) (i) for i in corpus]\n",
    "clean_list"
   ]
  },
  {
   "cell_type": "markdown",
   "id": "6f517821",
   "metadata": {},
   "source": [
    "# \n",
    "Now define bag_of_words as an empty array. It will be used to store the unique terms in corpus."
   ]
  },
  {
   "cell_type": "code",
   "execution_count": 9,
   "id": "127f6000",
   "metadata": {},
   "outputs": [],
   "source": [
    "bag_of_word =[]"
   ]
  },
  {
   "cell_type": "code",
   "execution_count": 10,
   "id": "32c896e3",
   "metadata": {},
   "outputs": [
    {
     "data": {
      "text/plain": [
       "['a',\n",
       " 'am',\n",
       " 'at',\n",
       " 'cool',\n",
       " 'i',\n",
       " 'ironhack',\n",
       " 'is',\n",
       " 'love',\n",
       " 'student',\n",
       " '\\ufeffthe',\n",
       " 'project',\n",
       " 'gutenberg',\n",
       " 'ebook',\n",
       " 'of',\n",
       " 'the',\n",
       " 'prophet,',\n",
       " 'by',\n",
       " 'kahlil',\n",
       " 'gibran\\n']"
      ]
     },
     "execution_count": 10,
     "metadata": {},
     "output_type": "execute_result"
    }
   ],
   "source": [
    "for sentence in clean_list:\n",
    "    terms=sentence.split(\" \")\n",
    "    for word in terms:\n",
    "        if word not in bag_of_words:\n",
    "            bag_of_words.append(word)\n",
    "bag_of_words"
   ]
  },
  {
   "cell_type": "markdown",
   "id": "c26b2555",
   "metadata": {},
   "source": [
    "# \n",
    "Now we define an empty array called term_freq. Loop corpus for a second time. In each loop, create a sub-loop to iterate the terms in bag_of_words. Count how many times each term appears in each doc of corpus. Append the term-frequency array to term_freq."
   ]
  },
  {
   "cell_type": "code",
   "execution_count": 11,
   "id": "a041ca0b",
   "metadata": {},
   "outputs": [],
   "source": [
    "term_freq= []\n",
    "corpus_split= []\n",
    "\n",
    "for i in corpus:\n",
    "    corpus_split.append(i.split(\" \"))\n",
    "        \n",
    "for sentence in corpus_split:\n",
    "    tf2 = []\n",
    "    count = 0\n",
    "    for word in bag_of_words:\n",
    "        if word in sentence:\n",
    "            tf2.append(i)\n",
    "        else:\n",
    "            tf2.append(0)\n",
    "        term_freq.append(tf2)\n",
    "            "
   ]
  },
  {
   "cell_type": "code",
   "execution_count": null,
   "id": "9b852030",
   "metadata": {},
   "outputs": [],
   "source": []
  }
 ],
 "metadata": {
  "kernelspec": {
   "display_name": "Python 3 (ipykernel)",
   "language": "python",
   "name": "python3"
  },
  "language_info": {
   "codemirror_mode": {
    "name": "ipython",
    "version": 3
   },
   "file_extension": ".py",
   "mimetype": "text/x-python",
   "name": "python",
   "nbconvert_exporter": "python",
   "pygments_lexer": "ipython3",
   "version": "3.9.12"
  }
 },
 "nbformat": 4,
 "nbformat_minor": 5
}
