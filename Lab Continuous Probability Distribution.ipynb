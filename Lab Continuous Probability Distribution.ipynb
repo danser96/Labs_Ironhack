{
 "cells": [
  {
   "cell_type": "code",
   "execution_count": 76,
   "id": "9ba7d03d",
   "metadata": {},
   "outputs": [],
   "source": [
    "import numpy as np\n",
    "import matplotlib.pyplot as plt\n",
    "from numpy import random\n",
    "\n"
   ]
  },
  {
   "cell_type": "code",
   "execution_count": 73,
   "id": "7b3e2b30",
   "metadata": {},
   "outputs": [],
   "source": [
    "#np.inf\n",
    "#mu=1\n",
    "#sigma=5\n",
    "#x=np.linspace(-10,10,1000)\n",
    "#fx=(1/(sigma*np.sqrt(2*np.pi)))*np.exp(-(x-mu)**2 /(2*sigma**2))\n",
    "#plt.plot(x,fx)"
   ]
  },
  {
   "cell_type": "markdown",
   "id": "d1f02eea",
   "metadata": {},
   "source": [
    "# Before your start:\n",
    "Read the README.md file\n",
    "Comment as much as you can and use the resources (README.md file)\n",
    "Happy learning!\n",
    "In this exercise, we will generate random numbers from the continuous disributions we learned in the lesson. There are two ways to generate random numbers:\n",
    "\n",
    "Using the numpy library\n",
    "using the Scipy library\n",
    "Use either or both of the lbraries in this exercise."
   ]
  },
  {
   "cell_type": "markdown",
   "id": "a86813f5",
   "metadata": {},
   "source": [
    "# Uniform Distribution\n",
    "To generate uniform random numbers between any two given values using scipy, we can either use the following code or the code that we have discussed in class:"
   ]
  },
  {
   "cell_type": "code",
   "execution_count": 24,
   "id": "b7da9133",
   "metadata": {},
   "outputs": [
    {
     "name": "stdout",
     "output_type": "stream",
     "text": [
      "[2.58247003 2.53352576 2.08087188 2.83517454 2.42850903 2.2710733\n",
      " 2.136968   2.73944739 2.98039812 2.97035276]\n"
     ]
    }
   ],
   "source": [
    "from scipy.stats import uniform\n",
    "x = uniform.rvs(size=10)\n",
    "a = 2\n",
    "b = 3\n",
    "randoms  = a + (b-a)*x\n",
    "print(randoms)"
   ]
  },
  {
   "cell_type": "markdown",
   "id": "a560447e",
   "metadata": {},
   "source": [
    "Your task:\n",
    "\n",
    "Based on the code above, write a function that generates uniformly distributed random numbers. There are several requirements for your function:\n",
    "\n",
    "It should accept 3 parameters:\n",
    "\n",
    "bottom - the lower boundary of the generated numbers\n",
    "\n",
    "ceiling - the upper boundary of the generated numbers\n",
    "\n",
    "count - how many numbers to generate\n",
    "\n",
    "\n",
    "It should return an array of uniformly distributed random numbers\n",
    "Call your function with 2 sets of params below:\n",
    "\n",
    "bottom=10, ceiling=15, count=100\n",
    "\n",
    "bottom=10, ceiling=60, count=1,000\n",
    "\n",
    "\n",
    "Plot the uniform distributions generated above using histograms, where x axis is the value and y axis is the count. Let the histogram's number of bins be 10."
   ]
  },
  {
   "cell_type": "code",
   "execution_count": 119,
   "id": "949367b7",
   "metadata": {},
   "outputs": [],
   "source": [
    "def random(a,b,count):\n",
    "    x=uniform.rvs(size=count)\n",
    "    randoms  = a + (b-a)*x\n",
    "    return randoms"
   ]
  },
  {
   "cell_type": "code",
   "execution_count": 120,
   "id": "ceaf002a",
   "metadata": {},
   "outputs": [
    {
     "data": {
      "text/plain": [
       "array([11.98036511, 10.90652616, 10.96084409, 14.42620617, 12.1171595 ,\n",
       "       14.90993848, 13.78834642, 13.16471844, 13.42130525, 13.7041556 ,\n",
       "       13.17485646, 10.99209135, 10.99903038, 14.33685012, 12.58422823,\n",
       "       10.38213419, 14.1720072 , 10.35749091, 12.93737283, 14.36674831,\n",
       "       11.23143016, 13.80813846, 13.54521877, 11.31745754, 13.72217621,\n",
       "       12.26259232, 13.53782477, 11.61833892, 13.21560607, 12.29158819,\n",
       "       13.4558406 , 11.79397272, 12.54075579, 11.21067939, 12.12115232,\n",
       "       12.51952777, 11.05946993, 10.32333817, 11.56106311, 12.0470148 ,\n",
       "       13.14760067, 13.00444371, 12.9718802 , 12.74564392, 12.11997655,\n",
       "       10.70701494, 10.43535571, 10.26974113, 10.99341699, 11.0667701 ,\n",
       "       14.81844776, 13.59202402, 14.16109817, 14.7237744 , 12.37167438,\n",
       "       12.97256852, 13.26678696, 11.55393005, 13.96815544, 11.23376761,\n",
       "       12.19214131, 13.19699003, 11.33386143, 12.26641252, 12.20760811,\n",
       "       12.52772865, 10.15390652, 10.79438802, 14.21063081, 12.6664582 ,\n",
       "       10.93076052, 11.88997534, 12.91714097, 11.53386937, 12.04092749,\n",
       "       13.26166801, 10.63001935, 11.65947956, 11.1615879 , 12.73029004,\n",
       "       13.02941826, 11.77286319, 14.53444297, 13.8647935 , 13.35981397,\n",
       "       11.34119392, 13.03062415, 11.5559039 , 12.60708396, 10.6493636 ,\n",
       "       12.07323247, 10.50078129, 12.0185292 , 12.21593535, 14.35576258,\n",
       "       12.17975905, 13.69503735, 13.78648417, 10.84173947, 10.43880314])"
      ]
     },
     "execution_count": 120,
     "metadata": {},
     "output_type": "execute_result"
    }
   ],
   "source": [
    "randoms"
   ]
  },
  {
   "cell_type": "code",
   "execution_count": 123,
   "id": "279a1657",
   "metadata": {},
   "outputs": [
    {
     "data": {
      "image/png": "[encoded data removed]",
      "text/plain": [
       "<Figure size 576x360 with 2 Axes>"
      ]
     },
     "metadata": {
      "needs_background": "light"
     },
     "output_type": "display_data"
    }
   ],
   "source": [
    "fig= plt.figure(figsize =(8,5))\n",
    "\n",
    "ax= plt.subplot(1,2,1).set(ylim=(0,120))\n",
    "plt.hist(random(10,15,100))\n",
    "                \n",
    "ax1= plt.subplot(1,2,2).set(ylim=(0,120))\n",
    "plt.hist(random(10,60,1000))\n",
    "\n",
    "plt.show()\n"
   ]
  },
  {
   "cell_type": "code",
   "execution_count": null,
   "id": "b098cddf",
   "metadata": {},
   "outputs": [],
   "source": []
  },
  {
   "cell_type": "markdown",
   "id": "e7a34aa3",
   "metadata": {},
   "source": [
    "How are the two distributions different?"
   ]
  },
  {
   "cell_type": "markdown",
   "id": "541a356a",
   "metadata": {},
   "source": [
    "# Normal Distribution\n",
    "In the same way in the Uniform Distribution challenge, write a function that generates normally distributed random numbers.\n",
    "Generate 1,000 normally distributed numbers with the average of 10 and standard deviation of 1\n",
    "Generate 1,000 normally distributed numbers with the average of 10 and standard deviation of 50\n",
    "Plot the distributions of the data generated.\n",
    "Expected output:"
   ]
  },
  {
   "cell_type": "code",
   "execution_count": 62,
   "id": "ce5f990f",
   "metadata": {},
   "outputs": [],
   "source": [
    "import math\n",
    "from scipy.stats import norm\n",
    "import pandas as pd\n"
   ]
  },
  {
   "cell_type": "code",
   "execution_count": 53,
   "id": "5cdf9369",
   "metadata": {},
   "outputs": [],
   "source": [
    "def random_normal(mean,std,count):\n",
    "    normal = norm(mean,std)\n",
    "    x= normal.rvs(count)\n",
    "    return x "
   ]
  },
  {
   "cell_type": "code",
   "execution_count": 60,
   "id": "0b57afaf",
   "metadata": {},
   "outputs": [
    {
     "data": {
      "image/png": "[encoded data removed]",
      "text/plain": [
       "<Figure size 576x360 with 2 Axes>"
      ]
     },
     "metadata": {
      "needs_background": "light"
     },
     "output_type": "display_data"
    }
   ],
   "source": [
    "fig= plt.figure(figsize =(8,5))\n",
    "\n",
    "ax= plt.subplot(1,2,1)\n",
    "plt.hist(random_normal(10,1,1000), bins = 50)\n",
    "                \n",
    "ax1= plt.subplot(1,2,2)\n",
    "plt.hist(random_normal(10,50,1000), bins = 50)\n",
    "\n",
    "plt.show()"
   ]
  },
  {
   "cell_type": "markdown",
   "id": "f7fed4e7",
   "metadata": {},
   "source": [
    "# Normal Distribution of Real Data\n",
    "In this challenge we are going to take a look the real data. We will use vehicles.csv file for this exercise\n",
    "\n",
    "First import vehicles.csv. Then plot the histograms for the following variables:"
   ]
  },
  {
   "cell_type": "code",
   "execution_count": 63,
   "id": "72695b92",
   "metadata": {},
   "outputs": [
    {
     "data": {
      "text/html": [
       "<div>\n",
       "<style scoped>\n",
       "    .dataframe tbody tr th:only-of-type {\n",
       "        vertical-align: middle;\n",
       "    }\n",
       "\n",
       "    .dataframe tbody tr th {\n",
       "        vertical-align: top;\n",
       "    }\n",
       "\n",
       "    .dataframe thead th {\n",
       "        text-align: right;\n",
       "    }\n",
       "</style>\n",
       "<table border=\"1\" class=\"dataframe\">\n",
       "  <thead>\n",
       "    <tr style=\"text-align: right;\">\n",
       "      <th></th>\n",
       "      <th>Make</th>\n",
       "      <th>Model</th>\n",
       "      <th>Year</th>\n",
       "      <th>Engine Displacement</th>\n",
       "      <th>Cylinders</th>\n",
       "      <th>Transmission</th>\n",
       "      <th>Drivetrain</th>\n",
       "      <th>Vehicle Class</th>\n",
       "      <th>Fuel Type</th>\n",
       "      <th>Fuel Barrels/Year</th>\n",
       "      <th>City MPG</th>\n",
       "      <th>Highway MPG</th>\n",
       "      <th>Combined MPG</th>\n",
       "      <th>CO2 Emission Grams/Mile</th>\n",
       "      <th>Fuel Cost/Year</th>\n",
       "    </tr>\n",
       "  </thead>\n",
       "  <tbody>\n",
       "    <tr>\n",
       "      <th>0</th>\n",
       "      <td>AM General</td>\n",
       "      <td>DJ Po Vehicle 2WD</td>\n",
       "      <td>1984</td>\n",
       "      <td>2.5</td>\n",
       "      <td>4.0</td>\n",
       "      <td>Automatic 3-spd</td>\n",
       "      <td>2-Wheel Drive</td>\n",
       "      <td>Special Purpose Vehicle 2WD</td>\n",
       "      <td>Regular</td>\n",
       "      <td>19.388824</td>\n",
       "      <td>18</td>\n",
       "      <td>17</td>\n",
       "      <td>17</td>\n",
       "      <td>522.764706</td>\n",
       "      <td>1950</td>\n",
       "    </tr>\n",
       "    <tr>\n",
       "      <th>1</th>\n",
       "      <td>AM General</td>\n",
       "      <td>FJ8c Post Office</td>\n",
       "      <td>1984</td>\n",
       "      <td>4.2</td>\n",
       "      <td>6.0</td>\n",
       "      <td>Automatic 3-spd</td>\n",
       "      <td>2-Wheel Drive</td>\n",
       "      <td>Special Purpose Vehicle 2WD</td>\n",
       "      <td>Regular</td>\n",
       "      <td>25.354615</td>\n",
       "      <td>13</td>\n",
       "      <td>13</td>\n",
       "      <td>13</td>\n",
       "      <td>683.615385</td>\n",
       "      <td>2550</td>\n",
       "    </tr>\n",
       "    <tr>\n",
       "      <th>2</th>\n",
       "      <td>AM General</td>\n",
       "      <td>Post Office DJ5 2WD</td>\n",
       "      <td>1985</td>\n",
       "      <td>2.5</td>\n",
       "      <td>4.0</td>\n",
       "      <td>Automatic 3-spd</td>\n",
       "      <td>Rear-Wheel Drive</td>\n",
       "      <td>Special Purpose Vehicle 2WD</td>\n",
       "      <td>Regular</td>\n",
       "      <td>20.600625</td>\n",
       "      <td>16</td>\n",
       "      <td>17</td>\n",
       "      <td>16</td>\n",
       "      <td>555.437500</td>\n",
       "      <td>2100</td>\n",
       "    </tr>\n",
       "    <tr>\n",
       "      <th>3</th>\n",
       "      <td>AM General</td>\n",
       "      <td>Post Office DJ8 2WD</td>\n",
       "      <td>1985</td>\n",
       "      <td>4.2</td>\n",
       "      <td>6.0</td>\n",
       "      <td>Automatic 3-spd</td>\n",
       "      <td>Rear-Wheel Drive</td>\n",
       "      <td>Special Purpose Vehicle 2WD</td>\n",
       "      <td>Regular</td>\n",
       "      <td>25.354615</td>\n",
       "      <td>13</td>\n",
       "      <td>13</td>\n",
       "      <td>13</td>\n",
       "      <td>683.615385</td>\n",
       "      <td>2550</td>\n",
       "    </tr>\n",
       "    <tr>\n",
       "      <th>4</th>\n",
       "      <td>ASC Incorporated</td>\n",
       "      <td>GNX</td>\n",
       "      <td>1987</td>\n",
       "      <td>3.8</td>\n",
       "      <td>6.0</td>\n",
       "      <td>Automatic 4-spd</td>\n",
       "      <td>Rear-Wheel Drive</td>\n",
       "      <td>Midsize Cars</td>\n",
       "      <td>Premium</td>\n",
       "      <td>20.600625</td>\n",
       "      <td>14</td>\n",
       "      <td>21</td>\n",
       "      <td>16</td>\n",
       "      <td>555.437500</td>\n",
       "      <td>2550</td>\n",
       "    </tr>\n",
       "  </tbody>\n",
       "</table>\n",
       "</div>"
      ],
      "text/plain": [
       "               Make                Model  Year  Engine Displacement  \\\n",
       "0        AM General    DJ Po Vehicle 2WD  1984                  2.5   \n",
       "1        AM General     FJ8c Post Office  1984                  4.2   \n",
       "2        AM General  Post Office DJ5 2WD  1985                  2.5   \n",
       "3        AM General  Post Office DJ8 2WD  1985                  4.2   \n",
       "4  ASC Incorporated                  GNX  1987                  3.8   \n",
       "\n",
       "   Cylinders     Transmission        Drivetrain                Vehicle Class  \\\n",
       "0        4.0  Automatic 3-spd     2-Wheel Drive  Special Purpose Vehicle 2WD   \n",
       "1        6.0  Automatic 3-spd     2-Wheel Drive  Special Purpose Vehicle 2WD   \n",
       "2        4.0  Automatic 3-spd  Rear-Wheel Drive  Special Purpose Vehicle 2WD   \n",
       "3        6.0  Automatic 3-spd  Rear-Wheel Drive  Special Purpose Vehicle 2WD   \n",
       "4        6.0  Automatic 4-spd  Rear-Wheel Drive                 Midsize Cars   \n",
       "\n",
       "  Fuel Type  Fuel Barrels/Year  City MPG  Highway MPG  Combined MPG  \\\n",
       "0   Regular          19.388824        18           17            17   \n",
       "1   Regular          25.354615        13           13            13   \n",
       "2   Regular          20.600625        16           17            16   \n",
       "3   Regular          25.354615        13           13            13   \n",
       "4   Premium          20.600625        14           21            16   \n",
       "\n",
       "   CO2 Emission Grams/Mile  Fuel Cost/Year  \n",
       "0               522.764706            1950  \n",
       "1               683.615385            2550  \n",
       "2               555.437500            2100  \n",
       "3               683.615385            2550  \n",
       "4               555.437500            2550  "
      ]
     },
     "execution_count": 63,
     "metadata": {},
     "output_type": "execute_result"
    }
   ],
   "source": [
    "vehicles= pd.read_csv('vehicles.csv')\n",
    "vehicles.head()"
   ]
  },
  {
   "cell_type": "markdown",
   "id": "bd2c6159",
   "metadata": {},
   "source": [
    "1. Fuel Barrels/Year"
   ]
  },
  {
   "cell_type": "code",
   "execution_count": 69,
   "id": "4eb0d6b0",
   "metadata": {},
   "outputs": [
    {
     "data": {
      "text/plain": [
       "<function matplotlib.pyplot.show(close=None, block=None)>"
      ]
     },
     "execution_count": 69,
     "metadata": {},
     "output_type": "execute_result"
    },
    {
     "data": {
      "image/png": "[encoded data removed]",
      "text/plain": [
       "<Figure size 432x288 with 1 Axes>"
      ]
     },
     "metadata": {
      "needs_background": "light"
     },
     "output_type": "display_data"
    }
   ],
   "source": [
    "plt.hist(vehicles['Fuel Barrels/Year'], bins = 50)\n",
    "plt.show"
   ]
  },
  {
   "cell_type": "markdown",
   "id": "39d80180",
   "metadata": {},
   "source": [
    "2. CO2 Emission Grams/Mile"
   ]
  },
  {
   "cell_type": "code",
   "execution_count": 70,
   "id": "d728b7f3",
   "metadata": {},
   "outputs": [
    {
     "data": {
      "text/plain": [
       "<function matplotlib.pyplot.show(close=None, block=None)>"
      ]
     },
     "execution_count": 70,
     "metadata": {},
     "output_type": "execute_result"
    },
    {
     "data": {
      "image/png": "[encoded data removed]",
      "text/plain": [
       "<Figure size 432x288 with 1 Axes>"
      ]
     },
     "metadata": {
      "needs_background": "light"
     },
     "output_type": "display_data"
    }
   ],
   "source": [
    "plt.hist(vehicles['CO2 Emission Grams/Mile'], bins = 50)\n",
    "plt.show"
   ]
  },
  {
   "cell_type": "markdown",
   "id": "7d122ba0",
   "metadata": {},
   "source": [
    "3. Combined MPG"
   ]
  },
  {
   "cell_type": "code",
   "execution_count": 71,
   "id": "950b7708",
   "metadata": {},
   "outputs": [
    {
     "data": {
      "text/plain": [
       "<function matplotlib.pyplot.show(close=None, block=None)>"
      ]
     },
     "execution_count": 71,
     "metadata": {},
     "output_type": "execute_result"
    },
    {
     "data": {
      "image/png": "[encoded data removed]",
      "text/plain": [
       "<Figure size 432x288 with 1 Axes>"
      ]
     },
     "metadata": {
      "needs_background": "light"
     },
     "output_type": "display_data"
    }
   ],
   "source": [
    "plt.hist(vehicles['Combined MPG'], bins = 50)\n",
    "plt.show"
   ]
  },
  {
   "cell_type": "markdown",
   "id": "338e16a1",
   "metadata": {},
   "source": [
    "Which one(s) of the variables are nearly normally distributed? How do you know?"
   ]
  },
  {
   "cell_type": "code",
   "execution_count": 72,
   "id": "7d510a4c",
   "metadata": {},
   "outputs": [
    {
     "data": {
      "text/html": [
       "<div>\n",
       "<style scoped>\n",
       "    .dataframe tbody tr th:only-of-type {\n",
       "        vertical-align: middle;\n",
       "    }\n",
       "\n",
       "    .dataframe tbody tr th {\n",
       "        vertical-align: top;\n",
       "    }\n",
       "\n",
       "    .dataframe thead th {\n",
       "        text-align: right;\n",
       "    }\n",
       "</style>\n",
       "<table border=\"1\" class=\"dataframe\">\n",
       "  <thead>\n",
       "    <tr style=\"text-align: right;\">\n",
       "      <th></th>\n",
       "      <th>mean</th>\n",
       "      <th>std</th>\n",
       "      <th>50%</th>\n",
       "    </tr>\n",
       "  </thead>\n",
       "  <tbody>\n",
       "    <tr>\n",
       "      <th>Fuel Barrels/Year</th>\n",
       "      <td>17.609056</td>\n",
       "      <td>4.467283</td>\n",
       "      <td>17.347895</td>\n",
       "    </tr>\n",
       "    <tr>\n",
       "      <th>CO2 Emission Grams/Mile</th>\n",
       "      <td>475.316339</td>\n",
       "      <td>119.060773</td>\n",
       "      <td>467.736842</td>\n",
       "    </tr>\n",
       "    <tr>\n",
       "      <th>Combined MPG</th>\n",
       "      <td>19.929322</td>\n",
       "      <td>5.112409</td>\n",
       "      <td>19.000000</td>\n",
       "    </tr>\n",
       "  </tbody>\n",
       "</table>\n",
       "</div>"
      ],
      "text/plain": [
       "                               mean         std         50%\n",
       "Fuel Barrels/Year         17.609056    4.467283   17.347895\n",
       "CO2 Emission Grams/Mile  475.316339  119.060773  467.736842\n",
       "Combined MPG              19.929322    5.112409   19.000000"
      ]
     },
     "execution_count": 72,
     "metadata": {},
     "output_type": "execute_result"
    }
   ],
   "source": [
    "vehicles[['Fuel Barrels/Year', 'CO2 Emission Grams/Mile', 'Combined MPG']].describe().transpose()[['mean','std','50%']]"
   ]
  },
  {
   "cell_type": "markdown",
   "id": "1f2507e1",
   "metadata": {},
   "source": [
    "Fuel Barrels per year would be the most normally distributed because\n",
    "the std is closer to 1 and the mean and median are very close"
   ]
  },
  {
   "cell_type": "markdown",
   "id": "bb9373f1",
   "metadata": {},
   "source": [
    "# Exponential Distribution\n",
    "Using numpy.random.exponential, create a function that returns a list of numbers exponentially distributed with the mean of 10.\n",
    "\n",
    "Use the function to generate two number sequences with the size of 1 and 100.\n",
    "\n",
    "Plot the distributions as histograms with the nubmer of bins as 100.\n",
    "\n",
    "Your output should look like below:"
   ]
  },
  {
   "cell_type": "code",
   "execution_count": 85,
   "id": "b681992b",
   "metadata": {},
   "outputs": [],
   "source": [
    "def expo_d(mean,size):\n",
    "    nums = random.exponential(mean, size)\n",
    "    return nums"
   ]
  },
  {
   "cell_type": "code",
   "execution_count": 86,
   "id": "2e0dfbfe",
   "metadata": {},
   "outputs": [
    {
     "name": "stdout",
     "output_type": "stream",
     "text": [
      "1.7464283397463471\n"
     ]
    }
   ],
   "source": [
    "from scipy.stats import expon\n",
    "exp = expon(1) \n",
    "print(exp.rvs())\n"
   ]
  },
  {
   "cell_type": "code",
   "execution_count": 98,
   "id": "6c2d5f1c",
   "metadata": {},
   "outputs": [
    {
     "data": {
      "image/png": "[encoded data removed]",
      "text/plain": [
       "<Figure size 576x360 with 2 Axes>"
      ]
     },
     "metadata": {
      "needs_background": "light"
     },
     "output_type": "display_data"
    }
   ],
   "source": [
    "fig= plt.figure(figsize =(8,5))\n",
    "\n",
    "ax= plt.subplot(1,2,1),\n",
    "plt.hist(expo_d(10,1000), bins=100)\n",
    "                \n",
    "ax1= plt.subplot(1,2,2)\n",
    "plt.hist(expo_d(10,100), bins=100)\n",
    "\n",
    "plt.show()"
   ]
  },
  {
   "cell_type": "markdown",
   "id": "7e9cabac",
   "metadata": {},
   "source": [
    "How are the two distributions different?\n",
    "\n",
    "-With more data we are able to see a closer exponential curve"
   ]
  },
  {
   "cell_type": "markdown",
   "id": "3c3af196",
   "metadata": {},
   "source": [
    "# Exponential Distribution of Real Data\n",
    "Suppose that the amount of time one spends in a bank is exponentially distributed with mean as 10 minutes (i.e. λ = 1/10). What is the probability that a customer will spend less than fifteen minutes in the bank?\n",
    "\n",
    "Write a code in python to solve this problem"
   ]
  },
  {
   "cell_type": "code",
   "execution_count": 102,
   "id": "6c4f030a",
   "metadata": {},
   "outputs": [],
   "source": [
    "from scipy.stats import expon"
   ]
  },
  {
   "cell_type": "code",
   "execution_count": 124,
   "id": "f7df5755",
   "metadata": {},
   "outputs": [
    {
     "data": {
      "text/plain": [
       "0.9932620530009145"
      ]
     },
     "execution_count": 124,
     "metadata": {},
     "output_type": "execute_result"
    }
   ],
   "source": [
    "expon.cdf(x=15, loc=10)"
   ]
  },
  {
   "cell_type": "markdown",
   "id": "866d7cf3",
   "metadata": {},
   "source": [
    "What is the probability that the customer will spend more than 15 minutes"
   ]
  },
  {
   "cell_type": "code",
   "execution_count": 125,
   "id": "78c08251",
   "metadata": {},
   "outputs": [
    {
     "data": {
      "text/plain": [
       "0.006737946999085476"
      ]
     },
     "execution_count": 125,
     "metadata": {},
     "output_type": "execute_result"
    }
   ],
   "source": [
    "1 - expon.cdf(x=15, loc=10)"
   ]
  },
  {
   "cell_type": "code",
   "execution_count": null,
   "id": "c4998d25",
   "metadata": {},
   "outputs": [],
   "source": []
  }
 ],
 "metadata": {
  "kernelspec": {
   "display_name": "Python 3 (ipykernel)",
   "language": "python",
   "name": "python3"
  },
  "language_info": {
   "codemirror_mode": {
    "name": "ipython",
    "version": 3
   },
   "file_extension": ".py",
   "mimetype": "text/x-python",
   "name": "python",
   "nbconvert_exporter": "python",
   "pygments_lexer": "ipython3",
   "version": "3.9.12"
  }
 },
 "nbformat": 4,
 "nbformat_minor": 5
}
