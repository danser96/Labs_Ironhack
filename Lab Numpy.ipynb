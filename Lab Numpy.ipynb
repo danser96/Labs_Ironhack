{
 "cells": [
  {
   "cell_type": "markdown",
   "id": "c9910c18",
   "metadata": {},
   "source": [
    "1. Import the NUMPY package under the name np."
   ]
  },
  {
   "cell_type": "code",
   "execution_count": 1,
   "id": "aaa2259f",
   "metadata": {},
   "outputs": [],
   "source": [
    "import numpy as np"
   ]
  },
  {
   "cell_type": "markdown",
   "id": "40f485e8",
   "metadata": {},
   "source": [
    "2. Print the NUMPY version and the configuration."
   ]
  },
  {
   "cell_type": "code",
   "execution_count": 6,
   "id": "159218e7",
   "metadata": {},
   "outputs": [
    {
     "data": {
      "text/plain": [
       "'1.21.5'"
      ]
     },
     "execution_count": 6,
     "metadata": {},
     "output_type": "execute_result"
    }
   ],
   "source": [
    "np.__version__"
   ]
  },
  {
   "cell_type": "code",
   "execution_count": 7,
   "id": "27abcd41",
   "metadata": {},
   "outputs": [
    {
     "name": "stdout",
     "output_type": "stream",
     "text": [
      "blas_mkl_info:\n",
      "    libraries = ['mkl_rt', 'pthread']\n",
      "    library_dirs = ['/Users/danser/opt/anaconda3/lib']\n",
      "    define_macros = [('SCIPY_MKL_H', None), ('HAVE_CBLAS', None)]\n",
      "    include_dirs = ['/Users/danser/opt/anaconda3/include']\n",
      "blas_opt_info:\n",
      "    libraries = ['mkl_rt', 'pthread']\n",
      "    library_dirs = ['/Users/danser/opt/anaconda3/lib']\n",
      "    define_macros = [('SCIPY_MKL_H', None), ('HAVE_CBLAS', None)]\n",
      "    include_dirs = ['/Users/danser/opt/anaconda3/include']\n",
      "lapack_mkl_info:\n",
      "    libraries = ['mkl_rt', 'pthread']\n",
      "    library_dirs = ['/Users/danser/opt/anaconda3/lib']\n",
      "    define_macros = [('SCIPY_MKL_H', None), ('HAVE_CBLAS', None)]\n",
      "    include_dirs = ['/Users/danser/opt/anaconda3/include']\n",
      "lapack_opt_info:\n",
      "    libraries = ['mkl_rt', 'pthread']\n",
      "    library_dirs = ['/Users/danser/opt/anaconda3/lib']\n",
      "    define_macros = [('SCIPY_MKL_H', None), ('HAVE_CBLAS', None)]\n",
      "    include_dirs = ['/Users/danser/opt/anaconda3/include']\n",
      "Supported SIMD extensions in this NumPy install:\n",
      "    baseline = SSE,SSE2,SSE3\n",
      "    found = SSSE3,SSE41,POPCNT,SSE42,AVX,F16C,FMA3,AVX2\n",
      "    not found = AVX512F,AVX512CD,AVX512_KNL,AVX512_SKX,AVX512_CLX,AVX512_CNL,AVX512_ICL\n"
     ]
    }
   ],
   "source": [
    "np.show_config()"
   ]
  },
  {
   "cell_type": "markdown",
   "id": "2e55f407",
   "metadata": {},
   "source": [
    "3. Generate a 2x3x5 3-dimensional array with random values. Assign the array to variable \"a\"\n",
    "\n",
    "Challenge: there are at least three easy ways that use numpy to generate random arrays. How many ways can you find?"
   ]
  },
  {
   "cell_type": "code",
   "execution_count": 23,
   "id": "c76a0956",
   "metadata": {},
   "outputs": [
    {
     "data": {
      "text/plain": [
       "array([[[0.20166688, 0.39344632, 0.97278534, 0.26488968, 0.11488001],\n",
       "        [0.13158412, 0.39483903, 0.30747162, 0.87382106, 0.71094372],\n",
       "        [0.06636076, 0.96424358, 0.37933404, 0.64388239, 0.13077674]],\n",
       "\n",
       "       [[0.84534914, 0.47385495, 0.01706365, 0.63645746, 0.37845659],\n",
       "        [0.88320469, 0.54169009, 0.84141384, 0.22818489, 0.5377629 ],\n",
       "        [0.23908928, 0.62323899, 0.64531011, 0.462958  , 0.97004555]]])"
      ]
     },
     "execution_count": 23,
     "metadata": {},
     "output_type": "execute_result"
    }
   ],
   "source": [
    "#4. Print a.\n",
    "a = np.random.random( (2,3,5,))\n",
    "a"
   ]
  },
  {
   "cell_type": "code",
   "execution_count": 24,
   "id": "2fa2ed19",
   "metadata": {},
   "outputs": [
    {
     "data": {
      "text/plain": [
       "array([[[47, 28, 46, 89,  5],\n",
       "        [66, 88, 37, 35, 32],\n",
       "        [17,  6, 66, 38, 24]],\n",
       "\n",
       "       [[93, 22,  7, 85, 18],\n",
       "        [62, 27,  3, 80, 53],\n",
       "        [56, 85, 96, 67, 35]]])"
      ]
     },
     "execution_count": 24,
     "metadata": {},
     "output_type": "execute_result"
    }
   ],
   "source": [
    "a1 = np.random.randint(0, 100, size=(2, 3, 5))\n",
    "a1"
   ]
  },
  {
   "cell_type": "code",
   "execution_count": 26,
   "id": "214395f9",
   "metadata": {},
   "outputs": [
    {
     "data": {
      "text/plain": [
       "array([[[0.83498163, 0.59655403, 0.28886324, 0.04295157, 0.9736544 ],\n",
       "        [0.5964717 , 0.79026316, 0.91033938, 0.68815445, 0.18999147],\n",
       "        [0.98147898, 0.28474005, 0.62927317, 0.58103648, 0.59991227]],\n",
       "\n",
       "       [[0.53524811, 0.9957771 , 0.50194608, 0.77102258, 0.49416178],\n",
       "        [0.99767449, 0.97862192, 0.39356804, 0.32192526, 0.86218065],\n",
       "        [0.7993249 , 0.69143063, 0.40851785, 0.38976513, 0.1316484 ]]])"
      ]
     },
     "execution_count": 26,
     "metadata": {},
     "output_type": "execute_result"
    }
   ],
   "source": [
    "from numpy.random import default_rng\n",
    ">>> default_rng(100).random((2,3,5))"
   ]
  },
  {
   "cell_type": "markdown",
   "id": "4facff78",
   "metadata": {},
   "source": [
    "5. Create a 5x2x3 3-dimensional array with all values equaling 1.\n",
    "#Assign the array to variable \"b\"\n",
    "6. Print b."
   ]
  },
  {
   "cell_type": "code",
   "execution_count": 50,
   "id": "28a04fa1",
   "metadata": {},
   "outputs": [
    {
     "data": {
      "text/plain": [
       "array([[[1., 1.],\n",
       "        [1., 1.],\n",
       "        [1., 1.]],\n",
       "\n",
       "       [[1., 1.],\n",
       "        [1., 1.],\n",
       "        [1., 1.]],\n",
       "\n",
       "       [[1., 1.],\n",
       "        [1., 1.],\n",
       "        [1., 1.]],\n",
       "\n",
       "       [[1., 1.],\n",
       "        [1., 1.],\n",
       "        [1., 1.]],\n",
       "\n",
       "       [[1., 1.],\n",
       "        [1., 1.],\n",
       "        [1., 1.]]])"
      ]
     },
     "execution_count": 50,
     "metadata": {},
     "output_type": "execute_result"
    }
   ],
   "source": [
    "b = np.ones((5,3,2))\n",
    "b"
   ]
  },
  {
   "cell_type": "markdown",
   "id": "64e5b055",
   "metadata": {},
   "source": [
    "7. Do a and b have the same size? How do you prove that in Python code?"
   ]
  },
  {
   "cell_type": "code",
   "execution_count": 38,
   "id": "9f84c67d",
   "metadata": {},
   "outputs": [
    {
     "data": {
      "text/plain": [
       "(5, 2, 3)"
      ]
     },
     "execution_count": 38,
     "metadata": {},
     "output_type": "execute_result"
    }
   ],
   "source": [
    "b.shape\n"
   ]
  },
  {
   "cell_type": "code",
   "execution_count": 39,
   "id": "33947122",
   "metadata": {},
   "outputs": [
    {
     "data": {
      "text/plain": [
       "(2, 3, 5)"
      ]
     },
     "execution_count": 39,
     "metadata": {},
     "output_type": "execute_result"
    }
   ],
   "source": [
    "a.shape"
   ]
  },
  {
   "cell_type": "markdown",
   "id": "aafcd517",
   "metadata": {},
   "source": [
    "8. Are you able to add a and b? Why or why not?"
   ]
  },
  {
   "cell_type": "code",
   "execution_count": 40,
   "id": "eff664a4",
   "metadata": {},
   "outputs": [
    {
     "ename": "ValueError",
     "evalue": "operands could not be broadcast together with shapes (2,3,5) (5,2,3) ",
     "output_type": "error",
     "traceback": [
      "\u001b[0;31m---------------------------------------------------------------------------\u001b[0m",
      "\u001b[0;31mValueError\u001b[0m                                Traceback (most recent call last)",
      "Input \u001b[0;32mIn [40]\u001b[0m, in \u001b[0;36m<cell line: 1>\u001b[0;34m()\u001b[0m\n\u001b[0;32m----> 1\u001b[0m \u001b[43mnp\u001b[49m\u001b[38;5;241;43m.\u001b[39;49m\u001b[43madd\u001b[49m\u001b[43m(\u001b[49m\u001b[43ma\u001b[49m\u001b[43m,\u001b[49m\u001b[43mb\u001b[49m\u001b[43m)\u001b[49m\n",
      "\u001b[0;31mValueError\u001b[0m: operands could not be broadcast together with shapes (2,3,5) (5,2,3) "
     ]
    }
   ],
   "source": [
    "#No, they would have to be the same shape:\n",
    "np.add(a,b)"
   ]
  },
  {
   "cell_type": "markdown",
   "id": "98209e0d",
   "metadata": {},
   "source": [
    "9. Transpose b so that it has the same structure of a (i.e. become a 2x3x5 array). Assign the transposed array to varialbe \"c\"."
   ]
  },
  {
   "cell_type": "code",
   "execution_count": 51,
   "id": "3d997d87",
   "metadata": {},
   "outputs": [
    {
     "data": {
      "text/plain": [
       "array([[[1., 1., 1., 1., 1.],\n",
       "        [1., 1., 1., 1., 1.],\n",
       "        [1., 1., 1., 1., 1.]],\n",
       "\n",
       "       [[1., 1., 1., 1., 1.],\n",
       "        [1., 1., 1., 1., 1.],\n",
       "        [1., 1., 1., 1., 1.]]])"
      ]
     },
     "execution_count": 51,
     "metadata": {},
     "output_type": "execute_result"
    }
   ],
   "source": [
    "c= b.T\n",
    "c"
   ]
  },
  {
   "cell_type": "markdown",
   "id": "efc8a84e",
   "metadata": {},
   "source": [
    "10. Try to add a and c. Now it should work. Assign the sum to varialbe \"d\". But why does it work now?"
   ]
  },
  {
   "cell_type": "code",
   "execution_count": 153,
   "id": "27cc4e8c",
   "metadata": {},
   "outputs": [
    {
     "data": {
      "text/plain": [
       "array([[[1.20166688, 1.39344632, 1.97278534, 1.26488968, 1.11488001],\n",
       "        [1.13158412, 1.39483903, 1.30747162, 1.87382106, 1.71094372],\n",
       "        [1.06636076, 1.96424358, 1.37933404, 1.64388239, 1.13077674]],\n",
       "\n",
       "       [[1.84534914, 1.47385495, 1.01706365, 1.63645746, 1.37845659],\n",
       "        [1.88320469, 1.54169009, 1.84141384, 1.22818489, 1.5377629 ],\n",
       "        [1.23908928, 1.62323899, 1.64531011, 1.462958  , 1.97004555]]])"
      ]
     },
     "execution_count": 153,
     "metadata": {},
     "output_type": "execute_result"
    }
   ],
   "source": [
    "#It works because they are the same shape now\n",
    "d = np.add(a,c)\n",
    "d"
   ]
  },
  {
   "cell_type": "markdown",
   "id": "8dc32cab",
   "metadata": {},
   "source": [
    "11. Print a and d. Notice the difference and relation of the two array in terms of the values? Explain."
   ]
  },
  {
   "cell_type": "code",
   "execution_count": 57,
   "id": "ce6404ed",
   "metadata": {},
   "outputs": [
    {
     "name": "stdout",
     "output_type": "stream",
     "text": [
      "[[[0.20166688 0.39344632 0.97278534 0.26488968 0.11488001]\n",
      "  [0.13158412 0.39483903 0.30747162 0.87382106 0.71094372]\n",
      "  [0.06636076 0.96424358 0.37933404 0.64388239 0.13077674]]\n",
      "\n",
      " [[0.84534914 0.47385495 0.01706365 0.63645746 0.37845659]\n",
      "  [0.88320469 0.54169009 0.84141384 0.22818489 0.5377629 ]\n",
      "  [0.23908928 0.62323899 0.64531011 0.462958   0.97004555]]]\n"
     ]
    }
   ],
   "source": [
    "print (a)"
   ]
  },
  {
   "cell_type": "code",
   "execution_count": 154,
   "id": "406c7738",
   "metadata": {},
   "outputs": [
    {
     "name": "stdout",
     "output_type": "stream",
     "text": [
      "[[[1.20166688 1.39344632 1.97278534 1.26488968 1.11488001]\n",
      "  [1.13158412 1.39483903 1.30747162 1.87382106 1.71094372]\n",
      "  [1.06636076 1.96424358 1.37933404 1.64388239 1.13077674]]\n",
      "\n",
      " [[1.84534914 1.47385495 1.01706365 1.63645746 1.37845659]\n",
      "  [1.88320469 1.54169009 1.84141384 1.22818489 1.5377629 ]\n",
      "  [1.23908928 1.62323899 1.64531011 1.462958   1.97004555]]]\n"
     ]
    }
   ],
   "source": [
    "print (d)"
   ]
  },
  {
   "cell_type": "code",
   "execution_count": 64,
   "id": "d846a7ab",
   "metadata": {},
   "outputs": [
    {
     "data": {
      "text/plain": [
       "(2, 3, 5)"
      ]
     },
     "execution_count": 64,
     "metadata": {},
     "output_type": "execute_result"
    }
   ],
   "source": [
    "d.shape"
   ]
  },
  {
   "cell_type": "code",
   "execution_count": 59,
   "id": "60691fcc",
   "metadata": {},
   "outputs": [],
   "source": [
    "#D has all full numbers since we added 1s to it"
   ]
  },
  {
   "cell_type": "markdown",
   "id": "4cf7ca17",
   "metadata": {},
   "source": [
    "12. Multiply a and c. Assign the result to e."
   ]
  },
  {
   "cell_type": "code",
   "execution_count": 60,
   "id": "e8960558",
   "metadata": {},
   "outputs": [
    {
     "data": {
      "text/plain": [
       "array([[[0.20166688, 0.39344632, 0.97278534, 0.26488968, 0.11488001],\n",
       "        [0.13158412, 0.39483903, 0.30747162, 0.87382106, 0.71094372],\n",
       "        [0.06636076, 0.96424358, 0.37933404, 0.64388239, 0.13077674]],\n",
       "\n",
       "       [[0.84534914, 0.47385495, 0.01706365, 0.63645746, 0.37845659],\n",
       "        [0.88320469, 0.54169009, 0.84141384, 0.22818489, 0.5377629 ],\n",
       "        [0.23908928, 0.62323899, 0.64531011, 0.462958  , 0.97004555]]])"
      ]
     },
     "execution_count": 60,
     "metadata": {},
     "output_type": "execute_result"
    }
   ],
   "source": [
    "e = np.multiply(a,c)\n",
    "e"
   ]
  },
  {
   "cell_type": "markdown",
   "id": "f98cd7eb",
   "metadata": {},
   "source": [
    "13. Does e equal to a? Why or why not?"
   ]
  },
  {
   "cell_type": "code",
   "execution_count": 61,
   "id": "719911d1",
   "metadata": {},
   "outputs": [],
   "source": [
    "#E has the same values because each element was multiplied by 1 - so they remained the same"
   ]
  },
  {
   "cell_type": "markdown",
   "id": "5c74d81b",
   "metadata": {},
   "source": [
    "14. Identify the max, min, and mean values in d. Assign those values to variables \"d_max\", \"d_min\", and \"d_mean\""
   ]
  },
  {
   "cell_type": "code",
   "execution_count": 63,
   "id": "1d2e2b9e",
   "metadata": {},
   "outputs": [],
   "source": [
    "d_max= np.max(d)\n",
    "d_min= np.min(d)\n",
    "d_mean= np.mean(d)"
   ]
  },
  {
   "cell_type": "markdown",
   "id": "9ddcac87",
   "metadata": {},
   "source": [
    "15. Now we want to label the values in d. First create an empty array \"f\" with the same shape (i.e. 2x3x5) as d using `np.empty`."
   ]
  },
  {
   "cell_type": "code",
   "execution_count": 103,
   "id": "1138d2d8",
   "metadata": {},
   "outputs": [
    {
     "data": {
      "text/plain": [
       "array([[[ 25.,  25., 100.,  25.,  25.],\n",
       "        [ 25.,  25.,  25.,  75.,  75.],\n",
       "        [ 25.,  75.,  25.,  75.,  25.]],\n",
       "\n",
       "       [[ 75.,  25.,   0.,  75.,  25.],\n",
       "        [ 75.,  75.,  75.,  25.,  75.],\n",
       "        [ 25.,  75.,  75.,  25.,  75.]]])"
      ]
     },
     "execution_count": 103,
     "metadata": {},
     "output_type": "execute_result"
    }
   ],
   "source": [
    "f= np.empty(([2,3,5]))\n",
    "f"
   ]
  },
  {
   "cell_type": "markdown",
   "id": "c7ced4d1",
   "metadata": {},
   "source": [
    "\"\"\"\n",
    "16. Populate the values in f. For each value in d, if it's larger than d_min but smaller than d_mean, assign 25 to the corresponding value in f.\n",
    "If a value in d is larger than d_mean but smaller than d_max, assign 75 to the corresponding value in f.\n",
    "If a value equals to d_mean, assign 50 to the corresponding value in f.\n",
    "Assign 0 to the corresponding value(s) in f for d_min in d.\n",
    "Assign 100 to the corresponding value(s) in f for d_max in d.\n",
    "In the end, f should have only the following values: 0, 25, 50, 75, and 100.\n",
    "Note: you don't have to use Numpy in this question.\n",
    "\"\"\""
   ]
  },
  {
   "cell_type": "code",
   "execution_count": 121,
   "id": "bed4c6e0",
   "metadata": {},
   "outputs": [],
   "source": [
    "for i in range(len(d)):\n",
    "    for j in range(len(d[i])):\n",
    "        for k in range(len(d[i][j])):\n",
    "               if d_mean > d[i][j][k] > d_min:\n",
    "                   f[i][j][k]  = 25\n",
    "               if d_max > d[i][j][k] > d_mean:\n",
    "                    f[i][j][k] = 75\n",
    "               if  d[i][j][k] == d_mean:\n",
    "                     f[i][j][k] = 50\n",
    "               if  d[i][j][k] == d_min:\n",
    "                    f[i][j][k] = 0\n",
    "               if  d[i][j][k] == d_max:\n",
    "                     f[i][j][k] = 100\n",
    "            #print(d[i][j][k])\n",
    "        "
   ]
  },
  {
   "cell_type": "code",
   "execution_count": 122,
   "id": "e86f1444",
   "metadata": {},
   "outputs": [
    {
     "data": {
      "text/plain": [
       "array([75., 75., 75., 75., 75.])"
      ]
     },
     "execution_count": 122,
     "metadata": {},
     "output_type": "execute_result"
    }
   ],
   "source": [
    "f[1][1]"
   ]
  },
  {
   "cell_type": "code",
   "execution_count": 112,
   "id": "91e77a35",
   "metadata": {},
   "outputs": [],
   "source": [
    "f1= [[[25 if d_min<item<d_mean else 75 if d_mean<item< d_max else 0 if item == d_min else 100 for item in in_list] for in_list in out_list] for out_list in d]"
   ]
  },
  {
   "cell_type": "code",
   "execution_count": 111,
   "id": "bea0cd7b",
   "metadata": {},
   "outputs": [
    {
     "data": {
      "text/plain": [
       "[[[25, 25, 100, 25, 25], [25, 25, 25, 75, 75], [25, 75, 25, 75, 25]],\n",
       " [[75, 25, 0, 75, 25], [75, 75, 75, 25, 75], [25, 75, 75, 25, 75]]]"
      ]
     },
     "execution_count": 111,
     "metadata": {},
     "output_type": "execute_result"
    }
   ],
   "source": [
    "f1"
   ]
  },
  {
   "cell_type": "code",
   "execution_count": 119,
   "id": "2110aede",
   "metadata": {},
   "outputs": [],
   "source": [
    "#17. Print d and f. Do you have your expected f?\n",
    "#For instance, if your d is:\n"
   ]
  },
  {
   "cell_type": "code",
   "execution_count": 118,
   "id": "04e07d91",
   "metadata": {},
   "outputs": [],
   "source": [
    "d=   ([[[1.85836099, 1.67064465, 1.62576044, 1.40243961, 1.88454931],\n",
    "        [1.75354326, 1.69403643, 1.36729252, 1.61415071, 1.12104981],\n",
    "        [1.72201435, 1.1862918 , 1.87078449, 1.7726778 , 1.88180042]],\n",
    "       [[1.44747908, 1.31673383, 1.02000951, 1.52218947, 1.97066381],\n",
    "        [1.79129243, 1.74983003, 1.96028037, 1.85166831, 1.65450881],\n",
    "        [1.18068344, 1.9587381 , 1.00656599, 1.93402165, 1.73514584]]])"
   ]
  },
  {
   "cell_type": "code",
   "execution_count": 123,
   "id": "4512dfb1",
   "metadata": {},
   "outputs": [
    {
     "data": {
      "text/plain": [
       "array([[[75., 75., 75., 25., 75.],\n",
       "        [75., 75., 25., 75., 25.],\n",
       "        [75., 25., 75., 75., 75.]],\n",
       "\n",
       "       [[25., 25., 25., 75., 75.],\n",
       "        [75., 75., 75., 75., 75.],\n",
       "        [25., 75., 75., 75., 75.]]])"
      ]
     },
     "execution_count": 123,
     "metadata": {},
     "output_type": "execute_result"
    }
   ],
   "source": [
    "f"
   ]
  },
  {
   "cell_type": "code",
   "execution_count": 124,
   "id": "92e7a851",
   "metadata": {},
   "outputs": [],
   "source": [
    "#18. Bonus question: instead of using numbers (i.e. 0, 25, 50, 75, and 100), how to use string values \n",
    "#(\"A\", \"B\", \"C\", \"D\", and \"E\") to label the array elements? You are expecting the result to be:\n",
    "#array([[[ 'D',  'D',  'D',  'B',  'D'],\n",
    "#        [ 'D',  'D',  'B',  'B',  'B'],\n",
    "#        [ 'D',  'B',  'D',  'D',  'D']],\n",
    "#       [[ 'B',  'B',  'B',  'B',  'E'],\n",
    "#        [ 'D',  'D',  'D',  'D',  'D'],\n",
    "#        [ 'B',  'D',   'A',  'D', 'D']]])"
   ]
  },
  {
   "cell_type": "code",
   "execution_count": 150,
   "id": "50205177",
   "metadata": {},
   "outputs": [
    {
     "data": {
      "text/plain": [
       "array([[['', '', '', '', ''],\n",
       "        ['', '', '', '', ''],\n",
       "        ['', '', '', '', '']],\n",
       "\n",
       "       [['', '', '', '', ''],\n",
       "        ['', '', '', '', ''],\n",
       "        ['', '', '', '', '']]], dtype='<U1')"
      ]
     },
     "execution_count": 150,
     "metadata": {},
     "output_type": "execute_result"
    }
   ],
   "source": [
    "z = np.empty((2, 3, 5), dtype = 'str')\n",
    "z"
   ]
  },
  {
   "cell_type": "code",
   "execution_count": 155,
   "id": "772e99c5",
   "metadata": {},
   "outputs": [],
   "source": [
    "for i in range(len(d)):\n",
    "    for j in range(len(d[i])):\n",
    "        for k in range(len(d[i][j])):\n",
    "               if d_mean > d[i][j][k] > d_min:\n",
    "                   z[i][j][k]  = 'A'\n",
    "               if d_max > d[i][j][k] > d_mean:\n",
    "                    z[i][j][k] = 'B'\n",
    "               if  d[i][j][k] == d_mean:\n",
    "                     z[i][j][k] = 'C'\n",
    "               if  d[i][j][k] == d_min:\n",
    "                    z[i][j][k] = 'D'\n",
    "               if  d[i][j][k] == d_max:\n",
    "                     z[i][j][k] = 'E'"
   ]
  },
  {
   "cell_type": "code",
   "execution_count": 157,
   "id": "67ed77f5",
   "metadata": {},
   "outputs": [
    {
     "data": {
      "text/plain": [
       "array([[['A', 'A', 'E', 'A', 'A'],\n",
       "        ['A', 'A', 'A', 'B', 'B'],\n",
       "        ['A', 'B', 'A', 'B', 'A']],\n",
       "\n",
       "       [['B', 'A', 'D', 'B', 'A'],\n",
       "        ['B', 'B', 'B', 'A', 'B'],\n",
       "        ['A', 'B', 'B', 'A', 'B']]], dtype='<U1')"
      ]
     },
     "execution_count": 157,
     "metadata": {},
     "output_type": "execute_result"
    }
   ],
   "source": [
    "z"
   ]
  },
  {
   "cell_type": "code",
   "execution_count": null,
   "id": "3247998d",
   "metadata": {},
   "outputs": [],
   "source": []
  }
 ],
 "metadata": {
  "kernelspec": {
   "display_name": "Python 3 (ipykernel)",
   "language": "python",
   "name": "python3"
  },
  "language_info": {
   "codemirror_mode": {
    "name": "ipython",
    "version": 3
   },
   "file_extension": ".py",
   "mimetype": "text/x-python",
   "name": "python",
   "nbconvert_exporter": "python",
   "pygments_lexer": "ipython3",
   "version": "3.9.12"
  }
 },
 "nbformat": 4,
 "nbformat_minor": 5
}
