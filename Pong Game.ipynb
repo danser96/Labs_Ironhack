{
 "cells": [
  {
   "cell_type": "code",
   "execution_count": 3,
   "id": "d836e335",
   "metadata": {},
   "outputs": [],
   "source": [
    "import turtle"
   ]
  },
  {
   "cell_type": "code",
   "execution_count": 4,
   "id": "2e9d7f49",
   "metadata": {},
   "outputs": [],
   "source": [
    "import os"
   ]
  },
  {
   "cell_type": "code",
   "execution_count": 5,
   "id": "06cec150",
   "metadata": {},
   "outputs": [],
   "source": [
    "wn = turtle.Screen() #this creates the initial screen while the other things are the settings (wn is window)\n",
    "wn.title(\"Pong by Danser\")\n",
    "wn.bgcolor(\"pink\")\n",
    "wn.setup(width=800, height=600)\n",
    "wn.tracer(0)\n"
   ]
  },
  {
   "cell_type": "code",
   "execution_count": 6,
   "id": "ba5a6dd0",
   "metadata": {},
   "outputs": [],
   "source": [
    "#Score\n",
    "score_a  = 0\n",
    "score_b = 0"
   ]
  },
  {
   "cell_type": "code",
   "execution_count": 7,
   "id": "f21b0802",
   "metadata": {},
   "outputs": [],
   "source": [
    "#Paddle A\n",
    "# goto is for coordinates, where does it start and 0 is the middle\n",
    "paddle_a = turtle.Turtle()\n",
    "paddle_a.speed(0)\n",
    "paddle_a.shape(\"square\")\n",
    "paddle_a.shapesize(stretch_wid=5,stretch_len=1)\n",
    "paddle_a.color(\"green\")\n",
    "paddle_a.penup()\n",
    "paddle_a.goto(-350, 0) "
   ]
  },
  {
   "cell_type": "code",
   "execution_count": 8,
   "id": "e4f64453",
   "metadata": {},
   "outputs": [],
   "source": [
    "#Paddle B\n",
    "# goto is for coordinates so for paddle B we want. +350 to go on the left side\n",
    "paddle_b = turtle.Turtle()\n",
    "paddle_b.speed(0)\n",
    "paddle_b.shape(\"square\")\n",
    "paddle_b.shapesize(stretch_wid=5,stretch_len=1)\n",
    "paddle_b.color(\"green\")\n",
    "paddle_b.penup()\n",
    "paddle_b.goto(+350, 0) "
   ]
  },
  {
   "cell_type": "code",
   "execution_count": 9,
   "id": "867e22ed",
   "metadata": {},
   "outputs": [],
   "source": [
    "#Ball for the ball, we will put coordinate 0,0 as we want it to start right in the middle of the screen\n",
    "ball = turtle.Turtle()\n",
    "ball.speed(0)\n",
    "ball.shape(\"square\")\n",
    "ball.color(\"green\")\n",
    "ball.penup()\n",
    "ball.goto(0, 0) \n",
    "ball.dx = 2\n",
    "ball.dy = 2\n",
    "#d means delta or change - it means that every time the ball moves it will move 2 pixels, since x is positive its\n",
    "# gonna move to the right 2 and since y is positive it will move up 2. For this to happen we refer to the actual game loop"
   ]
  },
  {
   "cell_type": "code",
   "execution_count": 15,
   "id": "9ab4b627",
   "metadata": {},
   "outputs": [],
   "source": [
    "#Pen - is a turtle(an object) that we use as a scoreboard, We use pen because it is a type of dictionary object in turtle\n",
    "\n",
    "pen = turtle.Turtle()\n",
    "pen.speed(0)\n",
    "pen.color(\"black\")\n",
    "pen.penup\n",
    "pen.hideturtle()\n",
    "pen.goto(0,260)\n",
    "pen.write(\"Player A: 0, Player B: 0\", align=\"center\", font=(\"Comic Sans\",24, \"normal\"))"
   ]
  },
  {
   "cell_type": "code",
   "execution_count": 24,
   "id": "1cd9860b",
   "metadata": {},
   "outputs": [],
   "source": [
    "#Functions"
   ]
  },
  {
   "cell_type": "code",
   "execution_count": 10,
   "id": "ec69fc8b",
   "metadata": {},
   "outputs": [],
   "source": [
    "#ycor is from the turtle module, it returns the y coordinate - we are returning it to y \n",
    "def paddle_a_up():\n",
    "    y = paddle_a.ycor()\n",
    "    y = y + 20 \n",
    "    paddle_a.sety(y)\n",
    "    \n",
    "#keyboard binding/ listen tells it to listen for a keyboard input\n",
    "wn.listen()\n",
    "wn.onkeypress(paddle_a_up, \"w\")\n",
    "#\"w\" is saying, when the user presses w, call the function paddle_a_up - which will in turn move the paddle upwards."
   ]
  },
  {
   "cell_type": "code",
   "execution_count": 11,
   "id": "30aab3c6",
   "metadata": {},
   "outputs": [],
   "source": [
    "def paddle_a_down():\n",
    "    y = paddle_a.ycor()\n",
    "    y = y - 20 \n",
    "    paddle_a.sety(y)\n",
    "\n",
    "wn.listen()\n",
    "wn.onkeypress(paddle_a_down, \"s\")\n"
   ]
  },
  {
   "cell_type": "code",
   "execution_count": 12,
   "id": "f0d4e23e",
   "metadata": {},
   "outputs": [],
   "source": [
    "def paddle_b_up():\n",
    "    y = paddle_b.ycor()\n",
    "    y = y + 20 \n",
    "    paddle_b.sety(y)\n",
    "    \n",
    "#the capital up and down are for the arrows on the keyboard\n",
    "wn.listen()\n",
    "wn.onkeypress(paddle_b_up, \"Up\")\n"
   ]
  },
  {
   "cell_type": "code",
   "execution_count": 13,
   "id": "9d812783",
   "metadata": {},
   "outputs": [],
   "source": [
    "def paddle_b_down():\n",
    "    y = paddle_b.ycor()\n",
    "    y = y - 20 \n",
    "    paddle_b.sety(y)\n",
    "\n",
    "wn.listen()\n",
    "wn.onkeypress(paddle_b_down, \"Down\")"
   ]
  },
  {
   "cell_type": "code",
   "execution_count": 29,
   "id": "943dbe0f",
   "metadata": {},
   "outputs": [],
   "source": [
    "# Main game loop"
   ]
  },
  {
   "cell_type": "code",
   "execution_count": null,
   "id": "9d2d8c82",
   "metadata": {},
   "outputs": [],
   "source": [
    "while True:\n",
    "    wn.update()\n",
    "    \n",
    "    # Move the ball\n",
    "    ball.setx(ball.xcor() + ball.dx)\n",
    "    ball.sety(ball.ycor() + ball.dy)\n",
    "\n",
    "    # Border checking\n",
    "\n",
    "    # Top and bottom\n",
    "    if ball.ycor() > 290:\n",
    "        ball.sety(290)\n",
    "        ball.dy *= -1\n",
    "        \n",
    "    \n",
    "    elif ball.ycor() < -290:\n",
    "        ball.sety(-290)\n",
    "        ball.dy *= -1\n",
    "       \n",
    "\n",
    "    # Left and right\n",
    "    if ball.xcor() > 350:\n",
    "        score_a += 1\n",
    "        pen.clear()\n",
    "        pen.write(\"Player A: {}  Player B: {}\".format(score_a, score_b), align=\"center\", font=(\"Courier\", 24, \"normal\"))\n",
    "        ball.goto(0, 0)\n",
    "        ball.dx *= -1\n",
    "\n",
    "    elif ball.xcor() < -350:\n",
    "        score_b += 1\n",
    "        pen.clear()\n",
    "        pen.write(\"Player A: {}  Player B: {}\".format(score_a, score_b), align=\"center\", font=(\"Courier\", 24, \"normal\"))\n",
    "        ball.goto(0, 0)\n",
    "        ball.dx *= -1\n",
    "\n",
    "    # Paddle and ball collisions\n",
    "    if ball.xcor() < -340 and ball.ycor() < paddle_a.ycor() + 50 and ball.ycor() > paddle_a.ycor() - 50:\n",
    "        ball.dx *= -1 \n",
    "       \n",
    "    \n",
    "    elif ball.xcor() > 340 and ball.ycor() < paddle_b.ycor() + 50 and ball.ycor() > paddle_b.ycor() - 50:\n",
    "        ball.dx *= -1\n",
    "     \n",
    "    \n",
    "    "
   ]
  },
  {
   "cell_type": "code",
   "execution_count": null,
   "id": "5acab28c",
   "metadata": {},
   "outputs": [],
   "source": []
  },
  {
   "cell_type": "code",
   "execution_count": null,
   "id": "58fac862",
   "metadata": {},
   "outputs": [],
   "source": []
  },
  {
   "cell_type": "code",
   "execution_count": null,
   "id": "9556825b",
   "metadata": {},
   "outputs": [],
   "source": []
  },
  {
   "cell_type": "code",
   "execution_count": null,
   "id": "22ff9f00",
   "metadata": {},
   "outputs": [],
   "source": []
  },
  {
   "cell_type": "code",
   "execution_count": null,
   "id": "7e9885db",
   "metadata": {},
   "outputs": [],
   "source": []
  },
  {
   "cell_type": "code",
   "execution_count": null,
   "id": "90a9f6dc",
   "metadata": {},
   "outputs": [],
   "source": []
  },
  {
   "cell_type": "code",
   "execution_count": null,
   "id": "db76fd2b",
   "metadata": {},
   "outputs": [],
   "source": [
    "# Move the ball : as the ball starts at 0. each time it goes through the loop it moves 2\n",
    "ball.setx(ball.xcor() + ball.dx)\n",
    "ball.sety(ball.ycor() + ball.dy)\n",
    "# at this step the ball is moving off the screen though.\n",
    "#Border checking - since it moves up to the right by default, we will fix that border first\n",
    "if ball.ycor()>290:\n",
    "    ball.sety(290)\n",
    "    ball.dy *= -1\n",
    "#this reverses the direction\n",
    "if ball.ycor()<-290:\n",
    "    ball.sety(-290)\n",
    "    ball.dy *= -1"
   ]
  },
  {
   "cell_type": "code",
   "execution_count": null,
   "id": "665b27c5",
   "metadata": {},
   "outputs": [],
   "source": [
    "if ball.xcor()>390:\n",
    "    ball.goto(0,0)\n",
    "    ball.dx *= -1\n",
    "    score_a += 1\n",
    "    pen.clear()\n",
    "    pen.write(\"Player A: {}, Player B: {}\".score_a,score_b), align=\"center\", font=(\"Comic Sans\",24, \"normal\"))\n",
    "\n",
    "    \n",
    "if ball.xcor()<-390:\n",
    "    ball.goto(0,0)\n",
    "    ball.dx *= -1\n",
    "    score_b += 1\n",
    "    pen.clear()\n",
    "    pen.write(\"Player A: {}, Player B: {}\".score_a,score_b), align=\"center\", font=(\"Comic Sans\",24, \"normal\"))"
   ]
  },
  {
   "cell_type": "code",
   "execution_count": null,
   "id": "cdbdac2b",
   "metadata": {},
   "outputs": [],
   "source": [
    "#Paddle and Ball collisions\n"
   ]
  },
  {
   "cell_type": "code",
   "execution_count": null,
   "id": "2372281d",
   "metadata": {},
   "outputs": [],
   "source": [
    "if (ball.xcor()>340 and ball.xcor()<350) and (ball.ycor()< paddle_b.ycor() + 50 and ball.ycor()> paddle_b.ycor() -40):\n",
    "    ball.setx(340) \n",
    "    ball.dx *= -1\n",
    "    \n",
    "if (ball.xcor()< -340 and ball.xcor() > -350) and (ball.ycor()< paddle_a.ycor() + 50 and ball.ycor()> paddle_a.ycor() -40):\n",
    "    ball.setx(-340) \n",
    "    ball.dx *= -1\n",
    "    "
   ]
  },
  {
   "cell_type": "code",
   "execution_count": null,
   "id": "e1e77467",
   "metadata": {},
   "outputs": [],
   "source": []
  },
  {
   "cell_type": "code",
   "execution_count": null,
   "id": "f8de17cd",
   "metadata": {},
   "outputs": [],
   "source": []
  },
  {
   "cell_type": "code",
   "execution_count": null,
   "id": "00bd2076",
   "metadata": {},
   "outputs": [],
   "source": []
  }
 ],
 "metadata": {
  "kernelspec": {
   "display_name": "Python 3 (ipykernel)",
   "language": "python",
   "name": "python3"
  },
  "language_info": {
   "codemirror_mode": {
    "name": "ipython",
    "version": 3
   },
   "file_extension": ".py",
   "mimetype": "text/x-python",
   "name": "python",
   "nbconvert_exporter": "python",
   "pygments_lexer": "ipython3",
   "version": "3.9.12"
  }
 },
 "nbformat": 4,
 "nbformat_minor": 5
}
