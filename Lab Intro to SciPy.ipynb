{
 "cells": [
  {
   "cell_type": "markdown",
   "id": "9a524820",
   "metadata": {},
   "source": [
    "# Before your start:\n",
    "Read the README.md file\n",
    "Comment as much as you can and use the resources (README.md file)\n",
    "Happy learning!"
   ]
  },
  {
   "cell_type": "code",
   "execution_count": 40,
   "id": "a736272b",
   "metadata": {},
   "outputs": [],
   "source": [
    "import numpy as np \n",
    "import pandas as pd"
   ]
  },
  {
   "cell_type": "markdown",
   "id": "234fe2f7",
   "metadata": {},
   "source": [
    "# Challenge 1 - The stats Submodule\n",
    "This submodule contains statistical functions for conducting hypothesis tests, producing various distributions and other useful tools. Let's examine this submodule using the KickStarter dataset. We will load the dataset below."
   ]
  },
  {
   "cell_type": "code",
   "execution_count": 3,
   "id": "0268f41b",
   "metadata": {},
   "outputs": [],
   "source": [
    "kickstarter = pd.read_csv('ks-projects-201801.csv')"
   ]
  },
  {
   "cell_type": "markdown",
   "id": "9bd52d49",
   "metadata": {},
   "source": [
    "Now print the head function to examine the dataset."
   ]
  },
  {
   "cell_type": "code",
   "execution_count": 4,
   "id": "3ee169da",
   "metadata": {},
   "outputs": [
    {
     "data": {
      "text/html": [
       "<div>\n",
       "<style scoped>\n",
       "    .dataframe tbody tr th:only-of-type {\n",
       "        vertical-align: middle;\n",
       "    }\n",
       "\n",
       "    .dataframe tbody tr th {\n",
       "        vertical-align: top;\n",
       "    }\n",
       "\n",
       "    .dataframe thead th {\n",
       "        text-align: right;\n",
       "    }\n",
       "</style>\n",
       "<table border=\"1\" class=\"dataframe\">\n",
       "  <thead>\n",
       "    <tr style=\"text-align: right;\">\n",
       "      <th></th>\n",
       "      <th>ID</th>\n",
       "      <th>name</th>\n",
       "      <th>category</th>\n",
       "      <th>main_category</th>\n",
       "      <th>currency</th>\n",
       "      <th>deadline</th>\n",
       "      <th>goal</th>\n",
       "      <th>launched</th>\n",
       "      <th>pledged</th>\n",
       "      <th>state</th>\n",
       "      <th>backers</th>\n",
       "      <th>country</th>\n",
       "      <th>usd pledged</th>\n",
       "      <th>usd_pledged_real</th>\n",
       "      <th>usd_goal_real</th>\n",
       "    </tr>\n",
       "  </thead>\n",
       "  <tbody>\n",
       "    <tr>\n",
       "      <th>0</th>\n",
       "      <td>1000002330</td>\n",
       "      <td>The Songs of Adelaide &amp; Abullah</td>\n",
       "      <td>Poetry</td>\n",
       "      <td>Publishing</td>\n",
       "      <td>GBP</td>\n",
       "      <td>2015-10-09</td>\n",
       "      <td>1000.0</td>\n",
       "      <td>2015-08-11 12:12:28</td>\n",
       "      <td>0.0</td>\n",
       "      <td>failed</td>\n",
       "      <td>0</td>\n",
       "      <td>GB</td>\n",
       "      <td>0.0</td>\n",
       "      <td>0.0</td>\n",
       "      <td>1533.95</td>\n",
       "    </tr>\n",
       "    <tr>\n",
       "      <th>1</th>\n",
       "      <td>1000003930</td>\n",
       "      <td>Greeting From Earth: ZGAC Arts Capsule For ET</td>\n",
       "      <td>Narrative Film</td>\n",
       "      <td>Film &amp; Video</td>\n",
       "      <td>USD</td>\n",
       "      <td>2017-11-01</td>\n",
       "      <td>30000.0</td>\n",
       "      <td>2017-09-02 04:43:57</td>\n",
       "      <td>2421.0</td>\n",
       "      <td>failed</td>\n",
       "      <td>15</td>\n",
       "      <td>US</td>\n",
       "      <td>100.0</td>\n",
       "      <td>2421.0</td>\n",
       "      <td>30000.00</td>\n",
       "    </tr>\n",
       "    <tr>\n",
       "      <th>2</th>\n",
       "      <td>1000004038</td>\n",
       "      <td>Where is Hank?</td>\n",
       "      <td>Narrative Film</td>\n",
       "      <td>Film &amp; Video</td>\n",
       "      <td>USD</td>\n",
       "      <td>2013-02-26</td>\n",
       "      <td>45000.0</td>\n",
       "      <td>2013-01-12 00:20:50</td>\n",
       "      <td>220.0</td>\n",
       "      <td>failed</td>\n",
       "      <td>3</td>\n",
       "      <td>US</td>\n",
       "      <td>220.0</td>\n",
       "      <td>220.0</td>\n",
       "      <td>45000.00</td>\n",
       "    </tr>\n",
       "    <tr>\n",
       "      <th>3</th>\n",
       "      <td>1000007540</td>\n",
       "      <td>ToshiCapital Rekordz Needs Help to Complete Album</td>\n",
       "      <td>Music</td>\n",
       "      <td>Music</td>\n",
       "      <td>USD</td>\n",
       "      <td>2012-04-16</td>\n",
       "      <td>5000.0</td>\n",
       "      <td>2012-03-17 03:24:11</td>\n",
       "      <td>1.0</td>\n",
       "      <td>failed</td>\n",
       "      <td>1</td>\n",
       "      <td>US</td>\n",
       "      <td>1.0</td>\n",
       "      <td>1.0</td>\n",
       "      <td>5000.00</td>\n",
       "    </tr>\n",
       "    <tr>\n",
       "      <th>4</th>\n",
       "      <td>1000011046</td>\n",
       "      <td>Community Film Project: The Art of Neighborhoo...</td>\n",
       "      <td>Film &amp; Video</td>\n",
       "      <td>Film &amp; Video</td>\n",
       "      <td>USD</td>\n",
       "      <td>2015-08-29</td>\n",
       "      <td>19500.0</td>\n",
       "      <td>2015-07-04 08:35:03</td>\n",
       "      <td>1283.0</td>\n",
       "      <td>canceled</td>\n",
       "      <td>14</td>\n",
       "      <td>US</td>\n",
       "      <td>1283.0</td>\n",
       "      <td>1283.0</td>\n",
       "      <td>19500.00</td>\n",
       "    </tr>\n",
       "  </tbody>\n",
       "</table>\n",
       "</div>"
      ],
      "text/plain": [
       "           ID                                               name  \\\n",
       "0  1000002330                    The Songs of Adelaide & Abullah   \n",
       "1  1000003930      Greeting From Earth: ZGAC Arts Capsule For ET   \n",
       "2  1000004038                                     Where is Hank?   \n",
       "3  1000007540  ToshiCapital Rekordz Needs Help to Complete Album   \n",
       "4  1000011046  Community Film Project: The Art of Neighborhoo...   \n",
       "\n",
       "         category main_category currency    deadline     goal  \\\n",
       "0          Poetry    Publishing      GBP  2015-10-09   1000.0   \n",
       "1  Narrative Film  Film & Video      USD  2017-11-01  30000.0   \n",
       "2  Narrative Film  Film & Video      USD  2013-02-26  45000.0   \n",
       "3           Music         Music      USD  2012-04-16   5000.0   \n",
       "4    Film & Video  Film & Video      USD  2015-08-29  19500.0   \n",
       "\n",
       "              launched  pledged     state  backers country  usd pledged  \\\n",
       "0  2015-08-11 12:12:28      0.0    failed        0      GB          0.0   \n",
       "1  2017-09-02 04:43:57   2421.0    failed       15      US        100.0   \n",
       "2  2013-01-12 00:20:50    220.0    failed        3      US        220.0   \n",
       "3  2012-03-17 03:24:11      1.0    failed        1      US          1.0   \n",
       "4  2015-07-04 08:35:03   1283.0  canceled       14      US       1283.0   \n",
       "\n",
       "   usd_pledged_real  usd_goal_real  \n",
       "0               0.0        1533.95  \n",
       "1            2421.0       30000.00  \n",
       "2             220.0       45000.00  \n",
       "3               1.0        5000.00  \n",
       "4            1283.0       19500.00  "
      ]
     },
     "execution_count": 4,
     "metadata": {},
     "output_type": "execute_result"
    }
   ],
   "source": [
    "kickstarter.head()"
   ]
  },
  {
   "cell_type": "markdown",
   "id": "a31ab6bd",
   "metadata": {},
   "source": [
    "Import the mode function from scipy.stats and find the mode of the country and currency column."
   ]
  },
  {
   "cell_type": "code",
   "execution_count": 5,
   "id": "67f37561",
   "metadata": {},
   "outputs": [],
   "source": [
    "import scipy.stats"
   ]
  },
  {
   "cell_type": "code",
   "execution_count": 6,
   "id": "b423fa82",
   "metadata": {},
   "outputs": [
    {
     "name": "stdout",
     "output_type": "stream",
     "text": [
      "ModeResult(mode=array(['US'], dtype=object), count=array([292627]))\n",
      "ModeResult(mode=array(['USD'], dtype=object), count=array([295365]))\n"
     ]
    }
   ],
   "source": [
    "print(scipy.stats.mode(kickstarter['country']))\n",
    "print(scipy.stats.mode(kickstarter['currency']))"
   ]
  },
  {
   "cell_type": "markdown",
   "id": "fc022b3e",
   "metadata": {},
   "source": [
    "The trimmed mean is a function that computes the mean of the data with observations removed. The most common way to compute a trimmed mean is by specifying a percentage and then removing elements from both ends. However, we can also specify a threshold on both ends. The goal of this function is to create a more robust method of computing the mean that is less influenced by outliers. SciPy contains a function called tmean for computing the trimmed mean.\n",
    "\n",
    "In the cell below, import the tmean function and then find the 75th percentile of the goal column. Compute the trimmed mean between 0 and the 75th percentile of the column. Read more about the tmean function here."
   ]
  },
  {
   "cell_type": "code",
   "execution_count": 10,
   "id": "02c61d0d",
   "metadata": {},
   "outputs": [
    {
     "data": {
      "text/plain": [
       "4874.150287106898"
      ]
     },
     "execution_count": 10,
     "metadata": {},
     "output_type": "execute_result"
    }
   ],
   "source": [
    "scipy.stats.tmean(kickstarter['goal'], limits =(kickstarter['goal'].quantile(0.0),\n",
    "                                                kickstarter ['goal'].quantile(0.75)))\n",
    "        "
   ]
  },
  {
   "cell_type": "markdown",
   "id": "fa71008c",
   "metadata": {},
   "source": [
    "# SciPy contains various statistical tests. One of the tests is Fisher's exact test. \n",
    "\n",
    "This test is used for contingency tables.\n",
    "The test originates from the \"Lady Tasting Tea\" experiment. In 1935, Fisher published the results of the experiment in his book. The experiment was based on a claim by Muriel Bristol that she can taste whether tea or milk was first poured into the cup. Fisher devised this test to disprove her claim. The null hypothesis is that the treatments do not affect outcomes, while the alternative hypothesis is that the treatment does affect outcome. To read more about Fisher's exact test, click here.\n",
    "\n",
    "Let's perform Fisher's exact test on our KickStarter data. We intend to test the hypothesis that the choice of currency has an impact on meeting the pledge goal. We'll start by creating two derived columns in our dataframe. The first will contain 1 if the amount of money in usd_pledged_real is greater than the amount of money in usd_goal_real. We can compute this by using the np.where function. If the amount in one column is greater than the other, enter a value of 1, otherwise enter a value of zero. Add this column to the dataframe and name it goal_met."
   ]
  },
  {
   "cell_type": "code",
   "execution_count": 12,
   "id": "1502b73c",
   "metadata": {},
   "outputs": [
    {
     "data": {
      "text/html": [
       "<div>\n",
       "<style scoped>\n",
       "    .dataframe tbody tr th:only-of-type {\n",
       "        vertical-align: middle;\n",
       "    }\n",
       "\n",
       "    .dataframe tbody tr th {\n",
       "        vertical-align: top;\n",
       "    }\n",
       "\n",
       "    .dataframe thead th {\n",
       "        text-align: right;\n",
       "    }\n",
       "</style>\n",
       "<table border=\"1\" class=\"dataframe\">\n",
       "  <thead>\n",
       "    <tr style=\"text-align: right;\">\n",
       "      <th></th>\n",
       "      <th>ID</th>\n",
       "      <th>name</th>\n",
       "      <th>category</th>\n",
       "      <th>main_category</th>\n",
       "      <th>currency</th>\n",
       "      <th>deadline</th>\n",
       "      <th>goal</th>\n",
       "      <th>launched</th>\n",
       "      <th>pledged</th>\n",
       "      <th>state</th>\n",
       "      <th>backers</th>\n",
       "      <th>country</th>\n",
       "      <th>usd pledged</th>\n",
       "      <th>usd_pledged_real</th>\n",
       "      <th>usd_goal_real</th>\n",
       "      <th>goal_met</th>\n",
       "    </tr>\n",
       "  </thead>\n",
       "  <tbody>\n",
       "    <tr>\n",
       "      <th>0</th>\n",
       "      <td>1000002330</td>\n",
       "      <td>The Songs of Adelaide &amp; Abullah</td>\n",
       "      <td>Poetry</td>\n",
       "      <td>Publishing</td>\n",
       "      <td>GBP</td>\n",
       "      <td>2015-10-09</td>\n",
       "      <td>1000.0</td>\n",
       "      <td>2015-08-11 12:12:28</td>\n",
       "      <td>0.0</td>\n",
       "      <td>failed</td>\n",
       "      <td>0</td>\n",
       "      <td>GB</td>\n",
       "      <td>0.0</td>\n",
       "      <td>0.0</td>\n",
       "      <td>1533.95</td>\n",
       "      <td>0</td>\n",
       "    </tr>\n",
       "    <tr>\n",
       "      <th>1</th>\n",
       "      <td>1000003930</td>\n",
       "      <td>Greeting From Earth: ZGAC Arts Capsule For ET</td>\n",
       "      <td>Narrative Film</td>\n",
       "      <td>Film &amp; Video</td>\n",
       "      <td>USD</td>\n",
       "      <td>2017-11-01</td>\n",
       "      <td>30000.0</td>\n",
       "      <td>2017-09-02 04:43:57</td>\n",
       "      <td>2421.0</td>\n",
       "      <td>failed</td>\n",
       "      <td>15</td>\n",
       "      <td>US</td>\n",
       "      <td>100.0</td>\n",
       "      <td>2421.0</td>\n",
       "      <td>30000.00</td>\n",
       "      <td>0</td>\n",
       "    </tr>\n",
       "    <tr>\n",
       "      <th>2</th>\n",
       "      <td>1000004038</td>\n",
       "      <td>Where is Hank?</td>\n",
       "      <td>Narrative Film</td>\n",
       "      <td>Film &amp; Video</td>\n",
       "      <td>USD</td>\n",
       "      <td>2013-02-26</td>\n",
       "      <td>45000.0</td>\n",
       "      <td>2013-01-12 00:20:50</td>\n",
       "      <td>220.0</td>\n",
       "      <td>failed</td>\n",
       "      <td>3</td>\n",
       "      <td>US</td>\n",
       "      <td>220.0</td>\n",
       "      <td>220.0</td>\n",
       "      <td>45000.00</td>\n",
       "      <td>0</td>\n",
       "    </tr>\n",
       "    <tr>\n",
       "      <th>3</th>\n",
       "      <td>1000007540</td>\n",
       "      <td>ToshiCapital Rekordz Needs Help to Complete Album</td>\n",
       "      <td>Music</td>\n",
       "      <td>Music</td>\n",
       "      <td>USD</td>\n",
       "      <td>2012-04-16</td>\n",
       "      <td>5000.0</td>\n",
       "      <td>2012-03-17 03:24:11</td>\n",
       "      <td>1.0</td>\n",
       "      <td>failed</td>\n",
       "      <td>1</td>\n",
       "      <td>US</td>\n",
       "      <td>1.0</td>\n",
       "      <td>1.0</td>\n",
       "      <td>5000.00</td>\n",
       "      <td>0</td>\n",
       "    </tr>\n",
       "    <tr>\n",
       "      <th>4</th>\n",
       "      <td>1000011046</td>\n",
       "      <td>Community Film Project: The Art of Neighborhoo...</td>\n",
       "      <td>Film &amp; Video</td>\n",
       "      <td>Film &amp; Video</td>\n",
       "      <td>USD</td>\n",
       "      <td>2015-08-29</td>\n",
       "      <td>19500.0</td>\n",
       "      <td>2015-07-04 08:35:03</td>\n",
       "      <td>1283.0</td>\n",
       "      <td>canceled</td>\n",
       "      <td>14</td>\n",
       "      <td>US</td>\n",
       "      <td>1283.0</td>\n",
       "      <td>1283.0</td>\n",
       "      <td>19500.00</td>\n",
       "      <td>0</td>\n",
       "    </tr>\n",
       "  </tbody>\n",
       "</table>\n",
       "</div>"
      ],
      "text/plain": [
       "           ID                                               name  \\\n",
       "0  1000002330                    The Songs of Adelaide & Abullah   \n",
       "1  1000003930      Greeting From Earth: ZGAC Arts Capsule For ET   \n",
       "2  1000004038                                     Where is Hank?   \n",
       "3  1000007540  ToshiCapital Rekordz Needs Help to Complete Album   \n",
       "4  1000011046  Community Film Project: The Art of Neighborhoo...   \n",
       "\n",
       "         category main_category currency    deadline     goal  \\\n",
       "0          Poetry    Publishing      GBP  2015-10-09   1000.0   \n",
       "1  Narrative Film  Film & Video      USD  2017-11-01  30000.0   \n",
       "2  Narrative Film  Film & Video      USD  2013-02-26  45000.0   \n",
       "3           Music         Music      USD  2012-04-16   5000.0   \n",
       "4    Film & Video  Film & Video      USD  2015-08-29  19500.0   \n",
       "\n",
       "              launched  pledged     state  backers country  usd pledged  \\\n",
       "0  2015-08-11 12:12:28      0.0    failed        0      GB          0.0   \n",
       "1  2017-09-02 04:43:57   2421.0    failed       15      US        100.0   \n",
       "2  2013-01-12 00:20:50    220.0    failed        3      US        220.0   \n",
       "3  2012-03-17 03:24:11      1.0    failed        1      US          1.0   \n",
       "4  2015-07-04 08:35:03   1283.0  canceled       14      US       1283.0   \n",
       "\n",
       "   usd_pledged_real  usd_goal_real  goal_met  \n",
       "0               0.0        1533.95         0  \n",
       "1            2421.0       30000.00         0  \n",
       "2             220.0       45000.00         0  \n",
       "3               1.0        5000.00         0  \n",
       "4            1283.0       19500.00         0  "
      ]
     },
     "execution_count": 12,
     "metadata": {},
     "output_type": "execute_result"
    }
   ],
   "source": [
    "kickstarter['goal_met'] = np.where(kickstarter['usd_pledged_real'] > kickstarter['usd_goal_real'],1,0)\n",
    "kickstarter.head()"
   ]
  },
  {
   "cell_type": "markdown",
   "id": "37ae0a98",
   "metadata": {},
   "source": [
    "Next, create a column that checks whether the currency of the project is in US Dollars. Create a column called usd using the np.where function where if the currency is US Dollars, assign a value of 1 to the row and 0 otherwise."
   ]
  },
  {
   "cell_type": "code",
   "execution_count": 13,
   "id": "f79b4a38",
   "metadata": {},
   "outputs": [],
   "source": [
    "kickstarter['usd'] = np.where(kickstarter['currency'] == 'USD', 1,0)"
   ]
  },
  {
   "cell_type": "markdown",
   "id": "ba08dae3",
   "metadata": {},
   "source": [
    "Now create a contingency table using the pd.crosstab function in the cell below to compare the goal_met and usd columns.\n",
    "\n",
    "Import the fisher_exact function from scipy.stats and conduct the hypothesis test on the contingency table that you have generated above. You can read more about the fisher_exact function here. The output of the function should be the odds ratio and the p-value. The p-value will provide you with the outcome of the test."
   ]
  },
  {
   "cell_type": "code",
   "execution_count": 14,
   "id": "396a8c6e",
   "metadata": {},
   "outputs": [],
   "source": [
    "from scipy.stats import fisher_exact"
   ]
  },
  {
   "cell_type": "code",
   "execution_count": 18,
   "id": "dbb68bf1",
   "metadata": {},
   "outputs": [],
   "source": [
    "cont_table = pd.crosstab(index=kickstarter['goal_met'], columns=kickstarter['usd'])\n",
    "\n",
    "odd_ratio, p_value = scipy.stats.fisher_exact(cont_table)"
   ]
  },
  {
   "cell_type": "code",
   "execution_count": 19,
   "id": "d8fb82b7",
   "metadata": {},
   "outputs": [
    {
     "data": {
      "text/html": [
       "<div>\n",
       "<style scoped>\n",
       "    .dataframe tbody tr th:only-of-type {\n",
       "        vertical-align: middle;\n",
       "    }\n",
       "\n",
       "    .dataframe tbody tr th {\n",
       "        vertical-align: top;\n",
       "    }\n",
       "\n",
       "    .dataframe thead th {\n",
       "        text-align: right;\n",
       "    }\n",
       "</style>\n",
       "<table border=\"1\" class=\"dataframe\">\n",
       "  <thead>\n",
       "    <tr style=\"text-align: right;\">\n",
       "      <th>usd</th>\n",
       "      <th>0</th>\n",
       "      <th>1</th>\n",
       "    </tr>\n",
       "    <tr>\n",
       "      <th>goal_met</th>\n",
       "      <th></th>\n",
       "      <th></th>\n",
       "    </tr>\n",
       "  </thead>\n",
       "  <tbody>\n",
       "    <tr>\n",
       "      <th>0</th>\n",
       "      <td>58685</td>\n",
       "      <td>187130</td>\n",
       "    </tr>\n",
       "    <tr>\n",
       "      <th>1</th>\n",
       "      <td>24611</td>\n",
       "      <td>108235</td>\n",
       "    </tr>\n",
       "  </tbody>\n",
       "</table>\n",
       "</div>"
      ],
      "text/plain": [
       "usd           0       1\n",
       "goal_met               \n",
       "0         58685  187130\n",
       "1         24611  108235"
      ]
     },
     "execution_count": 19,
     "metadata": {},
     "output_type": "execute_result"
    }
   ],
   "source": [
    "cont_table"
   ]
  },
  {
   "cell_type": "code",
   "execution_count": 21,
   "id": "245d2589",
   "metadata": {},
   "outputs": [
    {
     "data": {
      "text/plain": [
       "1.3791838163150314"
      ]
     },
     "execution_count": 21,
     "metadata": {},
     "output_type": "execute_result"
    }
   ],
   "source": [
    "odd_ratio"
   ]
  },
  {
   "cell_type": "code",
   "execution_count": 22,
   "id": "579df3e5",
   "metadata": {},
   "outputs": [
    {
     "data": {
      "text/plain": [
       "9.78e-321"
      ]
     },
     "execution_count": 22,
     "metadata": {},
     "output_type": "execute_result"
    }
   ],
   "source": [
    "p_value"
   ]
  },
  {
   "cell_type": "markdown",
   "id": "8c742744",
   "metadata": {},
   "source": [
    "# Challenge 2 - The linalg submodule\n",
    "This submodule allows us to perform various linear algebra calculations.\n",
    "\n",
    "Using the solve function, find the solution of the equation system 5x + 2y = 3 and 3x + y = 2 in the cell below."
   ]
  },
  {
   "cell_type": "code",
   "execution_count": 24,
   "id": "ab4481e6",
   "metadata": {},
   "outputs": [],
   "source": [
    "from scipy import linalg"
   ]
  },
  {
   "cell_type": "code",
   "execution_count": 25,
   "id": "ad743f2b",
   "metadata": {},
   "outputs": [
    {
     "data": {
      "text/plain": [
       "array([ 1., -1.])"
      ]
     },
     "execution_count": 25,
     "metadata": {},
     "output_type": "execute_result"
    }
   ],
   "source": [
    "eq= [[5,2], [3,1]]\n",
    "res = [3,2]\n",
    "\n",
    "linalg.solve(eq,res)"
   ]
  },
  {
   "cell_type": "markdown",
   "id": "10f96ee2",
   "metadata": {},
   "source": [
    "# Challenge 3 - The interpolate submodule\n",
    "This submodule allows us to interpolate between two points and create a continuous distribution based on the observed data.\n",
    "\n",
    "In the cell below, import the interp1d function and first take a sample of 10 rows from kickstarter."
   ]
  },
  {
   "cell_type": "code",
   "execution_count": 85,
   "id": "ca4702c1",
   "metadata": {
    "collapsed": true
   },
   "outputs": [
    {
     "data": {
      "text/html": [
       "<div>\n",
       "<style scoped>\n",
       "    .dataframe tbody tr th:only-of-type {\n",
       "        vertical-align: middle;\n",
       "    }\n",
       "\n",
       "    .dataframe tbody tr th {\n",
       "        vertical-align: top;\n",
       "    }\n",
       "\n",
       "    .dataframe thead th {\n",
       "        text-align: right;\n",
       "    }\n",
       "</style>\n",
       "<table border=\"1\" class=\"dataframe\">\n",
       "  <thead>\n",
       "    <tr style=\"text-align: right;\">\n",
       "      <th></th>\n",
       "      <th>index</th>\n",
       "      <th>ID</th>\n",
       "      <th>name</th>\n",
       "      <th>category</th>\n",
       "      <th>main_category</th>\n",
       "      <th>currency</th>\n",
       "      <th>deadline</th>\n",
       "      <th>goal</th>\n",
       "      <th>launched</th>\n",
       "      <th>pledged</th>\n",
       "      <th>state</th>\n",
       "      <th>backers</th>\n",
       "      <th>country</th>\n",
       "      <th>usd pledged</th>\n",
       "      <th>usd_pledged_real</th>\n",
       "      <th>usd_goal_real</th>\n",
       "      <th>goal_met</th>\n",
       "      <th>usd</th>\n",
       "    </tr>\n",
       "  </thead>\n",
       "  <tbody>\n",
       "    <tr>\n",
       "      <th>0</th>\n",
       "      <td>282457</td>\n",
       "      <td>507121107</td>\n",
       "      <td>Send SueNami - DRAG Olympic</td>\n",
       "      <td>Nonfiction</td>\n",
       "      <td>Publishing</td>\n",
       "      <td>GBP</td>\n",
       "      <td>2014-07-19</td>\n",
       "      <td>270.0</td>\n",
       "      <td>2014-07-11 00:20:18</td>\n",
       "      <td>0.00</td>\n",
       "      <td>failed</td>\n",
       "      <td>0</td>\n",
       "      <td>GB</td>\n",
       "      <td>0.00</td>\n",
       "      <td>0.00</td>\n",
       "      <td>458.68</td>\n",
       "      <td>0</td>\n",
       "      <td>0</td>\n",
       "    </tr>\n",
       "    <tr>\n",
       "      <th>1</th>\n",
       "      <td>21536</td>\n",
       "      <td>1109218480</td>\n",
       "      <td>Candle M (marble) - scented, natural candle - ...</td>\n",
       "      <td>Candles</td>\n",
       "      <td>Crafts</td>\n",
       "      <td>EUR</td>\n",
       "      <td>2017-01-31</td>\n",
       "      <td>1000.0</td>\n",
       "      <td>2017-01-12 07:05:53</td>\n",
       "      <td>445.00</td>\n",
       "      <td>failed</td>\n",
       "      <td>11</td>\n",
       "      <td>FR</td>\n",
       "      <td>52.75</td>\n",
       "      <td>477.98</td>\n",
       "      <td>1074.10</td>\n",
       "      <td>0</td>\n",
       "      <td>0</td>\n",
       "    </tr>\n",
       "    <tr>\n",
       "      <th>2</th>\n",
       "      <td>92944</td>\n",
       "      <td>147260139</td>\n",
       "      <td>COMING HOME</td>\n",
       "      <td>Documentary</td>\n",
       "      <td>Film &amp; Video</td>\n",
       "      <td>USD</td>\n",
       "      <td>2012-06-07</td>\n",
       "      <td>3500.0</td>\n",
       "      <td>2012-05-08 16:23:49</td>\n",
       "      <td>3864.00</td>\n",
       "      <td>successful</td>\n",
       "      <td>47</td>\n",
       "      <td>US</td>\n",
       "      <td>3864.00</td>\n",
       "      <td>3864.00</td>\n",
       "      <td>3500.00</td>\n",
       "      <td>1</td>\n",
       "      <td>1</td>\n",
       "    </tr>\n",
       "    <tr>\n",
       "      <th>3</th>\n",
       "      <td>193854</td>\n",
       "      <td>1986737187</td>\n",
       "      <td>Hour Of The Wolf Reunion Show Comic.</td>\n",
       "      <td>Comic Books</td>\n",
       "      <td>Comics</td>\n",
       "      <td>USD</td>\n",
       "      <td>2014-09-05</td>\n",
       "      <td>800.0</td>\n",
       "      <td>2014-08-06 22:11:31</td>\n",
       "      <td>954.66</td>\n",
       "      <td>successful</td>\n",
       "      <td>46</td>\n",
       "      <td>US</td>\n",
       "      <td>954.66</td>\n",
       "      <td>954.66</td>\n",
       "      <td>800.00</td>\n",
       "      <td>1</td>\n",
       "      <td>1</td>\n",
       "    </tr>\n",
       "    <tr>\n",
       "      <th>4</th>\n",
       "      <td>286600</td>\n",
       "      <td>527953961</td>\n",
       "      <td>Howard Glitch: a multimedia jigsaw puzzle</td>\n",
       "      <td>Illustration</td>\n",
       "      <td>Art</td>\n",
       "      <td>USD</td>\n",
       "      <td>2010-12-06</td>\n",
       "      <td>2600.0</td>\n",
       "      <td>2010-11-06 08:44:15</td>\n",
       "      <td>4101.09</td>\n",
       "      <td>successful</td>\n",
       "      <td>101</td>\n",
       "      <td>US</td>\n",
       "      <td>4101.09</td>\n",
       "      <td>4101.09</td>\n",
       "      <td>2600.00</td>\n",
       "      <td>1</td>\n",
       "      <td>1</td>\n",
       "    </tr>\n",
       "    <tr>\n",
       "      <th>5</th>\n",
       "      <td>82694</td>\n",
       "      <td>1420396485</td>\n",
       "      <td>Metatron at Dreamfarm | Projects of Earth</td>\n",
       "      <td>Sculpture</td>\n",
       "      <td>Art</td>\n",
       "      <td>USD</td>\n",
       "      <td>2017-10-04</td>\n",
       "      <td>20000.0</td>\n",
       "      <td>2017-09-04 19:46:51</td>\n",
       "      <td>80.00</td>\n",
       "      <td>failed</td>\n",
       "      <td>3</td>\n",
       "      <td>US</td>\n",
       "      <td>0.00</td>\n",
       "      <td>80.00</td>\n",
       "      <td>20000.00</td>\n",
       "      <td>0</td>\n",
       "      <td>1</td>\n",
       "    </tr>\n",
       "    <tr>\n",
       "      <th>6</th>\n",
       "      <td>103395</td>\n",
       "      <td>152570021</td>\n",
       "      <td>JILL TRACY Music Video directed by Jeremy Carr</td>\n",
       "      <td>Film &amp; Video</td>\n",
       "      <td>Film &amp; Video</td>\n",
       "      <td>USD</td>\n",
       "      <td>2013-08-22</td>\n",
       "      <td>3000.0</td>\n",
       "      <td>2013-07-22 22:40:11</td>\n",
       "      <td>7000.02</td>\n",
       "      <td>successful</td>\n",
       "      <td>161</td>\n",
       "      <td>US</td>\n",
       "      <td>7000.02</td>\n",
       "      <td>7000.02</td>\n",
       "      <td>3000.00</td>\n",
       "      <td>1</td>\n",
       "      <td>1</td>\n",
       "    </tr>\n",
       "    <tr>\n",
       "      <th>7</th>\n",
       "      <td>137672</td>\n",
       "      <td>1699174237</td>\n",
       "      <td>Dixie Dining: Touring the South's Best Homesty...</td>\n",
       "      <td>Nonfiction</td>\n",
       "      <td>Publishing</td>\n",
       "      <td>USD</td>\n",
       "      <td>2011-12-29</td>\n",
       "      <td>3000.0</td>\n",
       "      <td>2011-11-29 04:29:32</td>\n",
       "      <td>150.00</td>\n",
       "      <td>failed</td>\n",
       "      <td>3</td>\n",
       "      <td>US</td>\n",
       "      <td>150.00</td>\n",
       "      <td>150.00</td>\n",
       "      <td>3000.00</td>\n",
       "      <td>0</td>\n",
       "      <td>1</td>\n",
       "    </tr>\n",
       "    <tr>\n",
       "      <th>8</th>\n",
       "      <td>282012</td>\n",
       "      <td>504790940</td>\n",
       "      <td>Peewee Charmers - collectable character figuri...</td>\n",
       "      <td>Product Design</td>\n",
       "      <td>Design</td>\n",
       "      <td>AUD</td>\n",
       "      <td>2014-11-18</td>\n",
       "      <td>12000.0</td>\n",
       "      <td>2014-10-21 13:34:21</td>\n",
       "      <td>1163.00</td>\n",
       "      <td>canceled</td>\n",
       "      <td>18</td>\n",
       "      <td>AU</td>\n",
       "      <td>1021.55</td>\n",
       "      <td>1013.33</td>\n",
       "      <td>10455.69</td>\n",
       "      <td>0</td>\n",
       "      <td>0</td>\n",
       "    </tr>\n",
       "    <tr>\n",
       "      <th>9</th>\n",
       "      <td>337256</td>\n",
       "      <td>787833795</td>\n",
       "      <td>A Dissection of Bitcoin Source Code</td>\n",
       "      <td>Academic</td>\n",
       "      <td>Publishing</td>\n",
       "      <td>USD</td>\n",
       "      <td>2016-01-12</td>\n",
       "      <td>12000.0</td>\n",
       "      <td>2015-12-13 20:50:25</td>\n",
       "      <td>125.00</td>\n",
       "      <td>failed</td>\n",
       "      <td>5</td>\n",
       "      <td>US</td>\n",
       "      <td>125.00</td>\n",
       "      <td>125.00</td>\n",
       "      <td>12000.00</td>\n",
       "      <td>0</td>\n",
       "      <td>1</td>\n",
       "    </tr>\n",
       "  </tbody>\n",
       "</table>\n",
       "</div>"
      ],
      "text/plain": [
       "    index          ID                                               name  \\\n",
       "0  282457   507121107                        Send SueNami - DRAG Olympic   \n",
       "1   21536  1109218480  Candle M (marble) - scented, natural candle - ...   \n",
       "2   92944   147260139                                        COMING HOME   \n",
       "3  193854  1986737187               Hour Of The Wolf Reunion Show Comic.   \n",
       "4  286600   527953961          Howard Glitch: a multimedia jigsaw puzzle   \n",
       "5   82694  1420396485          Metatron at Dreamfarm | Projects of Earth   \n",
       "6  103395   152570021     JILL TRACY Music Video directed by Jeremy Carr   \n",
       "7  137672  1699174237  Dixie Dining: Touring the South's Best Homesty...   \n",
       "8  282012   504790940  Peewee Charmers - collectable character figuri...   \n",
       "9  337256   787833795                A Dissection of Bitcoin Source Code   \n",
       "\n",
       "         category main_category currency    deadline     goal  \\\n",
       "0      Nonfiction    Publishing      GBP  2014-07-19    270.0   \n",
       "1         Candles        Crafts      EUR  2017-01-31   1000.0   \n",
       "2     Documentary  Film & Video      USD  2012-06-07   3500.0   \n",
       "3     Comic Books        Comics      USD  2014-09-05    800.0   \n",
       "4    Illustration           Art      USD  2010-12-06   2600.0   \n",
       "5       Sculpture           Art      USD  2017-10-04  20000.0   \n",
       "6    Film & Video  Film & Video      USD  2013-08-22   3000.0   \n",
       "7      Nonfiction    Publishing      USD  2011-12-29   3000.0   \n",
       "8  Product Design        Design      AUD  2014-11-18  12000.0   \n",
       "9        Academic    Publishing      USD  2016-01-12  12000.0   \n",
       "\n",
       "              launched  pledged       state  backers country  usd pledged  \\\n",
       "0  2014-07-11 00:20:18     0.00      failed        0      GB         0.00   \n",
       "1  2017-01-12 07:05:53   445.00      failed       11      FR        52.75   \n",
       "2  2012-05-08 16:23:49  3864.00  successful       47      US      3864.00   \n",
       "3  2014-08-06 22:11:31   954.66  successful       46      US       954.66   \n",
       "4  2010-11-06 08:44:15  4101.09  successful      101      US      4101.09   \n",
       "5  2017-09-04 19:46:51    80.00      failed        3      US         0.00   \n",
       "6  2013-07-22 22:40:11  7000.02  successful      161      US      7000.02   \n",
       "7  2011-11-29 04:29:32   150.00      failed        3      US       150.00   \n",
       "8  2014-10-21 13:34:21  1163.00    canceled       18      AU      1021.55   \n",
       "9  2015-12-13 20:50:25   125.00      failed        5      US       125.00   \n",
       "\n",
       "   usd_pledged_real  usd_goal_real  goal_met  usd  \n",
       "0              0.00         458.68         0    0  \n",
       "1            477.98        1074.10         0    0  \n",
       "2           3864.00        3500.00         1    1  \n",
       "3            954.66         800.00         1    1  \n",
       "4           4101.09        2600.00         1    1  \n",
       "5             80.00       20000.00         0    1  \n",
       "6           7000.02        3000.00         1    1  \n",
       "7            150.00        3000.00         0    1  \n",
       "8           1013.33       10455.69         0    0  \n",
       "9            125.00       12000.00         0    1  "
      ]
     },
     "execution_count": 85,
     "metadata": {},
     "output_type": "execute_result"
    }
   ],
   "source": [
    "from scipy.interpolate import interp1d\n",
    "\n",
    "sample_k = kickstarter.sample(n=10).reset_index()\n",
    "\n",
    "sample_k"
   ]
  },
  {
   "cell_type": "markdown",
   "id": "4ee76947",
   "metadata": {},
   "source": [
    "Next, create a linear interpolation of the backers as a function of usd_pledged_real. Create a function f that generates a linear interpolation of backers as predicted by the amount of real pledged dollars."
   ]
  },
  {
   "cell_type": "code",
   "execution_count": 62,
   "id": "358ce439",
   "metadata": {},
   "outputs": [],
   "source": [
    "fs = interp1d(sample_k['usd_pledged_real'],sample_k['backers'],kind='linear')\n"
   ]
  },
  {
   "cell_type": "code",
   "execution_count": 46,
   "id": "1931feed",
   "metadata": {},
   "outputs": [],
   "source": [
    "#f = interp1d(kickstarter['usd_pledged_real'],kickstarter['backers'],kind='linear')"
   ]
  },
  {
   "cell_type": "markdown",
   "id": "53db9b50",
   "metadata": {},
   "source": [
    "Now create a new variable called x_new. This variable will contain all integers between the minimum number of backers in our sample and the maximum number of backers. The goal here is to take the dataset that contains few obeservations due to sampling and fill all observations with a value using the interpolation function.\n",
    "\n",
    "Hint: one option is the np.arange function."
   ]
  },
  {
   "cell_type": "code",
   "execution_count": 65,
   "id": "b4a698ce",
   "metadata": {},
   "outputs": [],
   "source": [
    "#x_new= np.arange(kickstarter['backers'].min(), kickstarter['backers'].max())\n",
    "#x_new"
   ]
  },
  {
   "cell_type": "code",
   "execution_count": 63,
   "id": "72811c45",
   "metadata": {
    "collapsed": true
   },
   "outputs": [
    {
     "data": {
      "text/plain": [
       "array([  0,   1,   2,   3,   4,   5,   6,   7,   8,   9,  10,  11,  12,\n",
       "        13,  14,  15,  16,  17,  18,  19,  20,  21,  22,  23,  24,  25,\n",
       "        26,  27,  28,  29,  30,  31,  32,  33,  34,  35,  36,  37,  38,\n",
       "        39,  40,  41,  42,  43,  44,  45,  46,  47,  48,  49,  50,  51,\n",
       "        52,  53,  54,  55,  56,  57,  58,  59,  60,  61,  62,  63,  64,\n",
       "        65,  66,  67,  68,  69,  70,  71,  72,  73,  74,  75,  76,  77,\n",
       "        78,  79,  80,  81,  82,  83,  84,  85,  86,  87,  88,  89,  90,\n",
       "        91,  92,  93,  94,  95,  96,  97,  98,  99, 100, 101, 102, 103,\n",
       "       104, 105, 106, 107, 108, 109, 110, 111, 112, 113, 114, 115, 116,\n",
       "       117, 118, 119, 120, 121, 122, 123, 124, 125, 126, 127, 128, 129,\n",
       "       130, 131, 132, 133, 134, 135, 136, 137, 138, 139, 140, 141, 142,\n",
       "       143, 144, 145, 146, 147, 148, 149, 150, 151, 152, 153, 154, 155,\n",
       "       156, 157, 158, 159, 160, 161, 162, 163, 164, 165, 166, 167, 168,\n",
       "       169, 170, 171, 172, 173, 174, 175, 176, 177, 178, 179, 180, 181,\n",
       "       182, 183, 184, 185, 186, 187, 188, 189, 190, 191, 192, 193, 194,\n",
       "       195, 196, 197, 198, 199, 200, 201, 202, 203, 204, 205, 206, 207,\n",
       "       208, 209, 210, 211, 212, 213, 214, 215])"
      ]
     },
     "execution_count": 63,
     "metadata": {},
     "output_type": "execute_result"
    }
   ],
   "source": [
    "x_news= np.arange(sample_k['backers'].min(), sample_k['backers'].max())\n",
    "x_news"
   ]
  },
  {
   "cell_type": "code",
   "execution_count": 64,
   "id": "4235fce5",
   "metadata": {},
   "outputs": [
    {
     "data": {
      "text/plain": [
       "216"
      ]
     },
     "execution_count": 64,
     "metadata": {},
     "output_type": "execute_result"
    }
   ],
   "source": [
    "len(x_news)"
   ]
  },
  {
   "cell_type": "markdown",
   "id": "0221acd2",
   "metadata": {},
   "source": [
    "Plot function f for all values of x_new. Run the code below."
   ]
  },
  {
   "cell_type": "code",
   "execution_count": 38,
   "id": "31b0a6bf",
   "metadata": {},
   "outputs": [],
   "source": [
    "%matplotlib inline\n",
    "import matplotlib.pyplot as plt"
   ]
  },
  {
   "cell_type": "code",
   "execution_count": 70,
   "id": "c5d15cff",
   "metadata": {},
   "outputs": [
    {
     "data": {
      "text/plain": [
       "[<matplotlib.lines.Line2D at 0x7fad91de0970>]"
      ]
     },
     "execution_count": 70,
     "metadata": {},
     "output_type": "execute_result"
    },
    {
     "data": {
      "image/png": "[encoded data removed]",
      "text/plain": [
       "<Figure size 432x288 with 1 Axes>"
      ]
     },
     "metadata": {
      "needs_background": "light"
     },
     "output_type": "display_data"
    }
   ],
   "source": [
    "plt.plot(x_news, fs(x_news), 'o')\n"
   ]
  },
  {
   "cell_type": "markdown",
   "id": "19ff7bea",
   "metadata": {},
   "source": [
    "Next create a function that will generate a cubic interpolation function. Name the function g"
   ]
  },
  {
   "cell_type": "code",
   "execution_count": 72,
   "id": "102a6954",
   "metadata": {},
   "outputs": [],
   "source": [
    "#g = interp1d(sample_k['usd_pledged_real'],sample_k['backers'],kind='cubic')\n",
    "\n",
    "\n"
   ]
  },
  {
   "cell_type": "code",
   "execution_count": 86,
   "id": "e5171f22",
   "metadata": {},
   "outputs": [
    {
     "data": {
      "text/plain": [
       "array([   0.  ,   80.  ,  125.  ,  150.  ,  477.98,  954.66, 1013.33,\n",
       "       3864.  , 4101.09, 7000.02])"
      ]
     },
     "execution_count": 86,
     "metadata": {},
     "output_type": "execute_result"
    }
   ],
   "source": [
    "xs=np.unique(sample_k['usd_pledged_real'], return_index= True)[0]\n",
    "xs"
   ]
  },
  {
   "cell_type": "code",
   "execution_count": 87,
   "id": "e15b4723",
   "metadata": {
    "scrolled": true
   },
   "outputs": [
    {
     "data": {
      "text/html": [
       "<div>\n",
       "<style scoped>\n",
       "    .dataframe tbody tr th:only-of-type {\n",
       "        vertical-align: middle;\n",
       "    }\n",
       "\n",
       "    .dataframe tbody tr th {\n",
       "        vertical-align: top;\n",
       "    }\n",
       "\n",
       "    .dataframe thead th {\n",
       "        text-align: right;\n",
       "    }\n",
       "</style>\n",
       "<table border=\"1\" class=\"dataframe\">\n",
       "  <thead>\n",
       "    <tr style=\"text-align: right;\">\n",
       "      <th></th>\n",
       "      <th>index</th>\n",
       "      <th>ID</th>\n",
       "      <th>name</th>\n",
       "      <th>category</th>\n",
       "      <th>main_category</th>\n",
       "      <th>currency</th>\n",
       "      <th>deadline</th>\n",
       "      <th>goal</th>\n",
       "      <th>launched</th>\n",
       "      <th>pledged</th>\n",
       "      <th>state</th>\n",
       "      <th>backers</th>\n",
       "      <th>country</th>\n",
       "      <th>usd pledged</th>\n",
       "      <th>usd_pledged_real</th>\n",
       "      <th>usd_goal_real</th>\n",
       "      <th>goal_met</th>\n",
       "      <th>usd</th>\n",
       "    </tr>\n",
       "  </thead>\n",
       "  <tbody>\n",
       "    <tr>\n",
       "      <th>0</th>\n",
       "      <td>282457</td>\n",
       "      <td>507121107</td>\n",
       "      <td>Send SueNami - DRAG Olympic</td>\n",
       "      <td>Nonfiction</td>\n",
       "      <td>Publishing</td>\n",
       "      <td>GBP</td>\n",
       "      <td>2014-07-19</td>\n",
       "      <td>270.0</td>\n",
       "      <td>2014-07-11 00:20:18</td>\n",
       "      <td>0.00</td>\n",
       "      <td>failed</td>\n",
       "      <td>0</td>\n",
       "      <td>GB</td>\n",
       "      <td>0.00</td>\n",
       "      <td>0.00</td>\n",
       "      <td>458.68</td>\n",
       "      <td>0</td>\n",
       "      <td>0</td>\n",
       "    </tr>\n",
       "    <tr>\n",
       "      <th>1</th>\n",
       "      <td>21536</td>\n",
       "      <td>1109218480</td>\n",
       "      <td>Candle M (marble) - scented, natural candle - ...</td>\n",
       "      <td>Candles</td>\n",
       "      <td>Crafts</td>\n",
       "      <td>EUR</td>\n",
       "      <td>2017-01-31</td>\n",
       "      <td>1000.0</td>\n",
       "      <td>2017-01-12 07:05:53</td>\n",
       "      <td>445.00</td>\n",
       "      <td>failed</td>\n",
       "      <td>11</td>\n",
       "      <td>FR</td>\n",
       "      <td>52.75</td>\n",
       "      <td>477.98</td>\n",
       "      <td>1074.10</td>\n",
       "      <td>0</td>\n",
       "      <td>0</td>\n",
       "    </tr>\n",
       "    <tr>\n",
       "      <th>2</th>\n",
       "      <td>92944</td>\n",
       "      <td>147260139</td>\n",
       "      <td>COMING HOME</td>\n",
       "      <td>Documentary</td>\n",
       "      <td>Film &amp; Video</td>\n",
       "      <td>USD</td>\n",
       "      <td>2012-06-07</td>\n",
       "      <td>3500.0</td>\n",
       "      <td>2012-05-08 16:23:49</td>\n",
       "      <td>3864.00</td>\n",
       "      <td>successful</td>\n",
       "      <td>47</td>\n",
       "      <td>US</td>\n",
       "      <td>3864.00</td>\n",
       "      <td>3864.00</td>\n",
       "      <td>3500.00</td>\n",
       "      <td>1</td>\n",
       "      <td>1</td>\n",
       "    </tr>\n",
       "    <tr>\n",
       "      <th>3</th>\n",
       "      <td>193854</td>\n",
       "      <td>1986737187</td>\n",
       "      <td>Hour Of The Wolf Reunion Show Comic.</td>\n",
       "      <td>Comic Books</td>\n",
       "      <td>Comics</td>\n",
       "      <td>USD</td>\n",
       "      <td>2014-09-05</td>\n",
       "      <td>800.0</td>\n",
       "      <td>2014-08-06 22:11:31</td>\n",
       "      <td>954.66</td>\n",
       "      <td>successful</td>\n",
       "      <td>46</td>\n",
       "      <td>US</td>\n",
       "      <td>954.66</td>\n",
       "      <td>954.66</td>\n",
       "      <td>800.00</td>\n",
       "      <td>1</td>\n",
       "      <td>1</td>\n",
       "    </tr>\n",
       "    <tr>\n",
       "      <th>4</th>\n",
       "      <td>286600</td>\n",
       "      <td>527953961</td>\n",
       "      <td>Howard Glitch: a multimedia jigsaw puzzle</td>\n",
       "      <td>Illustration</td>\n",
       "      <td>Art</td>\n",
       "      <td>USD</td>\n",
       "      <td>2010-12-06</td>\n",
       "      <td>2600.0</td>\n",
       "      <td>2010-11-06 08:44:15</td>\n",
       "      <td>4101.09</td>\n",
       "      <td>successful</td>\n",
       "      <td>101</td>\n",
       "      <td>US</td>\n",
       "      <td>4101.09</td>\n",
       "      <td>4101.09</td>\n",
       "      <td>2600.00</td>\n",
       "      <td>1</td>\n",
       "      <td>1</td>\n",
       "    </tr>\n",
       "    <tr>\n",
       "      <th>5</th>\n",
       "      <td>82694</td>\n",
       "      <td>1420396485</td>\n",
       "      <td>Metatron at Dreamfarm | Projects of Earth</td>\n",
       "      <td>Sculpture</td>\n",
       "      <td>Art</td>\n",
       "      <td>USD</td>\n",
       "      <td>2017-10-04</td>\n",
       "      <td>20000.0</td>\n",
       "      <td>2017-09-04 19:46:51</td>\n",
       "      <td>80.00</td>\n",
       "      <td>failed</td>\n",
       "      <td>3</td>\n",
       "      <td>US</td>\n",
       "      <td>0.00</td>\n",
       "      <td>80.00</td>\n",
       "      <td>20000.00</td>\n",
       "      <td>0</td>\n",
       "      <td>1</td>\n",
       "    </tr>\n",
       "    <tr>\n",
       "      <th>6</th>\n",
       "      <td>103395</td>\n",
       "      <td>152570021</td>\n",
       "      <td>JILL TRACY Music Video directed by Jeremy Carr</td>\n",
       "      <td>Film &amp; Video</td>\n",
       "      <td>Film &amp; Video</td>\n",
       "      <td>USD</td>\n",
       "      <td>2013-08-22</td>\n",
       "      <td>3000.0</td>\n",
       "      <td>2013-07-22 22:40:11</td>\n",
       "      <td>7000.02</td>\n",
       "      <td>successful</td>\n",
       "      <td>161</td>\n",
       "      <td>US</td>\n",
       "      <td>7000.02</td>\n",
       "      <td>7000.02</td>\n",
       "      <td>3000.00</td>\n",
       "      <td>1</td>\n",
       "      <td>1</td>\n",
       "    </tr>\n",
       "    <tr>\n",
       "      <th>7</th>\n",
       "      <td>137672</td>\n",
       "      <td>1699174237</td>\n",
       "      <td>Dixie Dining: Touring the South's Best Homesty...</td>\n",
       "      <td>Nonfiction</td>\n",
       "      <td>Publishing</td>\n",
       "      <td>USD</td>\n",
       "      <td>2011-12-29</td>\n",
       "      <td>3000.0</td>\n",
       "      <td>2011-11-29 04:29:32</td>\n",
       "      <td>150.00</td>\n",
       "      <td>failed</td>\n",
       "      <td>3</td>\n",
       "      <td>US</td>\n",
       "      <td>150.00</td>\n",
       "      <td>150.00</td>\n",
       "      <td>3000.00</td>\n",
       "      <td>0</td>\n",
       "      <td>1</td>\n",
       "    </tr>\n",
       "    <tr>\n",
       "      <th>8</th>\n",
       "      <td>282012</td>\n",
       "      <td>504790940</td>\n",
       "      <td>Peewee Charmers - collectable character figuri...</td>\n",
       "      <td>Product Design</td>\n",
       "      <td>Design</td>\n",
       "      <td>AUD</td>\n",
       "      <td>2014-11-18</td>\n",
       "      <td>12000.0</td>\n",
       "      <td>2014-10-21 13:34:21</td>\n",
       "      <td>1163.00</td>\n",
       "      <td>canceled</td>\n",
       "      <td>18</td>\n",
       "      <td>AU</td>\n",
       "      <td>1021.55</td>\n",
       "      <td>1013.33</td>\n",
       "      <td>10455.69</td>\n",
       "      <td>0</td>\n",
       "      <td>0</td>\n",
       "    </tr>\n",
       "    <tr>\n",
       "      <th>9</th>\n",
       "      <td>337256</td>\n",
       "      <td>787833795</td>\n",
       "      <td>A Dissection of Bitcoin Source Code</td>\n",
       "      <td>Academic</td>\n",
       "      <td>Publishing</td>\n",
       "      <td>USD</td>\n",
       "      <td>2016-01-12</td>\n",
       "      <td>12000.0</td>\n",
       "      <td>2015-12-13 20:50:25</td>\n",
       "      <td>125.00</td>\n",
       "      <td>failed</td>\n",
       "      <td>5</td>\n",
       "      <td>US</td>\n",
       "      <td>125.00</td>\n",
       "      <td>125.00</td>\n",
       "      <td>12000.00</td>\n",
       "      <td>0</td>\n",
       "      <td>1</td>\n",
       "    </tr>\n",
       "  </tbody>\n",
       "</table>\n",
       "</div>"
      ],
      "text/plain": [
       "    index          ID                                               name  \\\n",
       "0  282457   507121107                        Send SueNami - DRAG Olympic   \n",
       "1   21536  1109218480  Candle M (marble) - scented, natural candle - ...   \n",
       "2   92944   147260139                                        COMING HOME   \n",
       "3  193854  1986737187               Hour Of The Wolf Reunion Show Comic.   \n",
       "4  286600   527953961          Howard Glitch: a multimedia jigsaw puzzle   \n",
       "5   82694  1420396485          Metatron at Dreamfarm | Projects of Earth   \n",
       "6  103395   152570021     JILL TRACY Music Video directed by Jeremy Carr   \n",
       "7  137672  1699174237  Dixie Dining: Touring the South's Best Homesty...   \n",
       "8  282012   504790940  Peewee Charmers - collectable character figuri...   \n",
       "9  337256   787833795                A Dissection of Bitcoin Source Code   \n",
       "\n",
       "         category main_category currency    deadline     goal  \\\n",
       "0      Nonfiction    Publishing      GBP  2014-07-19    270.0   \n",
       "1         Candles        Crafts      EUR  2017-01-31   1000.0   \n",
       "2     Documentary  Film & Video      USD  2012-06-07   3500.0   \n",
       "3     Comic Books        Comics      USD  2014-09-05    800.0   \n",
       "4    Illustration           Art      USD  2010-12-06   2600.0   \n",
       "5       Sculpture           Art      USD  2017-10-04  20000.0   \n",
       "6    Film & Video  Film & Video      USD  2013-08-22   3000.0   \n",
       "7      Nonfiction    Publishing      USD  2011-12-29   3000.0   \n",
       "8  Product Design        Design      AUD  2014-11-18  12000.0   \n",
       "9        Academic    Publishing      USD  2016-01-12  12000.0   \n",
       "\n",
       "              launched  pledged       state  backers country  usd pledged  \\\n",
       "0  2014-07-11 00:20:18     0.00      failed        0      GB         0.00   \n",
       "1  2017-01-12 07:05:53   445.00      failed       11      FR        52.75   \n",
       "2  2012-05-08 16:23:49  3864.00  successful       47      US      3864.00   \n",
       "3  2014-08-06 22:11:31   954.66  successful       46      US       954.66   \n",
       "4  2010-11-06 08:44:15  4101.09  successful      101      US      4101.09   \n",
       "5  2017-09-04 19:46:51    80.00      failed        3      US         0.00   \n",
       "6  2013-07-22 22:40:11  7000.02  successful      161      US      7000.02   \n",
       "7  2011-11-29 04:29:32   150.00      failed        3      US       150.00   \n",
       "8  2014-10-21 13:34:21  1163.00    canceled       18      AU      1021.55   \n",
       "9  2015-12-13 20:50:25   125.00      failed        5      US       125.00   \n",
       "\n",
       "   usd_pledged_real  usd_goal_real  goal_met  usd  \n",
       "0              0.00         458.68         0    0  \n",
       "1            477.98        1074.10         0    0  \n",
       "2           3864.00        3500.00         1    1  \n",
       "3            954.66         800.00         1    1  \n",
       "4           4101.09        2600.00         1    1  \n",
       "5             80.00       20000.00         0    1  \n",
       "6           7000.02        3000.00         1    1  \n",
       "7            150.00        3000.00         0    1  \n",
       "8           1013.33       10455.69         0    0  \n",
       "9            125.00       12000.00         0    1  "
      ]
     },
     "execution_count": 87,
     "metadata": {},
     "output_type": "execute_result"
    }
   ],
   "source": [
    "sample_k"
   ]
  },
  {
   "cell_type": "code",
   "execution_count": 89,
   "id": "3610f467",
   "metadata": {
    "scrolled": true
   },
   "outputs": [
    {
     "data": {
      "text/plain": [
       "0      0\n",
       "5      3\n",
       "9      5\n",
       "7      3\n",
       "1     11\n",
       "3     46\n",
       "8     18\n",
       "2     47\n",
       "4    101\n",
       "6    161\n",
       "Name: backers, dtype: int64"
      ]
     },
     "execution_count": 89,
     "metadata": {},
     "output_type": "execute_result"
    }
   ],
   "source": [
    "ys= sample_k['backers'][np.unique(sample_k['usd_pledged_real'], return_index= True)[1]]\n",
    "ys\n",
    "\n"
   ]
  },
  {
   "cell_type": "code",
   "execution_count": 90,
   "id": "0d4ab51f",
   "metadata": {},
   "outputs": [
    {
     "data": {
      "text/plain": [
       "<scipy.interpolate.interpolate.interp1d at 0x7fada3eb4f90>"
      ]
     },
     "execution_count": 90,
     "metadata": {},
     "output_type": "execute_result"
    }
   ],
   "source": [
    "y1= interp1d(xs, ys, kind= 'cubic')\n",
    "y1"
   ]
  },
  {
   "cell_type": "code",
   "execution_count": 92,
   "id": "ca14f45c",
   "metadata": {},
   "outputs": [
    {
     "data": {
      "text/plain": [
       "[<matplotlib.lines.Line2D at 0x7fada40bc070>]"
      ]
     },
     "execution_count": 92,
     "metadata": {},
     "output_type": "execute_result"
    },
    {
     "data": {
      "image/png": "[encoded data removed]",
      "text/plain": [
       "<Figure size 432x288 with 1 Axes>"
      ]
     },
     "metadata": {
      "needs_background": "light"
     },
     "output_type": "display_data"
    }
   ],
   "source": [
    "plt.plot(x_news, y1(x_news))"
   ]
  },
  {
   "cell_type": "code",
   "execution_count": null,
   "id": "7234f242",
   "metadata": {},
   "outputs": [],
   "source": []
  }
 ],
 "metadata": {
  "kernelspec": {
   "display_name": "Python 3 (ipykernel)",
   "language": "python",
   "name": "python3"
  },
  "language_info": {
   "codemirror_mode": {
    "name": "ipython",
    "version": 3
   },
   "file_extension": ".py",
   "mimetype": "text/x-python",
   "name": "python",
   "nbconvert_exporter": "python",
   "pygments_lexer": "ipython3",
   "version": "3.9.12"
  }
 },
 "nbformat": 4,
 "nbformat_minor": 5
}
