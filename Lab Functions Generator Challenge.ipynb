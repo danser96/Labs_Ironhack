{
 "cells": [
  {
   "cell_type": "markdown",
   "id": "e68c4389",
   "metadata": {},
   "source": [
    "# Challenge 1 - Functions.\n",
    "\n",
    "A function is a block of organized, reusable code that is used to perform a single, related action. Functions provide better modularity for your application and a high degree of code reusing. Create a function to find the summation of the number of every number from 1 to num."
   ]
  },
  {
   "cell_type": "code",
   "execution_count": 1,
   "id": "b062e1e1",
   "metadata": {},
   "outputs": [],
   "source": [
    "num = 76"
   ]
  },
  {
   "cell_type": "code",
   "execution_count": 2,
   "id": "866118ed",
   "metadata": {},
   "outputs": [],
   "source": [
    "def summation(num):\n",
    "    return sum(range(1,num))\n",
    "    "
   ]
  },
  {
   "cell_type": "code",
   "execution_count": 8,
   "id": "410b210f",
   "metadata": {},
   "outputs": [
    {
     "name": "stdout",
     "output_type": "stream",
     "text": [
      "2850\n"
     ]
    }
   ],
   "source": [
    "print(summation(num))"
   ]
  },
  {
   "cell_type": "markdown",
   "id": "51c687c8",
   "metadata": {},
   "source": [
    "# Challenge 2 - Positional arguments, Args and Kwargs.\n",
    "\n",
    "The syntax args and **kwargs in function definitions is used to pass a variable number of arguments to a function. The single asterisk form (args) is used to pass a non-keyworded, variable-length argument list, and the double asterisk form is used to pass a keyworded, variable-length argument list. Create a function to find the summation of all elements of the array."
   ]
  },
  {
   "cell_type": "code",
   "execution_count": 14,
   "id": "02e05176",
   "metadata": {},
   "outputs": [],
   "source": [
    "import numpy as np"
   ]
  },
  {
   "cell_type": "code",
   "execution_count": 87,
   "id": "b58d2f01",
   "metadata": {},
   "outputs": [],
   "source": [
    "array=[3, 8, 16]"
   ]
  },
  {
   "cell_type": "code",
   "execution_count": 28,
   "id": "ce6af8ce",
   "metadata": {},
   "outputs": [
    {
     "name": "stdout",
     "output_type": "stream",
     "text": [
      "3\n",
      "(8, 16)\n"
     ]
    }
   ],
   "source": [
    "def summation2(a, *b):\n",
    "    print(a)\n",
    "    print(b)\n",
    "\n",
    "summation2(3,8,16)"
   ]
  },
  {
   "cell_type": "code",
   "execution_count": 30,
   "id": "ff6b0706",
   "metadata": {},
   "outputs": [
    {
     "name": "stdout",
     "output_type": "stream",
     "text": [
      "27\n"
     ]
    }
   ],
   "source": [
    "def summation2(a, *b):\n",
    "    c= a\n",
    "    for i in b:\n",
    "        c = c + i\n",
    "    print(c)\n",
    "\n",
    "summation2(3,8,16)"
   ]
  },
  {
   "cell_type": "code",
   "execution_count": 91,
   "id": "f6dad575",
   "metadata": {},
   "outputs": [
    {
     "name": "stdout",
     "output_type": "stream",
     "text": [
      "27\n"
     ]
    }
   ],
   "source": [
    "def summation2(*b):\n",
    "    c= 0\n",
    "    for i in b:\n",
    "        c = c + i\n",
    "    print(c)\n",
    "\n",
    "summation2(3,8,16)"
   ]
  },
  {
   "cell_type": "code",
   "execution_count": 93,
   "id": "51378509",
   "metadata": {},
   "outputs": [
    {
     "data": {
      "text/plain": [
       "27"
      ]
     },
     "execution_count": 93,
     "metadata": {},
     "output_type": "execute_result"
    }
   ],
   "source": [
    "def summation2(*args):\n",
    "    return sum(*args)\n",
    "\n",
    "summation2(array)"
   ]
  },
  {
   "cell_type": "markdown",
   "id": "f3f874d8",
   "metadata": {},
   "source": [
    "Now, do the same thing with positional arguments."
   ]
  },
  {
   "cell_type": "code",
   "execution_count": 31,
   "id": "33ff6ae3",
   "metadata": {},
   "outputs": [
    {
     "name": "stdout",
     "output_type": "stream",
     "text": [
      "27\n"
     ]
    }
   ],
   "source": [
    "def summation3(a, b, c):\n",
    "    x = a + b + c\n",
    "    print(x)\n",
    "    \n",
    "summation3(3,8,16)"
   ]
  },
  {
   "cell_type": "markdown",
   "id": "8d782939",
   "metadata": {},
   "source": [
    "Given the next dictionary of M&Ms, create a function to sum all non red M&Ms."
   ]
  },
  {
   "cell_type": "code",
   "execution_count": 52,
   "id": "cc5c5383",
   "metadata": {},
   "outputs": [],
   "source": [
    "mydictionary={'red':3, 'blue':8, 'green':24, 'orange':12, 'purple':10}"
   ]
  },
  {
   "cell_type": "code",
   "execution_count": 59,
   "id": "ea287701",
   "metadata": {},
   "outputs": [
    {
     "name": "stdout",
     "output_type": "stream",
     "text": [
      "Sum : 54\n"
     ]
    }
   ],
   "source": [
    "def returnsum(mydictionary):\n",
    "    list = []\n",
    "    for i in mydictionary:\n",
    "        if i != \"red\":\n",
    "            list.append(mydictionary[i])\n",
    "    final = sum(list)\n",
    " \n",
    "    return final\n",
    "print(\"Sum :\", returnsum(mydictionary))\n",
    "\n"
   ]
  },
  {
   "cell_type": "markdown",
   "id": "c6b6aaa9",
   "metadata": {},
   "source": [
    "#Below, create a function to sum all following elements."
   ]
  },
  {
   "cell_type": "code",
   "execution_count": 60,
   "id": "893211c3",
   "metadata": {},
   "outputs": [],
   "source": [
    "a=4\n",
    "b=6\n",
    "c=15\n",
    "d=[48, 465, 23, 96]\n",
    "e={'A':16, 'B':32, 'C':64}"
   ]
  },
  {
   "cell_type": "code",
   "execution_count": 66,
   "id": "682f5b8f",
   "metadata": {},
   "outputs": [
    {
     "name": "stdout",
     "output_type": "stream",
     "text": [
      "4\n",
      "6\n",
      "15\n",
      "(48, 465, 23, 96, 16, 32, 64)\n"
     ]
    }
   ],
   "source": [
    "def summation5(a,b,c,*d):\n",
    "    print(a)\n",
    "    print(b)\n",
    "    print(c)\n",
    "    print(d)\n",
    "\n",
    "summation5(4,6,15,48,465,23,96,16,32,64)"
   ]
  },
  {
   "cell_type": "code",
   "execution_count": 83,
   "id": "db478257",
   "metadata": {},
   "outputs": [
    {
     "name": "stdout",
     "output_type": "stream",
     "text": [
      "769\n"
     ]
    }
   ],
   "source": [
    "def summation5(a,b,c,*d):\n",
    "    x= a+b+c\n",
    "    for i in d:\n",
    "        x = x + i\n",
    "    print(x)\n",
    "\n",
    "summation5(4,6,15,48,465,23,96,16,32,64)"
   ]
  },
  {
   "cell_type": "code",
   "execution_count": 86,
   "id": "f578b0b5",
   "metadata": {},
   "outputs": [
    {
     "data": {
      "text/plain": [
       "769"
      ]
     },
     "execution_count": 86,
     "metadata": {},
     "output_type": "execute_result"
    }
   ],
   "source": [
    "def summation5(a,b,c,d,e):\n",
    "    result5= a+b+c+sum(d)+sum(e.values())\n",
    "    return result5\n",
    "summation5(a,b,c,d,e)"
   ]
  },
  {
   "cell_type": "markdown",
   "id": "c419eb83",
   "metadata": {},
   "source": [
    "# Challenge 3 - Iterators, Generators and yield.\n",
    "\n",
    "In iterator in Python is an object that represents a stream of data. However, iterators contain a countable number of values. We traverse through the iterator and return one value at a time. All iterators support a next function that allows us to traverse through the iterator. We can create an iterator using the iter function that comes with the base package of Python. Below is an example of an iterator."
   ]
  },
  {
   "cell_type": "code",
   "execution_count": 70,
   "id": "9ceb34c0",
   "metadata": {},
   "outputs": [
    {
     "name": "stdout",
     "output_type": "stream",
     "text": [
      "1\n",
      "2\n",
      "3\n"
     ]
    }
   ],
   "source": [
    "iterator = iter([1,2,3])\n",
    "\n",
    "for i in iterator:\n",
    "    print(i)"
   ]
  },
  {
   "cell_type": "markdown",
   "id": "db83682a",
   "metadata": {},
   "source": [
    "In the cell below, write a function that takes an iterator and returns the first element in the iterator and returns the first element in the iterator that is divisible by 2. Assume that all iterators contain only numeric data. If we have not found a single element that is divisible by 2, return zero."
   ]
  },
  {
   "cell_type": "code",
   "execution_count": 110,
   "id": "3ef9480f",
   "metadata": {},
   "outputs": [],
   "source": [
    "iterator = iter([1,2,3])\n",
    "\n",
    "def divisible2(iterator):\n",
    "    for i in iterator:\n",
    "        if i % 2 == 0:\n",
    "             return i\n",
    "\n"
   ]
  },
  {
   "cell_type": "code",
   "execution_count": 111,
   "id": "9109a079",
   "metadata": {},
   "outputs": [
    {
     "data": {
      "text/plain": [
       "2"
      ]
     },
     "execution_count": 111,
     "metadata": {},
     "output_type": "execute_result"
    }
   ],
   "source": [
    "divisible2(iterator)"
   ]
  },
  {
   "cell_type": "markdown",
   "id": "6294aa9b",
   "metadata": {},
   "source": [
    "# Generators\n",
    "\n",
    "It is quite difficult to create your own iterator since you would have to implement a next function. Generators are functions that enable us to create iterators. The difference between a function and a generator is that instead of using return, we use yield. For example, below we have a function that returns an iterator containing the numbers 0 through n:"
   ]
  },
  {
   "cell_type": "code",
   "execution_count": 4,
   "id": "811d102b",
   "metadata": {},
   "outputs": [],
   "source": [
    "def firstn(n):\n",
    "     number = 0\n",
    "     while number < n:\n",
    "         yield number\n",
    "         number = number + 1"
   ]
  },
  {
   "cell_type": "code",
   "execution_count": 7,
   "id": "fd780ae2",
   "metadata": {},
   "outputs": [
    {
     "name": "stdout",
     "output_type": "stream",
     "text": [
      "0\n",
      "1\n",
      "2\n",
      "3\n",
      "4\n"
     ]
    }
   ],
   "source": [
    "iterator = firstn(5)\n",
    "\n",
    "for i in iterator:\n",
    "    print (i)\n"
   ]
  },
  {
   "cell_type": "markdown",
   "id": "a1c31da8",
   "metadata": {},
   "source": [
    "In the cell below, create a generator that takes a number and returns an iterator containing all even numbers between 0 and the number you passed to the generator."
   ]
  },
  {
   "cell_type": "code",
   "execution_count": 2,
   "id": "4ee297b7",
   "metadata": {},
   "outputs": [],
   "source": [
    "def even_iterator(n):\n",
    "    n -= 1\n",
    "    while True:\n",
    "        yield n\n",
    "        n += 1"
   ]
  },
  {
   "cell_type": "code",
   "execution_count": 3,
   "id": "315f7185",
   "metadata": {},
   "outputs": [
    {
     "data": {
      "text/plain": [
       "<generator object even_iterator at 0x7fe96dd5f4a0>"
      ]
     },
     "execution_count": 3,
     "metadata": {},
     "output_type": "execute_result"
    }
   ],
   "source": [
    "even_iterator(5)"
   ]
  },
  {
   "cell_type": "code",
   "execution_count": 6,
   "id": "deeb67b1",
   "metadata": {},
   "outputs": [
    {
     "name": "stdout",
     "output_type": "stream",
     "text": [
      "[0, 2, 4, 6, 8, 10, 12, 14, 16, 18, 20, 22, 24, 26, 28, 30, 32, 34, 36, 38, 40, 42, 44, 46, 48, 50, 52, 54, 56, 58, 60, 62, 64, 66, 68, 70, 72, 74, 76, 78, 80, 82, 84, 86, 88, 90, 92, 94, 96, 98]\n"
     ]
    }
   ],
   "source": [
    "even_num = (x for x in range(100)\n",
    "           if x % 2 == 0)\n",
    "\n",
    "even_num_list = list(even_num)\n",
    "print(even_num_list)"
   ]
  },
  {
   "cell_type": "code",
   "execution_count": 1,
   "id": "2d516e87",
   "metadata": {},
   "outputs": [],
   "source": [
    "def even_iterator(n):\n",
    "    num= [i for i in range (0,n,2)]\n",
    "    yield num\n",
    "            "
   ]
  },
  {
   "cell_type": "code",
   "execution_count": 3,
   "id": "ec6f5ddf",
   "metadata": {},
   "outputs": [
    {
     "name": "stdout",
     "output_type": "stream",
     "text": [
      "[0, 2, 4, 6, 8]\n"
     ]
    }
   ],
   "source": [
    "resultado = even_iterator(10)\n",
    "for i in resultado:\n",
    "    print(i)"
   ]
  },
  {
   "cell_type": "code",
   "execution_count": null,
   "id": "601be722",
   "metadata": {},
   "outputs": [],
   "source": []
  },
  {
   "cell_type": "code",
   "execution_count": null,
   "id": "57e6cb50",
   "metadata": {},
   "outputs": [],
   "source": []
  }
 ],
 "metadata": {
  "kernelspec": {
   "display_name": "Python 3 (ipykernel)",
   "language": "python",
   "name": "python3"
  },
  "language_info": {
   "codemirror_mode": {
    "name": "ipython",
    "version": 3
   },
   "file_extension": ".py",
   "mimetype": "text/x-python",
   "name": "python",
   "nbconvert_exporter": "python",
   "pygments_lexer": "ipython3",
   "version": "3.9.12"
  }
 },
 "nbformat": 4,
 "nbformat_minor": 5
}
